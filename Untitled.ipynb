{
 "cells": [
  {
   "cell_type": "code",
   "execution_count": 1,
   "metadata": {
    "collapsed": true
   },
   "outputs": [],
   "source": [
    "import graphlab"
   ]
  },
  {
   "cell_type": "code",
   "execution_count": 4,
   "metadata": {
    "collapsed": false
   },
   "outputs": [
    {
     "data": {
      "text/html": [
       "<pre>Finished parsing file /home/os-net/kartik-himadri-BTP/Dataset/ISCX_Botnet-Testing.csv</pre>"
      ],
      "text/plain": [
       "Finished parsing file /home/os-net/kartik-himadri-BTP/Dataset/ISCX_Botnet-Testing.csv"
      ]
     },
     "metadata": {},
     "output_type": "display_data"
    },
    {
     "data": {
      "text/html": [
       "<pre>Parsing completed. Parsed 100 lines in 1.27686 secs.</pre>"
      ],
      "text/plain": [
       "Parsing completed. Parsed 100 lines in 1.27686 secs."
      ]
     },
     "metadata": {},
     "output_type": "display_data"
    },
    {
     "name": "stdout",
     "output_type": "stream",
     "text": [
      "------------------------------------------------------\n",
      "Inferred types from first 100 line(s) of file as \n",
      "column_type_hints=[int,float,str,str,str,int,str,str,str,str,str,str,str,str,str,str,str,str,str,str,str,str,str,str,str]\n",
      "If parsing fails due to incorrect types, you can correct\n",
      "the inferred type list above and pass it to read_csv in\n",
      "the column_type_hints argument\n",
      "------------------------------------------------------\n"
     ]
    },
    {
     "data": {
      "text/html": [
       "<pre>Read 176514 lines. Lines per second: 140263</pre>"
      ],
      "text/plain": [
       "Read 176514 lines. Lines per second: 140263"
      ]
     },
     "metadata": {},
     "output_type": "display_data"
    },
    {
     "data": {
      "text/html": [
       "<pre>Read 1471970 lines. Lines per second: 221435</pre>"
      ],
      "text/plain": [
       "Read 1471970 lines. Lines per second: 221435"
      ]
     },
     "metadata": {},
     "output_type": "display_data"
    },
    {
     "data": {
      "text/html": [
       "<pre>Read 2878577 lines. Lines per second: 232125</pre>"
      ],
      "text/plain": [
       "Read 2878577 lines. Lines per second: 232125"
      ]
     },
     "metadata": {},
     "output_type": "display_data"
    },
    {
     "data": {
      "text/html": [
       "<pre>Read 4058710 lines. Lines per second: 233898</pre>"
      ],
      "text/plain": [
       "Read 4058710 lines. Lines per second: 233898"
      ]
     },
     "metadata": {},
     "output_type": "display_data"
    },
    {
     "data": {
      "text/html": [
       "<pre>Finished parsing file /home/os-net/kartik-himadri-BTP/Dataset/ISCX_Botnet-Testing.csv</pre>"
      ],
      "text/plain": [
       "Finished parsing file /home/os-net/kartik-himadri-BTP/Dataset/ISCX_Botnet-Testing.csv"
      ]
     },
     "metadata": {},
     "output_type": "display_data"
    },
    {
     "data": {
      "text/html": [
       "<pre>Parsing completed. Parsed 5114514 lines in 21.912 secs.</pre>"
      ],
      "text/plain": [
       "Parsing completed. Parsed 5114514 lines in 21.912 secs."
      ]
     },
     "metadata": {},
     "output_type": "display_data"
    }
   ],
   "source": [
    "SF = graphlab.SFrame.read_csv('ISCX_Botnet-Testing.csv')"
   ]
  },
  {
   "cell_type": "code",
   "execution_count": 3,
   "metadata": {
    "collapsed": false
   },
   "outputs": [
    {
     "data": {
      "text/plain": [
       "['No.',\n",
       " 'Time',\n",
       " 'Source',\n",
       " 'Destination',\n",
       " 'Protocol',\n",
       " 'Length',\n",
       " 'Source Port',\n",
       " 'Destination Port',\n",
       " 'udp_Length',\n",
       " 'TCP Segment Len',\n",
       " 'Answer RRs',\n",
       " 'tcp_Flags',\n",
       " 'Protocols in frame',\n",
       " 'Sequence number',\n",
       " 'Time to live',\n",
       " 'Source GeoIP Country',\n",
       " 'Source GeoIP Latitude',\n",
       " 'Source GeoIP Longitude',\n",
       " 'Destination GeoIP Country',\n",
       " 'Destination GeoIP Latitude',\n",
       " 'Destination GeoIP Longitude',\n",
       " 'Next sequence number',\n",
       " 'Differentiated Services Field',\n",
       " 'IP_Flags',\n",
       " 'Info']"
      ]
     },
     "execution_count": 3,
     "metadata": {},
     "output_type": "execute_result"
    }
   ],
   "source": [
    "SF.column_names()"
   ]
  },
  {
   "cell_type": "code",
   "execution_count": 4,
   "metadata": {
    "collapsed": false
   },
   "outputs": [
    {
     "data": {
      "text/html": [
       "<div style=\"max-height:1000px;max-width:1500px;overflow:auto;\"><table frame=\"box\" rules=\"cols\">\n",
       "    <tr>\n",
       "        <th style=\"padding-left: 1em; padding-right: 1em; text-align: center\">No.</th>\n",
       "        <th style=\"padding-left: 1em; padding-right: 1em; text-align: center\">Time</th>\n",
       "        <th style=\"padding-left: 1em; padding-right: 1em; text-align: center\">Source</th>\n",
       "        <th style=\"padding-left: 1em; padding-right: 1em; text-align: center\">Destination</th>\n",
       "        <th style=\"padding-left: 1em; padding-right: 1em; text-align: center\">Protocol</th>\n",
       "        <th style=\"padding-left: 1em; padding-right: 1em; text-align: center\">Length</th>\n",
       "        <th style=\"padding-left: 1em; padding-right: 1em; text-align: center\">Source Port</th>\n",
       "        <th style=\"padding-left: 1em; padding-right: 1em; text-align: center\">Destination Port</th>\n",
       "        <th style=\"padding-left: 1em; padding-right: 1em; text-align: center\">udp_Length</th>\n",
       "        <th style=\"padding-left: 1em; padding-right: 1em; text-align: center\">TCP Segment Len</th>\n",
       "    </tr>\n",
       "    <tr>\n",
       "        <td style=\"padding-left: 1em; padding-right: 1em; text-align: center; vertical-align: top\">1</td>\n",
       "        <td style=\"padding-left: 1em; padding-right: 1em; text-align: center; vertical-align: top\">0.0</td>\n",
       "        <td style=\"padding-left: 1em; padding-right: 1em; text-align: center; vertical-align: top\"></td>\n",
       "        <td style=\"padding-left: 1em; padding-right: 1em; text-align: center; vertical-align: top\"></td>\n",
       "        <td style=\"padding-left: 1em; padding-right: 1em; text-align: center; vertical-align: top\">Ethernet</td>\n",
       "        <td style=\"padding-left: 1em; padding-right: 1em; text-align: center; vertical-align: top\">60</td>\n",
       "        <td style=\"padding-left: 1em; padding-right: 1em; text-align: center; vertical-align: top\"></td>\n",
       "        <td style=\"padding-left: 1em; padding-right: 1em; text-align: center; vertical-align: top\"></td>\n",
       "        <td style=\"padding-left: 1em; padding-right: 1em; text-align: center; vertical-align: top\"></td>\n",
       "        <td style=\"padding-left: 1em; padding-right: 1em; text-align: center; vertical-align: top\"></td>\n",
       "    </tr>\n",
       "    <tr>\n",
       "        <td style=\"padding-left: 1em; padding-right: 1em; text-align: center; vertical-align: top\">2</td>\n",
       "        <td style=\"padding-left: 1em; padding-right: 1em; text-align: center; vertical-align: top\">6.985427</td>\n",
       "        <td style=\"padding-left: 1em; padding-right: 1em; text-align: center; vertical-align: top\">0.0.0.0</td>\n",
       "        <td style=\"padding-left: 1em; padding-right: 1em; text-align: center; vertical-align: top\">255.255.255.255</td>\n",
       "        <td style=\"padding-left: 1em; padding-right: 1em; text-align: center; vertical-align: top\">DHCP</td>\n",
       "        <td style=\"padding-left: 1em; padding-right: 1em; text-align: center; vertical-align: top\">348</td>\n",
       "        <td style=\"padding-left: 1em; padding-right: 1em; text-align: center; vertical-align: top\">68</td>\n",
       "        <td style=\"padding-left: 1em; padding-right: 1em; text-align: center; vertical-align: top\">67</td>\n",
       "        <td style=\"padding-left: 1em; padding-right: 1em; text-align: center; vertical-align: top\">314</td>\n",
       "        <td style=\"padding-left: 1em; padding-right: 1em; text-align: center; vertical-align: top\"></td>\n",
       "    </tr>\n",
       "    <tr>\n",
       "        <td style=\"padding-left: 1em; padding-right: 1em; text-align: center; vertical-align: top\">3</td>\n",
       "        <td style=\"padding-left: 1em; padding-right: 1em; text-align: center; vertical-align: top\">6.985565</td>\n",
       "        <td style=\"padding-left: 1em; padding-right: 1em; text-align: center; vertical-align: top\">10.0.2.2</td>\n",
       "        <td style=\"padding-left: 1em; padding-right: 1em; text-align: center; vertical-align: top\">10.0.2.15</td>\n",
       "        <td style=\"padding-left: 1em; padding-right: 1em; text-align: center; vertical-align: top\">DHCP</td>\n",
       "        <td style=\"padding-left: 1em; padding-right: 1em; text-align: center; vertical-align: top\">590</td>\n",
       "        <td style=\"padding-left: 1em; padding-right: 1em; text-align: center; vertical-align: top\">67</td>\n",
       "        <td style=\"padding-left: 1em; padding-right: 1em; text-align: center; vertical-align: top\">68</td>\n",
       "        <td style=\"padding-left: 1em; padding-right: 1em; text-align: center; vertical-align: top\">556</td>\n",
       "        <td style=\"padding-left: 1em; padding-right: 1em; text-align: center; vertical-align: top\"></td>\n",
       "    </tr>\n",
       "    <tr>\n",
       "        <td style=\"padding-left: 1em; padding-right: 1em; text-align: center; vertical-align: top\">4</td>\n",
       "        <td style=\"padding-left: 1em; padding-right: 1em; text-align: center; vertical-align: top\">6.985927</td>\n",
       "        <td style=\"padding-left: 1em; padding-right: 1em; text-align: center; vertical-align: top\">0.0.0.0</td>\n",
       "        <td style=\"padding-left: 1em; padding-right: 1em; text-align: center; vertical-align: top\">255.255.255.255</td>\n",
       "        <td style=\"padding-left: 1em; padding-right: 1em; text-align: center; vertical-align: top\">DHCP</td>\n",
       "        <td style=\"padding-left: 1em; padding-right: 1em; text-align: center; vertical-align: top\">373</td>\n",
       "        <td style=\"padding-left: 1em; padding-right: 1em; text-align: center; vertical-align: top\">68</td>\n",
       "        <td style=\"padding-left: 1em; padding-right: 1em; text-align: center; vertical-align: top\">67</td>\n",
       "        <td style=\"padding-left: 1em; padding-right: 1em; text-align: center; vertical-align: top\">339</td>\n",
       "        <td style=\"padding-left: 1em; padding-right: 1em; text-align: center; vertical-align: top\"></td>\n",
       "    </tr>\n",
       "    <tr>\n",
       "        <td style=\"padding-left: 1em; padding-right: 1em; text-align: center; vertical-align: top\">5</td>\n",
       "        <td style=\"padding-left: 1em; padding-right: 1em; text-align: center; vertical-align: top\">6.985998</td>\n",
       "        <td style=\"padding-left: 1em; padding-right: 1em; text-align: center; vertical-align: top\">10.0.2.2</td>\n",
       "        <td style=\"padding-left: 1em; padding-right: 1em; text-align: center; vertical-align: top\">10.0.2.15</td>\n",
       "        <td style=\"padding-left: 1em; padding-right: 1em; text-align: center; vertical-align: top\">DHCP</td>\n",
       "        <td style=\"padding-left: 1em; padding-right: 1em; text-align: center; vertical-align: top\">590</td>\n",
       "        <td style=\"padding-left: 1em; padding-right: 1em; text-align: center; vertical-align: top\">67</td>\n",
       "        <td style=\"padding-left: 1em; padding-right: 1em; text-align: center; vertical-align: top\">68</td>\n",
       "        <td style=\"padding-left: 1em; padding-right: 1em; text-align: center; vertical-align: top\">556</td>\n",
       "        <td style=\"padding-left: 1em; padding-right: 1em; text-align: center; vertical-align: top\"></td>\n",
       "    </tr>\n",
       "</table>\n",
       "<table frame=\"box\" rules=\"cols\">\n",
       "    <tr>\n",
       "        <th style=\"padding-left: 1em; padding-right: 1em; text-align: center\">Answer RRs</th>\n",
       "        <th style=\"padding-left: 1em; padding-right: 1em; text-align: center\">tcp_Flags</th>\n",
       "        <th style=\"padding-left: 1em; padding-right: 1em; text-align: center\">Protocols in frame</th>\n",
       "        <th style=\"padding-left: 1em; padding-right: 1em; text-align: center\">Sequence number</th>\n",
       "        <th style=\"padding-left: 1em; padding-right: 1em; text-align: center\">Time to live</th>\n",
       "        <th style=\"padding-left: 1em; padding-right: 1em; text-align: center\">Source GeoIP Country</th>\n",
       "        <th style=\"padding-left: 1em; padding-right: 1em; text-align: center\">Source GeoIP Latitude</th>\n",
       "    </tr>\n",
       "    <tr>\n",
       "        <td style=\"padding-left: 1em; padding-right: 1em; text-align: center; vertical-align: top\"></td>\n",
       "        <td style=\"padding-left: 1em; padding-right: 1em; text-align: center; vertical-align: top\"></td>\n",
       "        <td style=\"padding-left: 1em; padding-right: 1em; text-align: center; vertical-align: top\">eth</td>\n",
       "        <td style=\"padding-left: 1em; padding-right: 1em; text-align: center; vertical-align: top\"></td>\n",
       "        <td style=\"padding-left: 1em; padding-right: 1em; text-align: center; vertical-align: top\"></td>\n",
       "        <td style=\"padding-left: 1em; padding-right: 1em; text-align: center; vertical-align: top\"></td>\n",
       "        <td style=\"padding-left: 1em; padding-right: 1em; text-align: center; vertical-align: top\"></td>\n",
       "    </tr>\n",
       "    <tr>\n",
       "        <td style=\"padding-left: 1em; padding-right: 1em; text-align: center; vertical-align: top\"></td>\n",
       "        <td style=\"padding-left: 1em; padding-right: 1em; text-align: center; vertical-align: top\"></td>\n",
       "        <td style=\"padding-left: 1em; padding-right: 1em; text-align: center; vertical-align: top\">eth:ethertype:ip:udp:boot<br>p ...</td>\n",
       "        <td style=\"padding-left: 1em; padding-right: 1em; text-align: center; vertical-align: top\"></td>\n",
       "        <td style=\"padding-left: 1em; padding-right: 1em; text-align: center; vertical-align: top\">128</td>\n",
       "        <td style=\"padding-left: 1em; padding-right: 1em; text-align: center; vertical-align: top\"></td>\n",
       "        <td style=\"padding-left: 1em; padding-right: 1em; text-align: center; vertical-align: top\"></td>\n",
       "    </tr>\n",
       "    <tr>\n",
       "        <td style=\"padding-left: 1em; padding-right: 1em; text-align: center; vertical-align: top\"></td>\n",
       "        <td style=\"padding-left: 1em; padding-right: 1em; text-align: center; vertical-align: top\"></td>\n",
       "        <td style=\"padding-left: 1em; padding-right: 1em; text-align: center; vertical-align: top\">eth:ethertype:ip:udp:boot<br>p ...</td>\n",
       "        <td style=\"padding-left: 1em; padding-right: 1em; text-align: center; vertical-align: top\"></td>\n",
       "        <td style=\"padding-left: 1em; padding-right: 1em; text-align: center; vertical-align: top\">64</td>\n",
       "        <td style=\"padding-left: 1em; padding-right: 1em; text-align: center; vertical-align: top\"></td>\n",
       "        <td style=\"padding-left: 1em; padding-right: 1em; text-align: center; vertical-align: top\"></td>\n",
       "    </tr>\n",
       "    <tr>\n",
       "        <td style=\"padding-left: 1em; padding-right: 1em; text-align: center; vertical-align: top\"></td>\n",
       "        <td style=\"padding-left: 1em; padding-right: 1em; text-align: center; vertical-align: top\"></td>\n",
       "        <td style=\"padding-left: 1em; padding-right: 1em; text-align: center; vertical-align: top\">eth:ethertype:ip:udp:boot<br>p ...</td>\n",
       "        <td style=\"padding-left: 1em; padding-right: 1em; text-align: center; vertical-align: top\"></td>\n",
       "        <td style=\"padding-left: 1em; padding-right: 1em; text-align: center; vertical-align: top\">128</td>\n",
       "        <td style=\"padding-left: 1em; padding-right: 1em; text-align: center; vertical-align: top\"></td>\n",
       "        <td style=\"padding-left: 1em; padding-right: 1em; text-align: center; vertical-align: top\"></td>\n",
       "    </tr>\n",
       "    <tr>\n",
       "        <td style=\"padding-left: 1em; padding-right: 1em; text-align: center; vertical-align: top\"></td>\n",
       "        <td style=\"padding-left: 1em; padding-right: 1em; text-align: center; vertical-align: top\"></td>\n",
       "        <td style=\"padding-left: 1em; padding-right: 1em; text-align: center; vertical-align: top\">eth:ethertype:ip:udp:boot<br>p ...</td>\n",
       "        <td style=\"padding-left: 1em; padding-right: 1em; text-align: center; vertical-align: top\"></td>\n",
       "        <td style=\"padding-left: 1em; padding-right: 1em; text-align: center; vertical-align: top\">64</td>\n",
       "        <td style=\"padding-left: 1em; padding-right: 1em; text-align: center; vertical-align: top\"></td>\n",
       "        <td style=\"padding-left: 1em; padding-right: 1em; text-align: center; vertical-align: top\"></td>\n",
       "    </tr>\n",
       "</table>\n",
       "<table frame=\"box\" rules=\"cols\">\n",
       "    <tr>\n",
       "        <th style=\"padding-left: 1em; padding-right: 1em; text-align: center\">Source GeoIP Longitude</th>\n",
       "        <th style=\"padding-left: 1em; padding-right: 1em; text-align: center\">Destination GeoIP Country</th>\n",
       "        <th style=\"padding-left: 1em; padding-right: 1em; text-align: center\">Destination GeoIP<br>Latitude ...</th>\n",
       "        <th style=\"padding-left: 1em; padding-right: 1em; text-align: center\">Destination GeoIP<br>Longitude ...</th>\n",
       "        <th style=\"padding-left: 1em; padding-right: 1em; text-align: center\">Next sequence number</th>\n",
       "    </tr>\n",
       "    <tr>\n",
       "        <td style=\"padding-left: 1em; padding-right: 1em; text-align: center; vertical-align: top\"></td>\n",
       "        <td style=\"padding-left: 1em; padding-right: 1em; text-align: center; vertical-align: top\"></td>\n",
       "        <td style=\"padding-left: 1em; padding-right: 1em; text-align: center; vertical-align: top\"></td>\n",
       "        <td style=\"padding-left: 1em; padding-right: 1em; text-align: center; vertical-align: top\"></td>\n",
       "        <td style=\"padding-left: 1em; padding-right: 1em; text-align: center; vertical-align: top\"></td>\n",
       "    </tr>\n",
       "    <tr>\n",
       "        <td style=\"padding-left: 1em; padding-right: 1em; text-align: center; vertical-align: top\"></td>\n",
       "        <td style=\"padding-left: 1em; padding-right: 1em; text-align: center; vertical-align: top\"></td>\n",
       "        <td style=\"padding-left: 1em; padding-right: 1em; text-align: center; vertical-align: top\"></td>\n",
       "        <td style=\"padding-left: 1em; padding-right: 1em; text-align: center; vertical-align: top\"></td>\n",
       "        <td style=\"padding-left: 1em; padding-right: 1em; text-align: center; vertical-align: top\"></td>\n",
       "    </tr>\n",
       "    <tr>\n",
       "        <td style=\"padding-left: 1em; padding-right: 1em; text-align: center; vertical-align: top\"></td>\n",
       "        <td style=\"padding-left: 1em; padding-right: 1em; text-align: center; vertical-align: top\"></td>\n",
       "        <td style=\"padding-left: 1em; padding-right: 1em; text-align: center; vertical-align: top\"></td>\n",
       "        <td style=\"padding-left: 1em; padding-right: 1em; text-align: center; vertical-align: top\"></td>\n",
       "        <td style=\"padding-left: 1em; padding-right: 1em; text-align: center; vertical-align: top\"></td>\n",
       "    </tr>\n",
       "    <tr>\n",
       "        <td style=\"padding-left: 1em; padding-right: 1em; text-align: center; vertical-align: top\"></td>\n",
       "        <td style=\"padding-left: 1em; padding-right: 1em; text-align: center; vertical-align: top\"></td>\n",
       "        <td style=\"padding-left: 1em; padding-right: 1em; text-align: center; vertical-align: top\"></td>\n",
       "        <td style=\"padding-left: 1em; padding-right: 1em; text-align: center; vertical-align: top\"></td>\n",
       "        <td style=\"padding-left: 1em; padding-right: 1em; text-align: center; vertical-align: top\"></td>\n",
       "    </tr>\n",
       "    <tr>\n",
       "        <td style=\"padding-left: 1em; padding-right: 1em; text-align: center; vertical-align: top\"></td>\n",
       "        <td style=\"padding-left: 1em; padding-right: 1em; text-align: center; vertical-align: top\"></td>\n",
       "        <td style=\"padding-left: 1em; padding-right: 1em; text-align: center; vertical-align: top\"></td>\n",
       "        <td style=\"padding-left: 1em; padding-right: 1em; text-align: center; vertical-align: top\"></td>\n",
       "        <td style=\"padding-left: 1em; padding-right: 1em; text-align: center; vertical-align: top\"></td>\n",
       "    </tr>\n",
       "</table>\n",
       "<table frame=\"box\" rules=\"cols\">\n",
       "    <tr>\n",
       "        <th style=\"padding-left: 1em; padding-right: 1em; text-align: center\">Differentiated Services<br>Field ...</th>\n",
       "        <th style=\"padding-left: 1em; padding-right: 1em; text-align: center\">IP_Flags</th>\n",
       "        <th style=\"padding-left: 1em; padding-right: 1em; text-align: center\">Info</th>\n",
       "    </tr>\n",
       "    <tr>\n",
       "        <td style=\"padding-left: 1em; padding-right: 1em; text-align: center; vertical-align: top\"></td>\n",
       "        <td style=\"padding-left: 1em; padding-right: 1em; text-align: center; vertical-align: top\"></td>\n",
       "        <td style=\"padding-left: 1em; padding-right: 1em; text-align: center; vertical-align: top\">[Packet size limited<br>during capture] ...</td>\n",
       "    </tr>\n",
       "    <tr>\n",
       "        <td style=\"padding-left: 1em; padding-right: 1em; text-align: center; vertical-align: top\">0x00</td>\n",
       "        <td style=\"padding-left: 1em; padding-right: 1em; text-align: center; vertical-align: top\">0x00</td>\n",
       "        <td style=\"padding-left: 1em; padding-right: 1em; text-align: center; vertical-align: top\">DHCP Discover -<br>Transaction ID 0x6145 ...</td>\n",
       "    </tr>\n",
       "    <tr>\n",
       "        <td style=\"padding-left: 1em; padding-right: 1em; text-align: center; vertical-align: top\">0x10</td>\n",
       "        <td style=\"padding-left: 1em; padding-right: 1em; text-align: center; vertical-align: top\">0x00</td>\n",
       "        <td style=\"padding-left: 1em; padding-right: 1em; text-align: center; vertical-align: top\">DHCP Offer    -<br>Transaction ID 0x6145 ...</td>\n",
       "    </tr>\n",
       "    <tr>\n",
       "        <td style=\"padding-left: 1em; padding-right: 1em; text-align: center; vertical-align: top\">0x00</td>\n",
       "        <td style=\"padding-left: 1em; padding-right: 1em; text-align: center; vertical-align: top\">0x00</td>\n",
       "        <td style=\"padding-left: 1em; padding-right: 1em; text-align: center; vertical-align: top\">DHCP Request  -<br>Transaction ID 0x6145 ...</td>\n",
       "    </tr>\n",
       "    <tr>\n",
       "        <td style=\"padding-left: 1em; padding-right: 1em; text-align: center; vertical-align: top\">0x10</td>\n",
       "        <td style=\"padding-left: 1em; padding-right: 1em; text-align: center; vertical-align: top\">0x00</td>\n",
       "        <td style=\"padding-left: 1em; padding-right: 1em; text-align: center; vertical-align: top\">DHCP ACK      -<br>Transaction ID 0x6145 ...</td>\n",
       "    </tr>\n",
       "</table>\n",
       "[5 rows x 25 columns]<br/>\n",
       "</div>"
      ],
      "text/plain": [
       "Columns:\n",
       "\tNo.\tint\n",
       "\tTime\tfloat\n",
       "\tSource\tstr\n",
       "\tDestination\tstr\n",
       "\tProtocol\tstr\n",
       "\tLength\tint\n",
       "\tSource Port\tstr\n",
       "\tDestination Port\tstr\n",
       "\tudp_Length\tstr\n",
       "\tTCP Segment Len\tstr\n",
       "\tAnswer RRs\tstr\n",
       "\ttcp_Flags\tstr\n",
       "\tProtocols in frame\tstr\n",
       "\tSequence number\tstr\n",
       "\tTime to live\tstr\n",
       "\tSource GeoIP Country\tstr\n",
       "\tSource GeoIP Latitude\tstr\n",
       "\tSource GeoIP Longitude\tstr\n",
       "\tDestination GeoIP Country\tstr\n",
       "\tDestination GeoIP Latitude\tstr\n",
       "\tDestination GeoIP Longitude\tstr\n",
       "\tNext sequence number\tstr\n",
       "\tDifferentiated Services Field\tstr\n",
       "\tIP_Flags\tstr\n",
       "\tInfo\tstr\n",
       "\n",
       "Rows: 5\n",
       "\n",
       "Data:\n",
       "+-----+----------+----------+-----------------+----------+--------+-------------+\n",
       "| No. |   Time   |  Source  |   Destination   | Protocol | Length | Source Port |\n",
       "+-----+----------+----------+-----------------+----------+--------+-------------+\n",
       "|  1  |   0.0    |          |                 | Ethernet |   60   |             |\n",
       "|  2  | 6.985427 | 0.0.0.0  | 255.255.255.255 |   DHCP   |  348   |      68     |\n",
       "|  3  | 6.985565 | 10.0.2.2 |    10.0.2.15    |   DHCP   |  590   |      67     |\n",
       "|  4  | 6.985927 | 0.0.0.0  | 255.255.255.255 |   DHCP   |  373   |      68     |\n",
       "|  5  | 6.985998 | 10.0.2.2 |    10.0.2.15    |   DHCP   |  590   |      67     |\n",
       "+-----+----------+----------+-----------------+----------+--------+-------------+\n",
       "+------------------+------------+-----------------+------------+-----------+\n",
       "| Destination Port | udp_Length | TCP Segment Len | Answer RRs | tcp_Flags |\n",
       "+------------------+------------+-----------------+------------+-----------+\n",
       "|                  |            |                 |            |           |\n",
       "|        67        |    314     |                 |            |           |\n",
       "|        68        |    556     |                 |            |           |\n",
       "|        67        |    339     |                 |            |           |\n",
       "|        68        |    556     |                 |            |           |\n",
       "+------------------+------------+-----------------+------------+-----------+\n",
       "+----------------------------+-----------------+--------------+----------------------+\n",
       "|     Protocols in frame     | Sequence number | Time to live | Source GeoIP Country |\n",
       "+----------------------------+-----------------+--------------+----------------------+\n",
       "|            eth             |                 |              |                      |\n",
       "| eth:ethertype:ip:udp:bootp |                 |     128      |                      |\n",
       "| eth:ethertype:ip:udp:bootp |                 |      64      |                      |\n",
       "| eth:ethertype:ip:udp:bootp |                 |     128      |                      |\n",
       "| eth:ethertype:ip:udp:bootp |                 |      64      |                      |\n",
       "+----------------------------+-----------------+--------------+----------------------+\n",
       "+-----------------------+------------------------+---------------------------+----------------------------+-----+\n",
       "| Source GeoIP Latitude | Source GeoIP Longitude | Destination GeoIP Country | Destination GeoIP Latitude | ... |\n",
       "+-----------------------+------------------------+---------------------------+----------------------------+-----+\n",
       "|                       |                        |                           |                            | ... |\n",
       "|                       |                        |                           |                            | ... |\n",
       "|                       |                        |                           |                            | ... |\n",
       "|                       |                        |                           |                            | ... |\n",
       "|                       |                        |                           |                            | ... |\n",
       "+-----------------------+------------------------+---------------------------+----------------------------+-----+\n",
       "[5 rows x 25 columns]"
      ]
     },
     "execution_count": 4,
     "metadata": {},
     "output_type": "execute_result"
    }
   ],
   "source": [
    "SF.head(5)"
   ]
  },
  {
   "cell_type": "code",
   "execution_count": 22,
   "metadata": {
    "collapsed": true
   },
   "outputs": [],
   "source": [
    "SF = SF[(SF['Source Port']!='')|(SF['Destination Port']!='')]"
   ]
  },
  {
   "cell_type": "code",
   "execution_count": 23,
   "metadata": {
    "collapsed": false
   },
   "outputs": [
    {
     "data": {
      "text/plain": [
       "4676319"
      ]
     },
     "execution_count": 23,
     "metadata": {},
     "output_type": "execute_result"
    }
   ],
   "source": [
    "len(SF)"
   ]
  },
  {
   "cell_type": "code",
   "execution_count": 7,
   "metadata": {
    "collapsed": true
   },
   "outputs": [],
   "source": [
    "SF.save('ISCX_Botnet-Testing_Ports_Only.csv')"
   ]
  },
  {
   "cell_type": "code",
   "execution_count": 8,
   "metadata": {
    "collapsed": false
   },
   "outputs": [
    {
     "name": "stdout",
     "output_type": "stream",
     "text": [
      "4676319\n",
      "4676256\n"
     ]
    }
   ],
   "source": [
    "print len(SF)\n",
    "columns = SF.column_names()\n",
    "columns.remove('No.')\n",
    "CP = SF[columns].unique()\n",
    "print len(CP)"
   ]
  },
  {
   "cell_type": "code",
   "execution_count": 15,
   "metadata": {
    "collapsed": false
   },
   "outputs": [],
   "source": [
    "sample,sample = SF.random_split(0.99)"
   ]
  },
  {
   "cell_type": "markdown",
   "metadata": {},
   "source": [
    "### Sample Dataset to test codes"
   ]
  },
  {
   "cell_type": "code",
   "execution_count": 16,
   "metadata": {
    "collapsed": false
   },
   "outputs": [],
   "source": [
    "sample.save('Small.csv')"
   ]
  },
  {
   "cell_type": "code",
   "execution_count": 17,
   "metadata": {
    "collapsed": false
   },
   "outputs": [
    {
     "data": {
      "text/plain": [
       "46690"
      ]
     },
     "execution_count": 17,
     "metadata": {},
     "output_type": "execute_result"
    }
   ],
   "source": [
    "len(sample)"
   ]
  },
  {
   "cell_type": "code",
   "execution_count": 18,
   "metadata": {
    "collapsed": false
   },
   "outputs": [
    {
     "data": {
      "text/plain": [
       "['No.',\n",
       " 'Time',\n",
       " 'Source',\n",
       " 'Destination',\n",
       " 'Protocol',\n",
       " 'Length',\n",
       " 'Source Port',\n",
       " 'Destination Port',\n",
       " 'udp_Length',\n",
       " 'TCP Segment Len',\n",
       " 'Answer RRs',\n",
       " 'tcp_Flags',\n",
       " 'Protocols in frame',\n",
       " 'Sequence number',\n",
       " 'Time to live',\n",
       " 'Source GeoIP Country',\n",
       " 'Source GeoIP Latitude',\n",
       " 'Source GeoIP Longitude',\n",
       " 'Destination GeoIP Country',\n",
       " 'Destination GeoIP Latitude',\n",
       " 'Destination GeoIP Longitude',\n",
       " 'Next sequence number',\n",
       " 'Differentiated Services Field',\n",
       " 'IP_Flags',\n",
       " 'Info']"
      ]
     },
     "execution_count": 18,
     "metadata": {},
     "output_type": "execute_result"
    }
   ],
   "source": [
    "sample.column_names()"
   ]
  },
  {
   "cell_type": "code",
   "execution_count": 20,
   "metadata": {
    "collapsed": false
   },
   "outputs": [
    {
     "name": "stdout",
     "output_type": "stream",
     "text": [
      "20730 46690\n"
     ]
    }
   ],
   "source": [
    "address = ['Source',\n",
    " 'Destination',\n",
    " 'Source Port',\n",
    " 'Destination Port']\n",
    "print len(sample[address].unique()),len(sample)"
   ]
  },
  {
   "cell_type": "code",
   "execution_count": 21,
   "metadata": {
    "collapsed": false
   },
   "outputs": [
    {
     "name": "stdout",
     "output_type": "stream",
     "text": [
      "321960 4676319\n"
     ]
    }
   ],
   "source": [
    "print len(SF[address].unique()),len(SF)"
   ]
  },
  {
   "cell_type": "markdown",
   "metadata": {},
   "source": [
    "### Unique Source and Destincation pairs << Total number of packets"
   ]
  },
  {
   "cell_type": "code",
   "execution_count": 24,
   "metadata": {
    "collapsed": false
   },
   "outputs": [
    {
     "data": {
      "text/plain": [
       "137"
      ]
     },
     "execution_count": 24,
     "metadata": {},
     "output_type": "execute_result"
    }
   ],
   "source": [
    "len(sample['Time to live'].unique())"
   ]
  },
  {
   "cell_type": "code",
   "execution_count": 25,
   "metadata": {
    "collapsed": false
   },
   "outputs": [
    {
     "data": {
      "text/plain": [
       "dtype: str\n",
       "Rows: 137\n",
       "['64,111', '119,117', '243,116', '61', '45,114', '135,110', '187', '33', '49', '50,104', '44,108', '112', '241', '56', '108', '58', '110', '126', '45,102', '49,117', '255,127', '117', '106', '242,114', '41', '48,109', '64', '64,48', '111', '59', '49,112', '52', '240', '50,113', '64,128', '239', '237,1', '48,113', '64,246', '113', '119', '109', '48,112', '235', '128', '127', '53,116', '232', '50,109', '244', '47,108', '54,117', '27', '234,106', '234', '121', '47', '115', '49,111', '4', '16', '45', '45,110', '98', '63', '48', '48,115', '62', '52,115', '105', '51', '43,100', '46,112', '237', '118', '43', '103', '107', '1', '32', '230', '49,115', '102', '189', '38', '114', '46,108', '44', '100', '42', '238,107', '48,111', '240,107', '116', '46,113', '128,64', '52,116', '51,109', '236', '55', ... ]"
      ]
     },
     "execution_count": 25,
     "metadata": {},
     "output_type": "execute_result"
    }
   ],
   "source": [
    "sample['Time to live'].unique()"
   ]
  },
  {
   "cell_type": "markdown",
   "metadata": {},
   "source": [
    "### Comma separated values in records of Time to live and IP flags!!!"
   ]
  },
  {
   "cell_type": "markdown",
   "metadata": {
    "collapsed": true
   },
   "source": [
    "### Checking for converation data from Wireshark"
   ]
  },
  {
   "cell_type": "code",
   "execution_count": 2,
   "metadata": {
    "collapsed": false
   },
   "outputs": [
    {
     "name": "stdout",
     "output_type": "stream",
     "text": [
      "This non-commercial license of GraphLab Create for academic use is assigned to himadri.mishra.cse13@iitbhu.ac.in and will expire on September 21, 2017.\n"
     ]
    },
    {
     "name": "stderr",
     "output_type": "stream",
     "text": [
      "[INFO] graphlab.cython.cy_server: GraphLab Create v2.1 started. Logging: /tmp/graphlab_server_1474382281.log\n"
     ]
    },
    {
     "data": {
      "text/html": [
       "<pre>Finished parsing file /home/os-net/kartik-himadri-BTP/Dataset/tcp_conv.csv</pre>"
      ],
      "text/plain": [
       "Finished parsing file /home/os-net/kartik-himadri-BTP/Dataset/tcp_conv.csv"
      ]
     },
     "metadata": {},
     "output_type": "display_data"
    },
    {
     "data": {
      "text/html": [
       "<pre>Parsing completed. Parsed 100 lines in 0.58488 secs.</pre>"
      ],
      "text/plain": [
       "Parsing completed. Parsed 100 lines in 0.58488 secs."
      ]
     },
     "metadata": {},
     "output_type": "display_data"
    },
    {
     "name": "stdout",
     "output_type": "stream",
     "text": [
      "------------------------------------------------------\n",
      "Inferred types from first 100 line(s) of file as \n",
      "column_type_hints=[str,str,str,str,int,int,int,int,int,int,float,float,float,str]\n",
      "If parsing fails due to incorrect types, you can correct\n",
      "the inferred type list above and pass it to read_csv in\n",
      "the column_type_hints argument\n",
      "------------------------------------------------------\n"
     ]
    },
    {
     "data": {
      "text/html": [
       "<pre>Unable to parse line \"\"81.214.131.58\",\"ircd\",\"147.32.84.180\",\"pt2-discover\",\"2\",\"124\",\"0\",\"0\",\"2\",\"124\",\"1313060602.009191036\",\"3.0112\",\"N/A\",\"329.43\"\"</pre>"
      ],
      "text/plain": [
       "Unable to parse line \"\"81.214.131.58\",\"ircd\",\"147.32.84.180\",\"pt2-discover\",\"2\",\"124\",\"0\",\"0\",\"2\",\"124\",\"1313060602.009191036\",\"3.0112\",\"N/A\",\"329.43\"\""
      ]
     },
     "metadata": {},
     "output_type": "display_data"
    },
    {
     "data": {
      "text/html": [
       "<pre>Unable to parse line \"\"61.17.216.3\",\"ircd\",\"147.32.84.180\",\"autonoc\",\"3\",\"186\",\"0\",\"0\",\"3\",\"186\",\"1313060619.801655054\",\"9.0014\",\"N/A\",\"165.31\"\"</pre>"
      ],
      "text/plain": [
       "Unable to parse line \"\"61.17.216.3\",\"ircd\",\"147.32.84.180\",\"autonoc\",\"3\",\"186\",\"0\",\"0\",\"3\",\"186\",\"1313060619.801655054\",\"9.0014\",\"N/A\",\"165.31\"\""
      ]
     },
     "metadata": {},
     "output_type": "display_data"
    },
    {
     "data": {
      "text/html": [
       "<pre>Unable to parse line \"\"60.190.223.75\",\"2012\",\"147.32.84.160\",\"boinc-client\",\"6\",\"372\",\"0\",\"0\",\"6\",\"372\",\"1313421599.170062065\",\"8.9636\",\"N/A\",\"332.01\"\"</pre>"
      ],
      "text/plain": [
       "Unable to parse line \"\"60.190.223.75\",\"2012\",\"147.32.84.160\",\"boinc-client\",\"6\",\"372\",\"0\",\"0\",\"6\",\"372\",\"1313421599.170062065\",\"8.9636\",\"N/A\",\"332.01\"\""
      ]
     },
     "metadata": {},
     "output_type": "display_data"
    },
    {
     "data": {
      "text/html": [
       "<pre>Unable to parse line \"\"79.132.91.208\",\"ircd\",\"147.32.84.180\",\"alta-ana-lm\",\"3\",\"186\",\"0\",\"0\",\"3\",\"186\",\"1313060727.948990107\",\"9.0312\",\"N/A\",\"164.76\"\"</pre>"
      ],
      "text/plain": [
       "Unable to parse line \"\"79.132.91.208\",\"ircd\",\"147.32.84.180\",\"alta-ana-lm\",\"3\",\"186\",\"0\",\"0\",\"3\",\"186\",\"1313060727.948990107\",\"9.0312\",\"N/A\",\"164.76\"\""
      ]
     },
     "metadata": {},
     "output_type": "display_data"
    },
    {
     "data": {
      "text/html": [
       "<pre>Unable to parse line \"\"190.79.152.22\",\"ndl-aas\",\"147.32.84.160\",\"optima-vnet\",\"6\",\"372\",\"0\",\"0\",\"6\",\"372\",\"1313421644.126221895\",\"8.9717\",\"N/A\",\"331.71\"\"</pre>"
      ],
      "text/plain": [
       "Unable to parse line \"\"190.79.152.22\",\"ndl-aas\",\"147.32.84.160\",\"optima-vnet\",\"6\",\"372\",\"0\",\"0\",\"6\",\"372\",\"1313421644.126221895\",\"8.9717\",\"N/A\",\"331.71\"\""
      ]
     },
     "metadata": {},
     "output_type": "display_data"
    },
    {
     "data": {
      "text/html": [
       "<pre>Unable to parse line \"\"79.132.91.208\",\"ircd\",\"147.32.84.165\",\"alta-ana-lm\",\"2\",\"180\",\"0\",\"0\",\"2\",\"180\",\"1313060728.585580111\",\"3.1872\",\"N/A\",\"451.81\"\"</pre>"
      ],
      "text/plain": [
       "Unable to parse line \"\"79.132.91.208\",\"ircd\",\"147.32.84.165\",\"alta-ana-lm\",\"2\",\"180\",\"0\",\"0\",\"2\",\"180\",\"1313060728.585580111\",\"3.1872\",\"N/A\",\"451.81\"\""
      ]
     },
     "metadata": {},
     "output_type": "display_data"
    },
    {
     "data": {
      "text/html": [
       "<pre>Unable to parse line \"\"85.221.145.247\",\"ndl-aas\",\"147.32.84.160\",\"ddt\",\"6\",\"372\",\"0\",\"0\",\"6\",\"372\",\"1313421644.129476070\",\"8.9685\",\"N/A\",\"331.83\"\"</pre>"
      ],
      "text/plain": [
       "Unable to parse line \"\"85.221.145.247\",\"ndl-aas\",\"147.32.84.160\",\"ddt\",\"6\",\"372\",\"0\",\"0\",\"6\",\"372\",\"1313421644.129476070\",\"8.9685\",\"N/A\",\"331.83\"\""
      ]
     },
     "metadata": {},
     "output_type": "display_data"
    },
    {
     "data": {
      "text/html": [
       "<pre>Unable to parse line \"\"59.94.130.46\",\"ndl-aas\",\"147.32.84.160\",\"remote-as\",\"6\",\"372\",\"0\",\"0\",\"6\",\"372\",\"1313421644.135533094\",\"8.9625\",\"N/A\",\"332.05\"\"</pre>"
      ],
      "text/plain": [
       "Unable to parse line \"\"59.94.130.46\",\"ndl-aas\",\"147.32.84.160\",\"remote-as\",\"6\",\"372\",\"0\",\"0\",\"6\",\"372\",\"1313421644.135533094\",\"8.9625\",\"N/A\",\"332.05\"\""
      ]
     },
     "metadata": {},
     "output_type": "display_data"
    },
    {
     "data": {
      "text/html": [
       "<pre>Unable to parse line \"\"95.155.98.55\",\"ndl-aas\",\"147.32.84.160\",\"brvread\",\"6\",\"372\",\"0\",\"0\",\"6\",\"372\",\"1313421644.140947104\",\"8.9571\",\"N/A\",\"332.25\"\"</pre>"
      ],
      "text/plain": [
       "Unable to parse line \"\"95.155.98.55\",\"ndl-aas\",\"147.32.84.160\",\"brvread\",\"6\",\"372\",\"0\",\"0\",\"6\",\"372\",\"1313421644.140947104\",\"8.9571\",\"N/A\",\"332.25\"\""
      ]
     },
     "metadata": {},
     "output_type": "display_data"
    },
    {
     "data": {
      "text/html": [
       "<pre>Unable to parse line \"\"111.88.4.78\",\"ircd\",\"147.32.84.180\",\"gwha\",\"3\",\"186\",\"0\",\"0\",\"3\",\"186\",\"1313060748.846473932\",\"9.0043\",\"N/A\",\"165.25\"\"</pre>"
      ],
      "text/plain": [
       "Unable to parse line \"\"111.88.4.78\",\"ircd\",\"147.32.84.180\",\"gwha\",\"3\",\"186\",\"0\",\"0\",\"3\",\"186\",\"1313060748.846473932\",\"9.0043\",\"N/A\",\"165.25\"\""
      ]
     },
     "metadata": {},
     "output_type": "display_data"
    },
    {
     "data": {
      "text/html": [
       "<pre>2470 lines failed to parse correctly</pre>"
      ],
      "text/plain": [
       "2470 lines failed to parse correctly"
      ]
     },
     "metadata": {},
     "output_type": "display_data"
    },
    {
     "data": {
      "text/html": [
       "<pre>Finished parsing file /home/os-net/kartik-himadri-BTP/Dataset/tcp_conv.csv</pre>"
      ],
      "text/plain": [
       "Finished parsing file /home/os-net/kartik-himadri-BTP/Dataset/tcp_conv.csv"
      ]
     },
     "metadata": {},
     "output_type": "display_data"
    },
    {
     "data": {
      "text/html": [
       "<pre>Parsing completed. Parsed 111044 lines in 0.301076 secs.</pre>"
      ],
      "text/plain": [
       "Parsing completed. Parsed 111044 lines in 0.301076 secs."
      ]
     },
     "metadata": {},
     "output_type": "display_data"
    }
   ],
   "source": [
    "conv = graphlab.SFrame.read_csv('tcp_conv.csv')"
   ]
  },
  {
   "cell_type": "code",
   "execution_count": 6,
   "metadata": {
    "collapsed": false
   },
   "outputs": [
    {
     "data": {
      "text/html": [
       "<div style=\"max-height:1000px;max-width:1500px;overflow:auto;\"><table frame=\"box\" rules=\"cols\">\n",
       "    <tr>\n",
       "        <th style=\"padding-left: 1em; padding-right: 1em; text-align: center\">Address A</th>\n",
       "        <th style=\"padding-left: 1em; padding-right: 1em; text-align: center\">Port A</th>\n",
       "        <th style=\"padding-left: 1em; padding-right: 1em; text-align: center\">Address B</th>\n",
       "        <th style=\"padding-left: 1em; padding-right: 1em; text-align: center\">Port B</th>\n",
       "        <th style=\"padding-left: 1em; padding-right: 1em; text-align: center\">Packets</th>\n",
       "        <th style=\"padding-left: 1em; padding-right: 1em; text-align: center\">Bytes</th>\n",
       "        <th style=\"padding-left: 1em; padding-right: 1em; text-align: center\">Packets A→B</th>\n",
       "        <th style=\"padding-left: 1em; padding-right: 1em; text-align: center\">Bytes A→B</th>\n",
       "        <th style=\"padding-left: 1em; padding-right: 1em; text-align: center\">Packets A←B</th>\n",
       "        <th style=\"padding-left: 1em; padding-right: 1em; text-align: center\">Bytes A←B</th>\n",
       "    </tr>\n",
       "    <tr>\n",
       "        <td style=\"padding-left: 1em; padding-right: 1em; text-align: center; vertical-align: top\">10.0.2.15</td>\n",
       "        <td style=\"padding-left: 1em; padding-right: 1em; text-align: center; vertical-align: top\">dcutility</td>\n",
       "        <td style=\"padding-left: 1em; padding-right: 1em; text-align: center; vertical-align: top\">208.73.211.152</td>\n",
       "        <td style=\"padding-left: 1em; padding-right: 1em; text-align: center; vertical-align: top\">http</td>\n",
       "        <td style=\"padding-left: 1em; padding-right: 1em; text-align: center; vertical-align: top\">9</td>\n",
       "        <td style=\"padding-left: 1em; padding-right: 1em; text-align: center; vertical-align: top\">2831</td>\n",
       "        <td style=\"padding-left: 1em; padding-right: 1em; text-align: center; vertical-align: top\">5</td>\n",
       "        <td style=\"padding-left: 1em; padding-right: 1em; text-align: center; vertical-align: top\">402</td>\n",
       "        <td style=\"padding-left: 1em; padding-right: 1em; text-align: center; vertical-align: top\">4</td>\n",
       "        <td style=\"padding-left: 1em; padding-right: 1em; text-align: center; vertical-align: top\">2429</td>\n",
       "    </tr>\n",
       "    <tr>\n",
       "        <td style=\"padding-left: 1em; padding-right: 1em; text-align: center; vertical-align: top\">10.0.2.15</td>\n",
       "        <td style=\"padding-left: 1em; padding-right: 1em; text-align: center; vertical-align: top\">wfremotertm</td>\n",
       "        <td style=\"padding-left: 1em; padding-right: 1em; text-align: center; vertical-align: top\">66.196.118.33</td>\n",
       "        <td style=\"padding-left: 1em; padding-right: 1em; text-align: center; vertical-align: top\">smtp</td>\n",
       "        <td style=\"padding-left: 1em; padding-right: 1em; text-align: center; vertical-align: top\">3</td>\n",
       "        <td style=\"padding-left: 1em; padding-right: 1em; text-align: center; vertical-align: top\">186</td>\n",
       "        <td style=\"padding-left: 1em; padding-right: 1em; text-align: center; vertical-align: top\">3</td>\n",
       "        <td style=\"padding-left: 1em; padding-right: 1em; text-align: center; vertical-align: top\">186</td>\n",
       "        <td style=\"padding-left: 1em; padding-right: 1em; text-align: center; vertical-align: top\">0</td>\n",
       "        <td style=\"padding-left: 1em; padding-right: 1em; text-align: center; vertical-align: top\">0</td>\n",
       "    </tr>\n",
       "    <tr>\n",
       "        <td style=\"padding-left: 1em; padding-right: 1em; text-align: center; vertical-align: top\">10.0.2.15</td>\n",
       "        <td style=\"padding-left: 1em; padding-right: 1em; text-align: center; vertical-align: top\">neod1</td>\n",
       "        <td style=\"padding-left: 1em; padding-right: 1em; text-align: center; vertical-align: top\">74.125.141.26</td>\n",
       "        <td style=\"padding-left: 1em; padding-right: 1em; text-align: center; vertical-align: top\">smtp</td>\n",
       "        <td style=\"padding-left: 1em; padding-right: 1em; text-align: center; vertical-align: top\">3</td>\n",
       "        <td style=\"padding-left: 1em; padding-right: 1em; text-align: center; vertical-align: top\">186</td>\n",
       "        <td style=\"padding-left: 1em; padding-right: 1em; text-align: center; vertical-align: top\">3</td>\n",
       "        <td style=\"padding-left: 1em; padding-right: 1em; text-align: center; vertical-align: top\">186</td>\n",
       "        <td style=\"padding-left: 1em; padding-right: 1em; text-align: center; vertical-align: top\">0</td>\n",
       "        <td style=\"padding-left: 1em; padding-right: 1em; text-align: center; vertical-align: top\">0</td>\n",
       "    </tr>\n",
       "</table>\n",
       "<table frame=\"box\" rules=\"cols\">\n",
       "    <tr>\n",
       "        <th style=\"padding-left: 1em; padding-right: 1em; text-align: center\">Rel Start</th>\n",
       "        <th style=\"padding-left: 1em; padding-right: 1em; text-align: center\">Duration</th>\n",
       "        <th style=\"padding-left: 1em; padding-right: 1em; text-align: center\">bps A→B</th>\n",
       "        <th style=\"padding-left: 1em; padding-right: 1em; text-align: center\">bps A←B</th>\n",
       "    </tr>\n",
       "    <tr>\n",
       "        <td style=\"padding-left: 1em; padding-right: 1em; text-align: center; vertical-align: top\">18.788718</td>\n",
       "        <td style=\"padding-left: 1em; padding-right: 1em; text-align: center; vertical-align: top\">0.3831</td>\n",
       "        <td style=\"padding-left: 1em; padding-right: 1em; text-align: center; vertical-align: top\">8393.91</td>\n",
       "        <td style=\"padding-left: 1em; padding-right: 1em; text-align: center; vertical-align: top\">50718.42</td>\n",
       "    </tr>\n",
       "    <tr>\n",
       "        <td style=\"padding-left: 1em; padding-right: 1em; text-align: center; vertical-align: top\">23.216878</td>\n",
       "        <td style=\"padding-left: 1em; padding-right: 1em; text-align: center; vertical-align: top\">8.994</td>\n",
       "        <td style=\"padding-left: 1em; padding-right: 1em; text-align: center; vertical-align: top\">165.44</td>\n",
       "        <td style=\"padding-left: 1em; padding-right: 1em; text-align: center; vertical-align: top\">N/A</td>\n",
       "    </tr>\n",
       "    <tr>\n",
       "        <td style=\"padding-left: 1em; padding-right: 1em; text-align: center; vertical-align: top\">44.246671</td>\n",
       "        <td style=\"padding-left: 1em; padding-right: 1em; text-align: center; vertical-align: top\">8.9948</td>\n",
       "        <td style=\"padding-left: 1em; padding-right: 1em; text-align: center; vertical-align: top\">165.43</td>\n",
       "        <td style=\"padding-left: 1em; padding-right: 1em; text-align: center; vertical-align: top\">N/A</td>\n",
       "    </tr>\n",
       "</table>\n",
       "[3 rows x 14 columns]<br/>\n",
       "</div>"
      ],
      "text/plain": [
       "Columns:\n",
       "\tAddress A\tstr\n",
       "\tPort A\tstr\n",
       "\tAddress B\tstr\n",
       "\tPort B\tstr\n",
       "\tPackets\tint\n",
       "\tBytes\tint\n",
       "\tPackets A→B\tint\n",
       "\tBytes A→B\tint\n",
       "\tPackets A←B\tint\n",
       "\tBytes A←B\tint\n",
       "\tRel Start\tfloat\n",
       "\tDuration\tfloat\n",
       "\tbps A→B\tfloat\n",
       "\tbps A←B\tstr\n",
       "\n",
       "Rows: 3\n",
       "\n",
       "Data:\n",
       "+-----------+-------------+----------------+--------+---------+-------+-------------+\n",
       "| Address A |    Port A   |   Address B    | Port B | Packets | Bytes | Packets A→B |\n",
       "+-----------+-------------+----------------+--------+---------+-------+-------------+\n",
       "| 10.0.2.15 |  dcutility  | 208.73.211.152 |  http  |    9    |  2831 |      5      |\n",
       "| 10.0.2.15 | wfremotertm | 66.196.118.33  |  smtp  |    3    |  186  |      3      |\n",
       "| 10.0.2.15 |    neod1    | 74.125.141.26  |  smtp  |    3    |  186  |      3      |\n",
       "+-----------+-------------+----------------+--------+---------+-------+-------------+\n",
       "+-----------+-------------+-----------+-----------+----------+---------+\n",
       "| Bytes A→B | Packets A←B | Bytes A←B | Rel Start | Duration | bps A→B |\n",
       "+-----------+-------------+-----------+-----------+----------+---------+\n",
       "|    402    |      4      |    2429   | 18.788718 |  0.3831  | 8393.91 |\n",
       "|    186    |      0      |     0     | 23.216878 |  8.994   |  165.44 |\n",
       "|    186    |      0      |     0     | 44.246671 |  8.9948  |  165.43 |\n",
       "+-----------+-------------+-----------+-----------+----------+---------+\n",
       "+----------+\n",
       "| bps A←B  |\n",
       "+----------+\n",
       "| 50718.42 |\n",
       "|   N/A    |\n",
       "|   N/A    |\n",
       "+----------+\n",
       "[3 rows x 14 columns]"
      ]
     },
     "execution_count": 6,
     "metadata": {},
     "output_type": "execute_result"
    }
   ],
   "source": [
    "conv.head(3)"
   ]
  },
  {
   "cell_type": "code",
   "execution_count": 12,
   "metadata": {
    "collapsed": false
   },
   "outputs": [
    {
     "data": {
      "text/plain": [
       "[97796.6414,\n",
       " 102401.7603,\n",
       " 116989.9793,\n",
       " 116996.4307,\n",
       " 146039.139,\n",
       " 156147.8274,\n",
       " 157012.9642,\n",
       " 318402.8488,\n",
       " 325140.7658,\n",
       " 325209.2996]"
      ]
     },
     "execution_count": 12,
     "metadata": {},
     "output_type": "execute_result"
    }
   ],
   "source": [
    "sorted(conv['Duration'])[-10:]"
   ]
  },
  {
   "cell_type": "code",
   "execution_count": 13,
   "metadata": {
    "collapsed": false
   },
   "outputs": [
    {
     "data": {
      "text/plain": [
       "10997"
      ]
     },
     "execution_count": 13,
     "metadata": {},
     "output_type": "execute_result"
    }
   ],
   "source": [
    "len(conv['Address A','Address B'].unique())"
   ]
  },
  {
   "cell_type": "code",
   "execution_count": 7,
   "metadata": {
    "collapsed": false
   },
   "outputs": [
    {
     "name": "stdout",
     "output_type": "stream",
     "text": [
      "111014 111044\n"
     ]
    }
   ],
   "source": [
    "address = ['Address A',\n",
    "          'Port A',\n",
    "          'Address B',\n",
    "          'Port B']\n",
    "print len(conv[address].unique()),len(conv)"
   ]
  },
  {
   "cell_type": "markdown",
   "metadata": {},
   "source": [
    "### Wireshark conversation renders A->B and B->A as same, thus of no use in identifying flow"
   ]
  },
  {
   "cell_type": "code",
   "execution_count": 14,
   "metadata": {
    "collapsed": false
   },
   "outputs": [
    {
     "data": {
      "text/html": [
       "<pre>Finished parsing file /home/os-net/kartik-himadri-BTP/Dataset/ipv4_convos.csv</pre>"
      ],
      "text/plain": [
       "Finished parsing file /home/os-net/kartik-himadri-BTP/Dataset/ipv4_convos.csv"
      ]
     },
     "metadata": {},
     "output_type": "display_data"
    },
    {
     "data": {
      "text/html": [
       "<pre>Parsing completed. Parsed 100 lines in 0.105657 secs.</pre>"
      ],
      "text/plain": [
       "Parsing completed. Parsed 100 lines in 0.105657 secs."
      ]
     },
     "metadata": {},
     "output_type": "display_data"
    },
    {
     "name": "stdout",
     "output_type": "stream",
     "text": [
      "------------------------------------------------------\n",
      "Inferred types from first 100 line(s) of file as \n",
      "column_type_hints=[str,str,int,int,int,int,int,int,float,float,str,str]\n",
      "If parsing fails due to incorrect types, you can correct\n",
      "the inferred type list above and pass it to read_csv in\n",
      "the column_type_hints argument\n",
      "------------------------------------------------------\n"
     ]
    },
    {
     "data": {
      "text/html": [
       "<pre>Finished parsing file /home/os-net/kartik-himadri-BTP/Dataset/ipv4_convos.csv</pre>"
      ],
      "text/plain": [
       "Finished parsing file /home/os-net/kartik-himadri-BTP/Dataset/ipv4_convos.csv"
      ]
     },
     "metadata": {},
     "output_type": "display_data"
    },
    {
     "data": {
      "text/html": [
       "<pre>Parsing completed. Parsed 31465 lines in 0.074021 secs.</pre>"
      ],
      "text/plain": [
       "Parsing completed. Parsed 31465 lines in 0.074021 secs."
      ]
     },
     "metadata": {},
     "output_type": "display_data"
    },
    {
     "data": {
      "text/plain": [
       "31465"
      ]
     },
     "execution_count": 14,
     "metadata": {},
     "output_type": "execute_result"
    }
   ],
   "source": [
    "ipcon = graphlab.SFrame.read_csv('ipv4_convos.csv')\n",
    "len(ipcon['Address A','Address B'].unique())"
   ]
  },
  {
   "cell_type": "code",
   "execution_count": 2,
   "metadata": {
    "collapsed": false
   },
   "outputs": [
    {
     "name": "stderr",
     "output_type": "stream",
     "text": [
      "[INFO] graphlab.cython.cy_server: GraphLab Create v2.1 started. Logging: /tmp/graphlab_server_1474387397.log\n"
     ]
    },
    {
     "name": "stdout",
     "output_type": "stream",
     "text": [
      "This non-commercial license of GraphLab Create for academic use is assigned to himadri.mishra.cse13@iitbhu.ac.in and will expire on September 21, 2017.\n"
     ]
    },
    {
     "data": {
      "text/html": [
       "<pre>Finished parsing file /home/os-net/kartik-himadri-BTP/Dataset/ISCX_Botnet-Testing_Ports_Only.csv</pre>"
      ],
      "text/plain": [
       "Finished parsing file /home/os-net/kartik-himadri-BTP/Dataset/ISCX_Botnet-Testing_Ports_Only.csv"
      ]
     },
     "metadata": {},
     "output_type": "display_data"
    },
    {
     "data": {
      "text/html": [
       "<pre>Parsing completed. Parsed 100 lines in 1.16484 secs.</pre>"
      ],
      "text/plain": [
       "Parsing completed. Parsed 100 lines in 1.16484 secs."
      ]
     },
     "metadata": {},
     "output_type": "display_data"
    },
    {
     "name": "stdout",
     "output_type": "stream",
     "text": [
      "------------------------------------------------------\n",
      "Inferred types from first 100 line(s) of file as \n",
      "column_type_hints=[int,float,str,str,str,int,int,int,int,int,int,str,str,int,str,str,float,float,str,float,float,int,str,str,str]\n",
      "If parsing fails due to incorrect types, you can correct\n",
      "the inferred type list above and pass it to read_csv in\n",
      "the column_type_hints argument\n",
      "------------------------------------------------------\n"
     ]
    },
    {
     "data": {
      "text/html": [
       "<pre>Read 225043 lines. Lines per second: 164095</pre>"
      ],
      "text/plain": [
       "Read 225043 lines. Lines per second: 164095"
      ]
     },
     "metadata": {},
     "output_type": "display_data"
    },
    {
     "data": {
      "text/html": [
       "<pre>Read 1781669 lines. Lines per second: 274217</pre>"
      ],
      "text/plain": [
       "Read 1781669 lines. Lines per second: 274217"
      ]
     },
     "metadata": {},
     "output_type": "display_data"
    },
    {
     "data": {
      "text/html": [
       "<pre>Read 3568857 lines. Lines per second: 297143</pre>"
      ],
      "text/plain": [
       "Read 3568857 lines. Lines per second: 297143"
      ]
     },
     "metadata": {},
     "output_type": "display_data"
    },
    {
     "data": {
      "text/html": [
       "<pre>Finished parsing file /home/os-net/kartik-himadri-BTP/Dataset/ISCX_Botnet-Testing_Ports_Only.csv</pre>"
      ],
      "text/plain": [
       "Finished parsing file /home/os-net/kartik-himadri-BTP/Dataset/ISCX_Botnet-Testing_Ports_Only.csv"
      ]
     },
     "metadata": {},
     "output_type": "display_data"
    },
    {
     "data": {
      "text/html": [
       "<pre>Parsing completed. Parsed 4676319 lines in 15.502 secs.</pre>"
      ],
      "text/plain": [
       "Parsing completed. Parsed 4676319 lines in 15.502 secs."
      ]
     },
     "metadata": {},
     "output_type": "display_data"
    }
   ],
   "source": [
    "SF_WP = graphlab.SFrame.read_csv('ISCX_Botnet-Testing_Ports_Only.csv')"
   ]
  },
  {
   "cell_type": "code",
   "execution_count": 3,
   "metadata": {
    "collapsed": false
   },
   "outputs": [
    {
     "name": "stdout",
     "output_type": "stream",
     "text": [
      "ALLJOYN-NS 95965\n",
      "ANSI C12.22 4\n",
      "AX4000 20\n",
      "BGP 220\n",
      "BOOTP 1188\n",
      "BROWSER 970\n",
      "BZR 10\n",
      "BitTorrent 14865\n",
      "CAT-TP 20\n",
      "CLASSIC-STUN 33\n",
      "COPS 1\n",
      "COTP 6324\n",
      "DB-LSP-DISC 23938\n",
      "DCERPC 2889\n",
      "DHCP 120\n",
      "DHCPv6 67365\n",
      "DISTCC 5\n",
      "DNS 210498\n",
      "ECHO 4\n",
      "ENIP 2\n",
      "FTP 609\n",
      "FTP-DATA 26\n",
      "GPRS-NS 2\n",
      "GTP 43\n",
      "GTPv2 17\n",
      "GVSP 181867\n",
      "H.225.0 4\n",
      "H1 5\n",
      "HTTP 131533\n",
      "HTTP/XML 262\n",
      "ICMP 6518\n",
      "ICMPv6 2\n",
      "IMAP 1233\n",
      "IMF 5193\n",
      "IOXIDResolver 1328\n",
      "IPA 25\n",
      "IPX SAP 22410\n",
      "IRC 293\n",
      "ISystemActivator 691\n",
      "KDP 2\n",
      "LANMAN 264\n",
      "LLC 15\n",
      "LLMNR 1636\n",
      "MDNS 4533\n",
      "MSMMS 1\n",
      "MSNMS 5323\n",
      "NBDS 6785\n",
      "NBNS 6257\n",
      "NBSS 256\n",
      "NDPS 4\n",
      "NTP 107\n",
      "OpcUa 2\n",
      "PKIX-CRL 8\n",
      "POP 6903\n",
      "PPTP 5\n",
      "QUAKE3 431\n",
      "QUAKEWORLD 1\n",
      "QUIC 19\n",
      "R3 5\n",
      "RDP 457\n",
      "RIPv2 30560\n",
      "RSIP 65\n",
      "RSL 13\n",
      "RTCP 10\n",
      "RTMP 2\n",
      "SABP 30\n",
      "SIGCOMP 2\n",
      "SIP 3\n",
      "SMB 1721\n",
      "SMB Pipe 1\n",
      "SMTP 68820\n",
      "SNMP 168\n",
      "SPOOLSS 6\n",
      "SRVLOC 2375\n",
      "SRVSVC 16\n",
      "SSDP 4644\n",
      "SSH 724\n",
      "SSHv2 50412\n",
      "SSL 85\n",
      "SSLv2 376\n",
      "SSLv3 80\n",
      "TCP 3125048\n",
      "TDS 9\n",
      "TFP over TCP 6\n",
      "TLSv1 20240\n",
      "TPKT 5279\n",
      "UDP 556049\n",
      "VICP 30\n",
      "WKSSVC 4\n",
      "WOW 3\n",
      "WSP 1\n",
      "X11 4\n",
      "eDonkey 16\n",
      "slsk 1\n"
     ]
    }
   ],
   "source": [
    "for x in sorted(SF_WP['Protocol'].unique()):\n",
    "    print x,len(SF_WP[SF_WP['Protocol']==x])\n",
    "    "
   ]
  },
  {
   "cell_type": "code",
   "execution_count": 6,
   "metadata": {
    "collapsed": false
   },
   "outputs": [
    {
     "name": "stdout",
     "output_type": "stream",
     "text": [
      "0x0700 4684 0\n",
      "0x3339 1 0\n",
      "0x4000 83 0\n",
      "0x4b0d 1 0\n",
      "0xe000 1 0\n",
      "0xffff 2773 0\n",
      "ALLJOYN-NS 95965 95965\n",
      "ANSI C12.22 4 4\n",
      "ARP 188815 0\n",
      "AX4000 20 20\n",
      "BGP 220 220\n",
      "BOOTP 1188 1188\n",
      "BROWSER 970 970\n",
      "BZR 10 10\n",
      "BitTorrent 14865 14865\n",
      "CAT-TP 20 20\n",
      "CLASSIC-STUN 33 33\n",
      "COPS 1 1\n",
      "COTP 6324 6324\n",
      "DB-LSP-DISC 23938 23938\n",
      "DCERPC 2889 2889\n",
      "DHCP 120 120\n",
      "DHCPv6 67365 67365\n",
      "DISTCC  5 0\n",
      "DNS 210498 210498\n",
      "ECHO 4 4\n",
      "ENIP 2 2\n",
      "Ethernet 1 0\n",
      "FTP 609 609\n",
      "FTP-DATA 26 26\n",
      "GPRS-NS 2 2\n",
      "GTP 43 43\n",
      "GTPv2 17 17\n",
      "GVSP 181867 181867\n",
      "H.225.0 4 4\n",
      "H1 5 5\n",
      "HTTP 131533 131533\n",
      "HTTP/XML 262 262\n",
      "ICMP 13941 6518\n",
      "ICMPv6 1688 2\n",
      "IGMPv1 4 0\n",
      "IGMPv2 30 0\n",
      "IGMPv3 1010 0\n",
      "IMAP 1233 1233\n",
      "IMF 5193 5193\n",
      "IOXIDResolver 1328 1328\n",
      "IPA 25 25\n",
      "IPX SAP 22410 22410\n",
      "IPv4 140010 0\n",
      "IPv6 48 0\n",
      "IRC 293 293\n",
      "ISystemActivator 691 691\n",
      "KDP 2 2\n",
      "LANMAN 264 264\n",
      "LLC 155 15\n",
      "LLDP 5684 0\n",
      "LLMNR 1636 1636\n",
      "MDNS 4533 4533\n",
      "MSMMS 1 1\n",
      "MSNMS 5323 5323\n",
      "NBDS 6785 6785\n",
      "NBNS 6257 6257\n",
      "NBSS 256 256\n",
      "NDPS 4 4\n",
      "NTP 107 107\n",
      "OpcUa 2 2\n",
      "PKIX-CRL 8 8\n",
      "POP 6903 6903\n",
      "PPTP 5 5\n",
      "QUAKE3 431 431\n",
      "QUAKEWORLD 1 1\n",
      "QUIC 19 19\n",
      "R3 5 5\n",
      "RDP 457 457\n",
      "RIPv2 30560 30560\n",
      "RSIP 65 65\n",
      "RSL 13 13\n",
      "RTCP 10 10\n",
      "RTMP 2 2\n",
      "SABP 30 30\n",
      "SIGCOMP 2 2\n",
      "SIP 3 3\n",
      "SMB 1721 1721\n",
      "SMB Pipe 1 1\n",
      "SMTP 68820 68820\n",
      "SNMP 168 168\n",
      "SPOOLSS 6 6\n",
      "SRVLOC 2375 2375\n",
      "SRVSVC 16 16\n",
      "SSDP 4644 4644\n",
      "SSH 724 724\n",
      "SSHv2 50412 50412\n",
      "SSL 85 85\n",
      "SSLv2 376 376\n",
      "SSLv3 80 80\n",
      "STP 85272 0\n",
      "TCP 3125048 3125048\n",
      "TDMoP 529 0\n",
      "TDS 9 9\n",
      "TFP over TCP 6 6\n",
      "TLSv1 20240 20240\n",
      "TPKT 5279 5279\n",
      "UDP 556049 556049\n",
      "VICP 30 30\n",
      "WKSSVC 4 4\n",
      "WOW 3 3\n",
      "WSP 1 1\n",
      "X11 4 4\n",
      "eDonkey 16 16\n",
      "slsk 1 1\n"
     ]
    }
   ],
   "source": [
    "data = []\n",
    "for x in sorted(SF['Protocol'].unique()):\n",
    "    xx = len(SF[SF['Protocol']==x])\n",
    "    yy = len(SF_WP[SF_WP['Protocol']==x])\n",
    "    print x,xx,yy\n",
    "    data.append((x,xx,yy))\n",
    "    "
   ]
  },
  {
   "cell_type": "code",
   "execution_count": 13,
   "metadata": {
    "collapsed": false
   },
   "outputs": [],
   "source": [
    "import pickle\n",
    "with open('protocol.pkl','w') as fil:\n",
    "    pickle.dump(data,fil)\n",
    "##Saving the protocol data in protocol.pkl file"
   ]
  },
  {
   "cell_type": "code",
   "execution_count": 14,
   "metadata": {
    "collapsed": false
   },
   "outputs": [
    {
     "data": {
      "text/html": [
       "<div style=\"max-height:1000px;max-width:1500px;overflow:auto;\"><table frame=\"box\" rules=\"cols\">\n",
       "    <tr>\n",
       "        <th style=\"padding-left: 1em; padding-right: 1em; text-align: center\">No.</th>\n",
       "        <th style=\"padding-left: 1em; padding-right: 1em; text-align: center\">Time</th>\n",
       "        <th style=\"padding-left: 1em; padding-right: 1em; text-align: center\">Source</th>\n",
       "        <th style=\"padding-left: 1em; padding-right: 1em; text-align: center\">Destination</th>\n",
       "        <th style=\"padding-left: 1em; padding-right: 1em; text-align: center\">Protocol</th>\n",
       "        <th style=\"padding-left: 1em; padding-right: 1em; text-align: center\">Length</th>\n",
       "        <th style=\"padding-left: 1em; padding-right: 1em; text-align: center\">Source Port</th>\n",
       "        <th style=\"padding-left: 1em; padding-right: 1em; text-align: center\">Destination Port</th>\n",
       "    </tr>\n",
       "    <tr>\n",
       "        <td style=\"padding-left: 1em; padding-right: 1em; text-align: center; vertical-align: top\">1089104</td>\n",
       "        <td style=\"padding-left: 1em; padding-right: 1em; text-align: center; vertical-align: top\">1349951260.49</td>\n",
       "        <td style=\"padding-left: 1em; padding-right: 1em; text-align: center; vertical-align: top\">00:00:00_00:10:00</td>\n",
       "        <td style=\"padding-left: 1em; padding-right: 1em; text-align: center; vertical-align: top\">e3:16:02:88:ff:ff</td>\n",
       "        <td style=\"padding-left: 1em; padding-right: 1em; text-align: center; vertical-align: top\">0x0700</td>\n",
       "        <td style=\"padding-left: 1em; padding-right: 1em; text-align: center; vertical-align: top\">163</td>\n",
       "        <td style=\"padding-left: 1em; padding-right: 1em; text-align: center; vertical-align: top\"></td>\n",
       "        <td style=\"padding-left: 1em; padding-right: 1em; text-align: center; vertical-align: top\"></td>\n",
       "    </tr>\n",
       "    <tr>\n",
       "        <td style=\"padding-left: 1em; padding-right: 1em; text-align: center; vertical-align: top\">1089211</td>\n",
       "        <td style=\"padding-left: 1em; padding-right: 1em; text-align: center; vertical-align: top\">1349951290.51</td>\n",
       "        <td style=\"padding-left: 1em; padding-right: 1em; text-align: center; vertical-align: top\">00:00:00_00:10:00</td>\n",
       "        <td style=\"padding-left: 1em; padding-right: 1em; text-align: center; vertical-align: top\">e3:16:02:88:ff:ff</td>\n",
       "        <td style=\"padding-left: 1em; padding-right: 1em; text-align: center; vertical-align: top\">0x0700</td>\n",
       "        <td style=\"padding-left: 1em; padding-right: 1em; text-align: center; vertical-align: top\">163</td>\n",
       "        <td style=\"padding-left: 1em; padding-right: 1em; text-align: center; vertical-align: top\"></td>\n",
       "        <td style=\"padding-left: 1em; padding-right: 1em; text-align: center; vertical-align: top\"></td>\n",
       "    </tr>\n",
       "    <tr>\n",
       "        <td style=\"padding-left: 1em; padding-right: 1em; text-align: center; vertical-align: top\">1089542</td>\n",
       "        <td style=\"padding-left: 1em; padding-right: 1em; text-align: center; vertical-align: top\">1349951350.54</td>\n",
       "        <td style=\"padding-left: 1em; padding-right: 1em; text-align: center; vertical-align: top\">00:00:00_00:10:00</td>\n",
       "        <td style=\"padding-left: 1em; padding-right: 1em; text-align: center; vertical-align: top\">e3:16:02:88:ff:ff</td>\n",
       "        <td style=\"padding-left: 1em; padding-right: 1em; text-align: center; vertical-align: top\">0x0700</td>\n",
       "        <td style=\"padding-left: 1em; padding-right: 1em; text-align: center; vertical-align: top\">163</td>\n",
       "        <td style=\"padding-left: 1em; padding-right: 1em; text-align: center; vertical-align: top\"></td>\n",
       "        <td style=\"padding-left: 1em; padding-right: 1em; text-align: center; vertical-align: top\"></td>\n",
       "    </tr>\n",
       "    <tr>\n",
       "        <td style=\"padding-left: 1em; padding-right: 1em; text-align: center; vertical-align: top\">1089544</td>\n",
       "        <td style=\"padding-left: 1em; padding-right: 1em; text-align: center; vertical-align: top\">1349951350.54</td>\n",
       "        <td style=\"padding-left: 1em; padding-right: 1em; text-align: center; vertical-align: top\">00:00:00_00:10:00</td>\n",
       "        <td style=\"padding-left: 1em; padding-right: 1em; text-align: center; vertical-align: top\">e3:16:02:88:ff:ff</td>\n",
       "        <td style=\"padding-left: 1em; padding-right: 1em; text-align: center; vertical-align: top\">0x0700</td>\n",
       "        <td style=\"padding-left: 1em; padding-right: 1em; text-align: center; vertical-align: top\">163</td>\n",
       "        <td style=\"padding-left: 1em; padding-right: 1em; text-align: center; vertical-align: top\"></td>\n",
       "        <td style=\"padding-left: 1em; padding-right: 1em; text-align: center; vertical-align: top\"></td>\n",
       "    </tr>\n",
       "    <tr>\n",
       "        <td style=\"padding-left: 1em; padding-right: 1em; text-align: center; vertical-align: top\">1090339</td>\n",
       "        <td style=\"padding-left: 1em; padding-right: 1em; text-align: center; vertical-align: top\">1349951470.61</td>\n",
       "        <td style=\"padding-left: 1em; padding-right: 1em; text-align: center; vertical-align: top\">00:00:00_00:10:00</td>\n",
       "        <td style=\"padding-left: 1em; padding-right: 1em; text-align: center; vertical-align: top\">e3:16:02:88:ff:ff</td>\n",
       "        <td style=\"padding-left: 1em; padding-right: 1em; text-align: center; vertical-align: top\">0x0700</td>\n",
       "        <td style=\"padding-left: 1em; padding-right: 1em; text-align: center; vertical-align: top\">163</td>\n",
       "        <td style=\"padding-left: 1em; padding-right: 1em; text-align: center; vertical-align: top\"></td>\n",
       "        <td style=\"padding-left: 1em; padding-right: 1em; text-align: center; vertical-align: top\"></td>\n",
       "    </tr>\n",
       "    <tr>\n",
       "        <td style=\"padding-left: 1em; padding-right: 1em; text-align: center; vertical-align: top\">1090341</td>\n",
       "        <td style=\"padding-left: 1em; padding-right: 1em; text-align: center; vertical-align: top\">1349951470.61</td>\n",
       "        <td style=\"padding-left: 1em; padding-right: 1em; text-align: center; vertical-align: top\">00:00:00_00:10:00</td>\n",
       "        <td style=\"padding-left: 1em; padding-right: 1em; text-align: center; vertical-align: top\">e3:16:02:88:ff:ff</td>\n",
       "        <td style=\"padding-left: 1em; padding-right: 1em; text-align: center; vertical-align: top\">0x0700</td>\n",
       "        <td style=\"padding-left: 1em; padding-right: 1em; text-align: center; vertical-align: top\">163</td>\n",
       "        <td style=\"padding-left: 1em; padding-right: 1em; text-align: center; vertical-align: top\"></td>\n",
       "        <td style=\"padding-left: 1em; padding-right: 1em; text-align: center; vertical-align: top\"></td>\n",
       "    </tr>\n",
       "    <tr>\n",
       "        <td style=\"padding-left: 1em; padding-right: 1em; text-align: center; vertical-align: top\">1090456</td>\n",
       "        <td style=\"padding-left: 1em; padding-right: 1em; text-align: center; vertical-align: top\">1349951500.63</td>\n",
       "        <td style=\"padding-left: 1em; padding-right: 1em; text-align: center; vertical-align: top\">00:00:00_00:10:00</td>\n",
       "        <td style=\"padding-left: 1em; padding-right: 1em; text-align: center; vertical-align: top\">e3:16:02:88:ff:ff</td>\n",
       "        <td style=\"padding-left: 1em; padding-right: 1em; text-align: center; vertical-align: top\">0x0700</td>\n",
       "        <td style=\"padding-left: 1em; padding-right: 1em; text-align: center; vertical-align: top\">163</td>\n",
       "        <td style=\"padding-left: 1em; padding-right: 1em; text-align: center; vertical-align: top\"></td>\n",
       "        <td style=\"padding-left: 1em; padding-right: 1em; text-align: center; vertical-align: top\"></td>\n",
       "    </tr>\n",
       "    <tr>\n",
       "        <td style=\"padding-left: 1em; padding-right: 1em; text-align: center; vertical-align: top\">1090594</td>\n",
       "        <td style=\"padding-left: 1em; padding-right: 1em; text-align: center; vertical-align: top\">1349951530.64</td>\n",
       "        <td style=\"padding-left: 1em; padding-right: 1em; text-align: center; vertical-align: top\">00:00:00_00:10:00</td>\n",
       "        <td style=\"padding-left: 1em; padding-right: 1em; text-align: center; vertical-align: top\">e3:16:02:88:ff:ff</td>\n",
       "        <td style=\"padding-left: 1em; padding-right: 1em; text-align: center; vertical-align: top\">0x0700</td>\n",
       "        <td style=\"padding-left: 1em; padding-right: 1em; text-align: center; vertical-align: top\">163</td>\n",
       "        <td style=\"padding-left: 1em; padding-right: 1em; text-align: center; vertical-align: top\"></td>\n",
       "        <td style=\"padding-left: 1em; padding-right: 1em; text-align: center; vertical-align: top\"></td>\n",
       "    </tr>\n",
       "    <tr>\n",
       "        <td style=\"padding-left: 1em; padding-right: 1em; text-align: center; vertical-align: top\">1091009</td>\n",
       "        <td style=\"padding-left: 1em; padding-right: 1em; text-align: center; vertical-align: top\">1349951620.68</td>\n",
       "        <td style=\"padding-left: 1em; padding-right: 1em; text-align: center; vertical-align: top\">00:00:00_00:10:00</td>\n",
       "        <td style=\"padding-left: 1em; padding-right: 1em; text-align: center; vertical-align: top\">e3:16:02:88:ff:ff</td>\n",
       "        <td style=\"padding-left: 1em; padding-right: 1em; text-align: center; vertical-align: top\">0x0700</td>\n",
       "        <td style=\"padding-left: 1em; padding-right: 1em; text-align: center; vertical-align: top\">163</td>\n",
       "        <td style=\"padding-left: 1em; padding-right: 1em; text-align: center; vertical-align: top\"></td>\n",
       "        <td style=\"padding-left: 1em; padding-right: 1em; text-align: center; vertical-align: top\"></td>\n",
       "    </tr>\n",
       "    <tr>\n",
       "        <td style=\"padding-left: 1em; padding-right: 1em; text-align: center; vertical-align: top\">1091145</td>\n",
       "        <td style=\"padding-left: 1em; padding-right: 1em; text-align: center; vertical-align: top\">1349951650.7</td>\n",
       "        <td style=\"padding-left: 1em; padding-right: 1em; text-align: center; vertical-align: top\">00:00:00_00:10:00</td>\n",
       "        <td style=\"padding-left: 1em; padding-right: 1em; text-align: center; vertical-align: top\">e3:16:02:88:ff:ff</td>\n",
       "        <td style=\"padding-left: 1em; padding-right: 1em; text-align: center; vertical-align: top\">0x0700</td>\n",
       "        <td style=\"padding-left: 1em; padding-right: 1em; text-align: center; vertical-align: top\">163</td>\n",
       "        <td style=\"padding-left: 1em; padding-right: 1em; text-align: center; vertical-align: top\"></td>\n",
       "        <td style=\"padding-left: 1em; padding-right: 1em; text-align: center; vertical-align: top\"></td>\n",
       "    </tr>\n",
       "</table>\n",
       "<table frame=\"box\" rules=\"cols\">\n",
       "    <tr>\n",
       "        <th style=\"padding-left: 1em; padding-right: 1em; text-align: center\">udp_Length</th>\n",
       "        <th style=\"padding-left: 1em; padding-right: 1em; text-align: center\">TCP Segment Len</th>\n",
       "        <th style=\"padding-left: 1em; padding-right: 1em; text-align: center\">Answer RRs</th>\n",
       "        <th style=\"padding-left: 1em; padding-right: 1em; text-align: center\">tcp_Flags</th>\n",
       "        <th style=\"padding-left: 1em; padding-right: 1em; text-align: center\">Protocols in frame</th>\n",
       "        <th style=\"padding-left: 1em; padding-right: 1em; text-align: center\">Sequence number</th>\n",
       "        <th style=\"padding-left: 1em; padding-right: 1em; text-align: center\">Time to live</th>\n",
       "        <th style=\"padding-left: 1em; padding-right: 1em; text-align: center\">Source GeoIP Country</th>\n",
       "    </tr>\n",
       "    <tr>\n",
       "        <td style=\"padding-left: 1em; padding-right: 1em; text-align: center; vertical-align: top\"></td>\n",
       "        <td style=\"padding-left: 1em; padding-right: 1em; text-align: center; vertical-align: top\"></td>\n",
       "        <td style=\"padding-left: 1em; padding-right: 1em; text-align: center; vertical-align: top\"></td>\n",
       "        <td style=\"padding-left: 1em; padding-right: 1em; text-align: center; vertical-align: top\"></td>\n",
       "        <td style=\"padding-left: 1em; padding-right: 1em; text-align: center; vertical-align: top\">eth:ethertype:data</td>\n",
       "        <td style=\"padding-left: 1em; padding-right: 1em; text-align: center; vertical-align: top\"></td>\n",
       "        <td style=\"padding-left: 1em; padding-right: 1em; text-align: center; vertical-align: top\"></td>\n",
       "        <td style=\"padding-left: 1em; padding-right: 1em; text-align: center; vertical-align: top\"></td>\n",
       "    </tr>\n",
       "    <tr>\n",
       "        <td style=\"padding-left: 1em; padding-right: 1em; text-align: center; vertical-align: top\"></td>\n",
       "        <td style=\"padding-left: 1em; padding-right: 1em; text-align: center; vertical-align: top\"></td>\n",
       "        <td style=\"padding-left: 1em; padding-right: 1em; text-align: center; vertical-align: top\"></td>\n",
       "        <td style=\"padding-left: 1em; padding-right: 1em; text-align: center; vertical-align: top\"></td>\n",
       "        <td style=\"padding-left: 1em; padding-right: 1em; text-align: center; vertical-align: top\">eth:ethertype:data</td>\n",
       "        <td style=\"padding-left: 1em; padding-right: 1em; text-align: center; vertical-align: top\"></td>\n",
       "        <td style=\"padding-left: 1em; padding-right: 1em; text-align: center; vertical-align: top\"></td>\n",
       "        <td style=\"padding-left: 1em; padding-right: 1em; text-align: center; vertical-align: top\"></td>\n",
       "    </tr>\n",
       "    <tr>\n",
       "        <td style=\"padding-left: 1em; padding-right: 1em; text-align: center; vertical-align: top\"></td>\n",
       "        <td style=\"padding-left: 1em; padding-right: 1em; text-align: center; vertical-align: top\"></td>\n",
       "        <td style=\"padding-left: 1em; padding-right: 1em; text-align: center; vertical-align: top\"></td>\n",
       "        <td style=\"padding-left: 1em; padding-right: 1em; text-align: center; vertical-align: top\"></td>\n",
       "        <td style=\"padding-left: 1em; padding-right: 1em; text-align: center; vertical-align: top\">eth:ethertype:data</td>\n",
       "        <td style=\"padding-left: 1em; padding-right: 1em; text-align: center; vertical-align: top\"></td>\n",
       "        <td style=\"padding-left: 1em; padding-right: 1em; text-align: center; vertical-align: top\"></td>\n",
       "        <td style=\"padding-left: 1em; padding-right: 1em; text-align: center; vertical-align: top\"></td>\n",
       "    </tr>\n",
       "    <tr>\n",
       "        <td style=\"padding-left: 1em; padding-right: 1em; text-align: center; vertical-align: top\"></td>\n",
       "        <td style=\"padding-left: 1em; padding-right: 1em; text-align: center; vertical-align: top\"></td>\n",
       "        <td style=\"padding-left: 1em; padding-right: 1em; text-align: center; vertical-align: top\"></td>\n",
       "        <td style=\"padding-left: 1em; padding-right: 1em; text-align: center; vertical-align: top\"></td>\n",
       "        <td style=\"padding-left: 1em; padding-right: 1em; text-align: center; vertical-align: top\">eth:ethertype:data</td>\n",
       "        <td style=\"padding-left: 1em; padding-right: 1em; text-align: center; vertical-align: top\"></td>\n",
       "        <td style=\"padding-left: 1em; padding-right: 1em; text-align: center; vertical-align: top\"></td>\n",
       "        <td style=\"padding-left: 1em; padding-right: 1em; text-align: center; vertical-align: top\"></td>\n",
       "    </tr>\n",
       "    <tr>\n",
       "        <td style=\"padding-left: 1em; padding-right: 1em; text-align: center; vertical-align: top\"></td>\n",
       "        <td style=\"padding-left: 1em; padding-right: 1em; text-align: center; vertical-align: top\"></td>\n",
       "        <td style=\"padding-left: 1em; padding-right: 1em; text-align: center; vertical-align: top\"></td>\n",
       "        <td style=\"padding-left: 1em; padding-right: 1em; text-align: center; vertical-align: top\"></td>\n",
       "        <td style=\"padding-left: 1em; padding-right: 1em; text-align: center; vertical-align: top\">eth:ethertype:data</td>\n",
       "        <td style=\"padding-left: 1em; padding-right: 1em; text-align: center; vertical-align: top\"></td>\n",
       "        <td style=\"padding-left: 1em; padding-right: 1em; text-align: center; vertical-align: top\"></td>\n",
       "        <td style=\"padding-left: 1em; padding-right: 1em; text-align: center; vertical-align: top\"></td>\n",
       "    </tr>\n",
       "    <tr>\n",
       "        <td style=\"padding-left: 1em; padding-right: 1em; text-align: center; vertical-align: top\"></td>\n",
       "        <td style=\"padding-left: 1em; padding-right: 1em; text-align: center; vertical-align: top\"></td>\n",
       "        <td style=\"padding-left: 1em; padding-right: 1em; text-align: center; vertical-align: top\"></td>\n",
       "        <td style=\"padding-left: 1em; padding-right: 1em; text-align: center; vertical-align: top\"></td>\n",
       "        <td style=\"padding-left: 1em; padding-right: 1em; text-align: center; vertical-align: top\">eth:ethertype:data</td>\n",
       "        <td style=\"padding-left: 1em; padding-right: 1em; text-align: center; vertical-align: top\"></td>\n",
       "        <td style=\"padding-left: 1em; padding-right: 1em; text-align: center; vertical-align: top\"></td>\n",
       "        <td style=\"padding-left: 1em; padding-right: 1em; text-align: center; vertical-align: top\"></td>\n",
       "    </tr>\n",
       "    <tr>\n",
       "        <td style=\"padding-left: 1em; padding-right: 1em; text-align: center; vertical-align: top\"></td>\n",
       "        <td style=\"padding-left: 1em; padding-right: 1em; text-align: center; vertical-align: top\"></td>\n",
       "        <td style=\"padding-left: 1em; padding-right: 1em; text-align: center; vertical-align: top\"></td>\n",
       "        <td style=\"padding-left: 1em; padding-right: 1em; text-align: center; vertical-align: top\"></td>\n",
       "        <td style=\"padding-left: 1em; padding-right: 1em; text-align: center; vertical-align: top\">eth:ethertype:data</td>\n",
       "        <td style=\"padding-left: 1em; padding-right: 1em; text-align: center; vertical-align: top\"></td>\n",
       "        <td style=\"padding-left: 1em; padding-right: 1em; text-align: center; vertical-align: top\"></td>\n",
       "        <td style=\"padding-left: 1em; padding-right: 1em; text-align: center; vertical-align: top\"></td>\n",
       "    </tr>\n",
       "    <tr>\n",
       "        <td style=\"padding-left: 1em; padding-right: 1em; text-align: center; vertical-align: top\"></td>\n",
       "        <td style=\"padding-left: 1em; padding-right: 1em; text-align: center; vertical-align: top\"></td>\n",
       "        <td style=\"padding-left: 1em; padding-right: 1em; text-align: center; vertical-align: top\"></td>\n",
       "        <td style=\"padding-left: 1em; padding-right: 1em; text-align: center; vertical-align: top\"></td>\n",
       "        <td style=\"padding-left: 1em; padding-right: 1em; text-align: center; vertical-align: top\">eth:ethertype:data</td>\n",
       "        <td style=\"padding-left: 1em; padding-right: 1em; text-align: center; vertical-align: top\"></td>\n",
       "        <td style=\"padding-left: 1em; padding-right: 1em; text-align: center; vertical-align: top\"></td>\n",
       "        <td style=\"padding-left: 1em; padding-right: 1em; text-align: center; vertical-align: top\"></td>\n",
       "    </tr>\n",
       "    <tr>\n",
       "        <td style=\"padding-left: 1em; padding-right: 1em; text-align: center; vertical-align: top\"></td>\n",
       "        <td style=\"padding-left: 1em; padding-right: 1em; text-align: center; vertical-align: top\"></td>\n",
       "        <td style=\"padding-left: 1em; padding-right: 1em; text-align: center; vertical-align: top\"></td>\n",
       "        <td style=\"padding-left: 1em; padding-right: 1em; text-align: center; vertical-align: top\"></td>\n",
       "        <td style=\"padding-left: 1em; padding-right: 1em; text-align: center; vertical-align: top\">eth:ethertype:data</td>\n",
       "        <td style=\"padding-left: 1em; padding-right: 1em; text-align: center; vertical-align: top\"></td>\n",
       "        <td style=\"padding-left: 1em; padding-right: 1em; text-align: center; vertical-align: top\"></td>\n",
       "        <td style=\"padding-left: 1em; padding-right: 1em; text-align: center; vertical-align: top\"></td>\n",
       "    </tr>\n",
       "    <tr>\n",
       "        <td style=\"padding-left: 1em; padding-right: 1em; text-align: center; vertical-align: top\"></td>\n",
       "        <td style=\"padding-left: 1em; padding-right: 1em; text-align: center; vertical-align: top\"></td>\n",
       "        <td style=\"padding-left: 1em; padding-right: 1em; text-align: center; vertical-align: top\"></td>\n",
       "        <td style=\"padding-left: 1em; padding-right: 1em; text-align: center; vertical-align: top\"></td>\n",
       "        <td style=\"padding-left: 1em; padding-right: 1em; text-align: center; vertical-align: top\">eth:ethertype:data</td>\n",
       "        <td style=\"padding-left: 1em; padding-right: 1em; text-align: center; vertical-align: top\"></td>\n",
       "        <td style=\"padding-left: 1em; padding-right: 1em; text-align: center; vertical-align: top\"></td>\n",
       "        <td style=\"padding-left: 1em; padding-right: 1em; text-align: center; vertical-align: top\"></td>\n",
       "    </tr>\n",
       "</table>\n",
       "<table frame=\"box\" rules=\"cols\">\n",
       "    <tr>\n",
       "        <th style=\"padding-left: 1em; padding-right: 1em; text-align: center\">Source GeoIP Latitude</th>\n",
       "        <th style=\"padding-left: 1em; padding-right: 1em; text-align: center\">Source GeoIP Longitude</th>\n",
       "        <th style=\"padding-left: 1em; padding-right: 1em; text-align: center\">Destination GeoIP Country</th>\n",
       "        <th style=\"padding-left: 1em; padding-right: 1em; text-align: center\">Destination GeoIP<br>Latitude ...</th>\n",
       "        <th style=\"padding-left: 1em; padding-right: 1em; text-align: center\">Destination GeoIP<br>Longitude ...</th>\n",
       "        <th style=\"padding-left: 1em; padding-right: 1em; text-align: center\">Next sequence number</th>\n",
       "    </tr>\n",
       "    <tr>\n",
       "        <td style=\"padding-left: 1em; padding-right: 1em; text-align: center; vertical-align: top\"></td>\n",
       "        <td style=\"padding-left: 1em; padding-right: 1em; text-align: center; vertical-align: top\"></td>\n",
       "        <td style=\"padding-left: 1em; padding-right: 1em; text-align: center; vertical-align: top\"></td>\n",
       "        <td style=\"padding-left: 1em; padding-right: 1em; text-align: center; vertical-align: top\"></td>\n",
       "        <td style=\"padding-left: 1em; padding-right: 1em; text-align: center; vertical-align: top\"></td>\n",
       "        <td style=\"padding-left: 1em; padding-right: 1em; text-align: center; vertical-align: top\"></td>\n",
       "    </tr>\n",
       "    <tr>\n",
       "        <td style=\"padding-left: 1em; padding-right: 1em; text-align: center; vertical-align: top\"></td>\n",
       "        <td style=\"padding-left: 1em; padding-right: 1em; text-align: center; vertical-align: top\"></td>\n",
       "        <td style=\"padding-left: 1em; padding-right: 1em; text-align: center; vertical-align: top\"></td>\n",
       "        <td style=\"padding-left: 1em; padding-right: 1em; text-align: center; vertical-align: top\"></td>\n",
       "        <td style=\"padding-left: 1em; padding-right: 1em; text-align: center; vertical-align: top\"></td>\n",
       "        <td style=\"padding-left: 1em; padding-right: 1em; text-align: center; vertical-align: top\"></td>\n",
       "    </tr>\n",
       "    <tr>\n",
       "        <td style=\"padding-left: 1em; padding-right: 1em; text-align: center; vertical-align: top\"></td>\n",
       "        <td style=\"padding-left: 1em; padding-right: 1em; text-align: center; vertical-align: top\"></td>\n",
       "        <td style=\"padding-left: 1em; padding-right: 1em; text-align: center; vertical-align: top\"></td>\n",
       "        <td style=\"padding-left: 1em; padding-right: 1em; text-align: center; vertical-align: top\"></td>\n",
       "        <td style=\"padding-left: 1em; padding-right: 1em; text-align: center; vertical-align: top\"></td>\n",
       "        <td style=\"padding-left: 1em; padding-right: 1em; text-align: center; vertical-align: top\"></td>\n",
       "    </tr>\n",
       "    <tr>\n",
       "        <td style=\"padding-left: 1em; padding-right: 1em; text-align: center; vertical-align: top\"></td>\n",
       "        <td style=\"padding-left: 1em; padding-right: 1em; text-align: center; vertical-align: top\"></td>\n",
       "        <td style=\"padding-left: 1em; padding-right: 1em; text-align: center; vertical-align: top\"></td>\n",
       "        <td style=\"padding-left: 1em; padding-right: 1em; text-align: center; vertical-align: top\"></td>\n",
       "        <td style=\"padding-left: 1em; padding-right: 1em; text-align: center; vertical-align: top\"></td>\n",
       "        <td style=\"padding-left: 1em; padding-right: 1em; text-align: center; vertical-align: top\"></td>\n",
       "    </tr>\n",
       "    <tr>\n",
       "        <td style=\"padding-left: 1em; padding-right: 1em; text-align: center; vertical-align: top\"></td>\n",
       "        <td style=\"padding-left: 1em; padding-right: 1em; text-align: center; vertical-align: top\"></td>\n",
       "        <td style=\"padding-left: 1em; padding-right: 1em; text-align: center; vertical-align: top\"></td>\n",
       "        <td style=\"padding-left: 1em; padding-right: 1em; text-align: center; vertical-align: top\"></td>\n",
       "        <td style=\"padding-left: 1em; padding-right: 1em; text-align: center; vertical-align: top\"></td>\n",
       "        <td style=\"padding-left: 1em; padding-right: 1em; text-align: center; vertical-align: top\"></td>\n",
       "    </tr>\n",
       "    <tr>\n",
       "        <td style=\"padding-left: 1em; padding-right: 1em; text-align: center; vertical-align: top\"></td>\n",
       "        <td style=\"padding-left: 1em; padding-right: 1em; text-align: center; vertical-align: top\"></td>\n",
       "        <td style=\"padding-left: 1em; padding-right: 1em; text-align: center; vertical-align: top\"></td>\n",
       "        <td style=\"padding-left: 1em; padding-right: 1em; text-align: center; vertical-align: top\"></td>\n",
       "        <td style=\"padding-left: 1em; padding-right: 1em; text-align: center; vertical-align: top\"></td>\n",
       "        <td style=\"padding-left: 1em; padding-right: 1em; text-align: center; vertical-align: top\"></td>\n",
       "    </tr>\n",
       "    <tr>\n",
       "        <td style=\"padding-left: 1em; padding-right: 1em; text-align: center; vertical-align: top\"></td>\n",
       "        <td style=\"padding-left: 1em; padding-right: 1em; text-align: center; vertical-align: top\"></td>\n",
       "        <td style=\"padding-left: 1em; padding-right: 1em; text-align: center; vertical-align: top\"></td>\n",
       "        <td style=\"padding-left: 1em; padding-right: 1em; text-align: center; vertical-align: top\"></td>\n",
       "        <td style=\"padding-left: 1em; padding-right: 1em; text-align: center; vertical-align: top\"></td>\n",
       "        <td style=\"padding-left: 1em; padding-right: 1em; text-align: center; vertical-align: top\"></td>\n",
       "    </tr>\n",
       "    <tr>\n",
       "        <td style=\"padding-left: 1em; padding-right: 1em; text-align: center; vertical-align: top\"></td>\n",
       "        <td style=\"padding-left: 1em; padding-right: 1em; text-align: center; vertical-align: top\"></td>\n",
       "        <td style=\"padding-left: 1em; padding-right: 1em; text-align: center; vertical-align: top\"></td>\n",
       "        <td style=\"padding-left: 1em; padding-right: 1em; text-align: center; vertical-align: top\"></td>\n",
       "        <td style=\"padding-left: 1em; padding-right: 1em; text-align: center; vertical-align: top\"></td>\n",
       "        <td style=\"padding-left: 1em; padding-right: 1em; text-align: center; vertical-align: top\"></td>\n",
       "    </tr>\n",
       "    <tr>\n",
       "        <td style=\"padding-left: 1em; padding-right: 1em; text-align: center; vertical-align: top\"></td>\n",
       "        <td style=\"padding-left: 1em; padding-right: 1em; text-align: center; vertical-align: top\"></td>\n",
       "        <td style=\"padding-left: 1em; padding-right: 1em; text-align: center; vertical-align: top\"></td>\n",
       "        <td style=\"padding-left: 1em; padding-right: 1em; text-align: center; vertical-align: top\"></td>\n",
       "        <td style=\"padding-left: 1em; padding-right: 1em; text-align: center; vertical-align: top\"></td>\n",
       "        <td style=\"padding-left: 1em; padding-right: 1em; text-align: center; vertical-align: top\"></td>\n",
       "    </tr>\n",
       "    <tr>\n",
       "        <td style=\"padding-left: 1em; padding-right: 1em; text-align: center; vertical-align: top\"></td>\n",
       "        <td style=\"padding-left: 1em; padding-right: 1em; text-align: center; vertical-align: top\"></td>\n",
       "        <td style=\"padding-left: 1em; padding-right: 1em; text-align: center; vertical-align: top\"></td>\n",
       "        <td style=\"padding-left: 1em; padding-right: 1em; text-align: center; vertical-align: top\"></td>\n",
       "        <td style=\"padding-left: 1em; padding-right: 1em; text-align: center; vertical-align: top\"></td>\n",
       "        <td style=\"padding-left: 1em; padding-right: 1em; text-align: center; vertical-align: top\"></td>\n",
       "    </tr>\n",
       "</table>\n",
       "<table frame=\"box\" rules=\"cols\">\n",
       "    <tr>\n",
       "        <th style=\"padding-left: 1em; padding-right: 1em; text-align: center\">Differentiated Services<br>Field ...</th>\n",
       "        <th style=\"padding-left: 1em; padding-right: 1em; text-align: center\">IP_Flags</th>\n",
       "        <th style=\"padding-left: 1em; padding-right: 1em; text-align: center\">Info</th>\n",
       "    </tr>\n",
       "    <tr>\n",
       "        <td style=\"padding-left: 1em; padding-right: 1em; text-align: center; vertical-align: top\"></td>\n",
       "        <td style=\"padding-left: 1em; padding-right: 1em; text-align: center; vertical-align: top\"></td>\n",
       "        <td style=\"padding-left: 1em; padding-right: 1em; text-align: center; vertical-align: top\">Ethernet II</td>\n",
       "    </tr>\n",
       "    <tr>\n",
       "        <td style=\"padding-left: 1em; padding-right: 1em; text-align: center; vertical-align: top\"></td>\n",
       "        <td style=\"padding-left: 1em; padding-right: 1em; text-align: center; vertical-align: top\"></td>\n",
       "        <td style=\"padding-left: 1em; padding-right: 1em; text-align: center; vertical-align: top\">Ethernet II</td>\n",
       "    </tr>\n",
       "    <tr>\n",
       "        <td style=\"padding-left: 1em; padding-right: 1em; text-align: center; vertical-align: top\"></td>\n",
       "        <td style=\"padding-left: 1em; padding-right: 1em; text-align: center; vertical-align: top\"></td>\n",
       "        <td style=\"padding-left: 1em; padding-right: 1em; text-align: center; vertical-align: top\">Ethernet II</td>\n",
       "    </tr>\n",
       "    <tr>\n",
       "        <td style=\"padding-left: 1em; padding-right: 1em; text-align: center; vertical-align: top\"></td>\n",
       "        <td style=\"padding-left: 1em; padding-right: 1em; text-align: center; vertical-align: top\"></td>\n",
       "        <td style=\"padding-left: 1em; padding-right: 1em; text-align: center; vertical-align: top\">Ethernet II</td>\n",
       "    </tr>\n",
       "    <tr>\n",
       "        <td style=\"padding-left: 1em; padding-right: 1em; text-align: center; vertical-align: top\"></td>\n",
       "        <td style=\"padding-left: 1em; padding-right: 1em; text-align: center; vertical-align: top\"></td>\n",
       "        <td style=\"padding-left: 1em; padding-right: 1em; text-align: center; vertical-align: top\">Ethernet II</td>\n",
       "    </tr>\n",
       "    <tr>\n",
       "        <td style=\"padding-left: 1em; padding-right: 1em; text-align: center; vertical-align: top\"></td>\n",
       "        <td style=\"padding-left: 1em; padding-right: 1em; text-align: center; vertical-align: top\"></td>\n",
       "        <td style=\"padding-left: 1em; padding-right: 1em; text-align: center; vertical-align: top\">Ethernet II</td>\n",
       "    </tr>\n",
       "    <tr>\n",
       "        <td style=\"padding-left: 1em; padding-right: 1em; text-align: center; vertical-align: top\"></td>\n",
       "        <td style=\"padding-left: 1em; padding-right: 1em; text-align: center; vertical-align: top\"></td>\n",
       "        <td style=\"padding-left: 1em; padding-right: 1em; text-align: center; vertical-align: top\">Ethernet II</td>\n",
       "    </tr>\n",
       "    <tr>\n",
       "        <td style=\"padding-left: 1em; padding-right: 1em; text-align: center; vertical-align: top\"></td>\n",
       "        <td style=\"padding-left: 1em; padding-right: 1em; text-align: center; vertical-align: top\"></td>\n",
       "        <td style=\"padding-left: 1em; padding-right: 1em; text-align: center; vertical-align: top\">Ethernet II</td>\n",
       "    </tr>\n",
       "    <tr>\n",
       "        <td style=\"padding-left: 1em; padding-right: 1em; text-align: center; vertical-align: top\"></td>\n",
       "        <td style=\"padding-left: 1em; padding-right: 1em; text-align: center; vertical-align: top\"></td>\n",
       "        <td style=\"padding-left: 1em; padding-right: 1em; text-align: center; vertical-align: top\">Ethernet II</td>\n",
       "    </tr>\n",
       "    <tr>\n",
       "        <td style=\"padding-left: 1em; padding-right: 1em; text-align: center; vertical-align: top\"></td>\n",
       "        <td style=\"padding-left: 1em; padding-right: 1em; text-align: center; vertical-align: top\"></td>\n",
       "        <td style=\"padding-left: 1em; padding-right: 1em; text-align: center; vertical-align: top\">Ethernet II</td>\n",
       "    </tr>\n",
       "</table>\n",
       "[? rows x 25 columns]<br/>Note: Only the head of the SFrame is printed. This SFrame is lazily evaluated.<br/>You can use sf.materialize() to force materialization.\n",
       "</div>"
      ],
      "text/plain": [
       "Columns:\n",
       "\tNo.\tint\n",
       "\tTime\tfloat\n",
       "\tSource\tstr\n",
       "\tDestination\tstr\n",
       "\tProtocol\tstr\n",
       "\tLength\tint\n",
       "\tSource Port\tstr\n",
       "\tDestination Port\tstr\n",
       "\tudp_Length\tstr\n",
       "\tTCP Segment Len\tstr\n",
       "\tAnswer RRs\tstr\n",
       "\ttcp_Flags\tstr\n",
       "\tProtocols in frame\tstr\n",
       "\tSequence number\tstr\n",
       "\tTime to live\tstr\n",
       "\tSource GeoIP Country\tstr\n",
       "\tSource GeoIP Latitude\tstr\n",
       "\tSource GeoIP Longitude\tstr\n",
       "\tDestination GeoIP Country\tstr\n",
       "\tDestination GeoIP Latitude\tstr\n",
       "\tDestination GeoIP Longitude\tstr\n",
       "\tNext sequence number\tstr\n",
       "\tDifferentiated Services Field\tstr\n",
       "\tIP_Flags\tstr\n",
       "\tInfo\tstr\n",
       "\n",
       "Rows: Unknown\n",
       "\n",
       "Data:\n",
       "+---------+---------------+-------------------+-------------------+----------+\n",
       "|   No.   |      Time     |       Source      |    Destination    | Protocol |\n",
       "+---------+---------------+-------------------+-------------------+----------+\n",
       "| 1089104 | 1349951260.49 | 00:00:00_00:10:00 | e3:16:02:88:ff:ff |  0x0700  |\n",
       "| 1089211 | 1349951290.51 | 00:00:00_00:10:00 | e3:16:02:88:ff:ff |  0x0700  |\n",
       "| 1089542 | 1349951350.54 | 00:00:00_00:10:00 | e3:16:02:88:ff:ff |  0x0700  |\n",
       "| 1089544 | 1349951350.54 | 00:00:00_00:10:00 | e3:16:02:88:ff:ff |  0x0700  |\n",
       "| 1090339 | 1349951470.61 | 00:00:00_00:10:00 | e3:16:02:88:ff:ff |  0x0700  |\n",
       "| 1090341 | 1349951470.61 | 00:00:00_00:10:00 | e3:16:02:88:ff:ff |  0x0700  |\n",
       "| 1090456 | 1349951500.63 | 00:00:00_00:10:00 | e3:16:02:88:ff:ff |  0x0700  |\n",
       "| 1090594 | 1349951530.64 | 00:00:00_00:10:00 | e3:16:02:88:ff:ff |  0x0700  |\n",
       "| 1091009 | 1349951620.68 | 00:00:00_00:10:00 | e3:16:02:88:ff:ff |  0x0700  |\n",
       "| 1091145 |  1349951650.7 | 00:00:00_00:10:00 | e3:16:02:88:ff:ff |  0x0700  |\n",
       "+---------+---------------+-------------------+-------------------+----------+\n",
       "+--------+-------------+------------------+------------+-----------------+------------+\n",
       "| Length | Source Port | Destination Port | udp_Length | TCP Segment Len | Answer RRs |\n",
       "+--------+-------------+------------------+------------+-----------------+------------+\n",
       "|  163   |             |                  |            |                 |            |\n",
       "|  163   |             |                  |            |                 |            |\n",
       "|  163   |             |                  |            |                 |            |\n",
       "|  163   |             |                  |            |                 |            |\n",
       "|  163   |             |                  |            |                 |            |\n",
       "|  163   |             |                  |            |                 |            |\n",
       "|  163   |             |                  |            |                 |            |\n",
       "|  163   |             |                  |            |                 |            |\n",
       "|  163   |             |                  |            |                 |            |\n",
       "|  163   |             |                  |            |                 |            |\n",
       "+--------+-------------+------------------+------------+-----------------+------------+\n",
       "+-----------+--------------------+-----------------+--------------+----------------------+\n",
       "| tcp_Flags | Protocols in frame | Sequence number | Time to live | Source GeoIP Country |\n",
       "+-----------+--------------------+-----------------+--------------+----------------------+\n",
       "|           | eth:ethertype:data |                 |              |                      |\n",
       "|           | eth:ethertype:data |                 |              |                      |\n",
       "|           | eth:ethertype:data |                 |              |                      |\n",
       "|           | eth:ethertype:data |                 |              |                      |\n",
       "|           | eth:ethertype:data |                 |              |                      |\n",
       "|           | eth:ethertype:data |                 |              |                      |\n",
       "|           | eth:ethertype:data |                 |              |                      |\n",
       "|           | eth:ethertype:data |                 |              |                      |\n",
       "|           | eth:ethertype:data |                 |              |                      |\n",
       "|           | eth:ethertype:data |                 |              |                      |\n",
       "+-----------+--------------------+-----------------+--------------+----------------------+\n",
       "+-----------------------+------------------------+---------------------------+----------------------------+-----+\n",
       "| Source GeoIP Latitude | Source GeoIP Longitude | Destination GeoIP Country | Destination GeoIP Latitude | ... |\n",
       "+-----------------------+------------------------+---------------------------+----------------------------+-----+\n",
       "|                       |                        |                           |                            | ... |\n",
       "|                       |                        |                           |                            | ... |\n",
       "|                       |                        |                           |                            | ... |\n",
       "|                       |                        |                           |                            | ... |\n",
       "|                       |                        |                           |                            | ... |\n",
       "|                       |                        |                           |                            | ... |\n",
       "|                       |                        |                           |                            | ... |\n",
       "|                       |                        |                           |                            | ... |\n",
       "|                       |                        |                           |                            | ... |\n",
       "|                       |                        |                           |                            | ... |\n",
       "+-----------------------+------------------------+---------------------------+----------------------------+-----+\n",
       "[? rows x 25 columns]\n",
       "Note: Only the head of the SFrame is printed. This SFrame is lazily evaluated.\n",
       "You can use sf.materialize() to force materialization."
      ]
     },
     "execution_count": 14,
     "metadata": {},
     "output_type": "execute_result"
    }
   ],
   "source": [
    "SF[SF['Protocol']=='0x0700']"
   ]
  },
  {
   "cell_type": "markdown",
   "metadata": {},
   "source": [
    "### Create new features based on the ARP requests, DNS queries, Suspicious Flag activities and other features"
   ]
  },
  {
   "cell_type": "code",
   "execution_count": null,
   "metadata": {
    "collapsed": true
   },
   "outputs": [],
   "source": []
  }
 ],
 "metadata": {
  "anaconda-cloud": {},
  "kernelspec": {
   "display_name": "Python [conda env:tensorflow]",
   "language": "python",
   "name": "conda-env-tensorflow-py"
  },
  "language_info": {
   "codemirror_mode": {
    "name": "ipython",
    "version": 2
   },
   "file_extension": ".py",
   "mimetype": "text/x-python",
   "name": "python",
   "nbconvert_exporter": "python",
   "pygments_lexer": "ipython2",
   "version": "2.7.12"
  }
 },
 "nbformat": 4,
 "nbformat_minor": 1
}
