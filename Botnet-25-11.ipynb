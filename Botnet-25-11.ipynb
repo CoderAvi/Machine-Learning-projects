{
 "cells": [
  {
   "cell_type": "code",
   "execution_count": 107,
   "metadata": {
    "collapsed": false
   },
   "outputs": [],
   "source": [
    "## import libraries\n",
    "import numpy as np\n",
    "np.random.seed(123)\n",
    "\n",
    "import pandas as pd\n",
    "import subprocess\n",
    "from scipy.sparse import csr_matrix, hstack\n",
    "from sklearn.metrics import mean_absolute_error,matthews_corrcoef,classification_report, confusion_matrix\n",
    "from sklearn.preprocessing import StandardScaler\n",
    "from sklearn.cross_validation import KFold\n",
    "from sklearn.utils import shuffle\n",
    "from keras.models import Sequential\n",
    "from keras.layers import Dense, Dropout, Activation\n",
    "from keras.layers.normalization import BatchNormalization\n",
    "from keras.layers.core import Activation\n",
    "from keras.layers.advanced_activations import PReLU\n",
    "from keras.callbacks import CSVLogger,EarlyStopping, ModelCheckpoint"
   ]
  },
  {
   "cell_type": "code",
   "execution_count": 2,
   "metadata": {
    "collapsed": true
   },
   "outputs": [],
   "source": [
    "## Batch generators ##################################################################################################################################\n",
    "\n",
    "def batch_generator(X, y, batch_size, shuffle):\n",
    "    #chenglong code for fiting from generator (https://www.kaggle.com/c/talkingdata-mobile-user-demographics/forums/t/22567/neural-network-for-sparse-matrices)\n",
    "    number_of_batches = np.ceil(X.shape[0]/batch_size)\n",
    "    counter = 0\n",
    "    sample_index = np.arange(X.shape[0])\n",
    "    if shuffle:\n",
    "        np.random.shuffle(sample_index)\n",
    "    while True:\n",
    "        batch_index = sample_index[batch_size*counter:batch_size*(counter+1)]\n",
    "        X_batch = X[batch_index,:].toarray()\n",
    "        y_batch = y[batch_index]\n",
    "        counter += 1\n",
    "        yield X_batch, y_batch\n",
    "        if (counter == number_of_batches):\n",
    "            if shuffle:\n",
    "                np.random.shuffle(sample_index)\n",
    "            counter = 0\n",
    "\n",
    "def batch_generatorp(X, batch_size, shuffle):\n",
    "    number_of_batches = X.shape[0] / np.ceil(X.shape[0]/batch_size)\n",
    "    counter = 0\n",
    "    sample_index = np.arange(X.shape[0])\n",
    "    while True:\n",
    "        batch_index = sample_index[batch_size * counter:batch_size * (counter + 1)]\n",
    "        X_batch = X[batch_index, :].toarray()\n",
    "        counter += 1\n",
    "        yield X_batch\n",
    "        if (counter == number_of_batches):\n",
    "            counter = 0\n"
   ]
  },
  {
   "cell_type": "markdown",
   "metadata": {},
   "source": [
    "## Read Data"
   ]
  },
  {
   "cell_type": "code",
   "execution_count": 3,
   "metadata": {
    "collapsed": false
   },
   "outputs": [
    {
     "name": "stderr",
     "output_type": "stream",
     "text": [
      "/home/him/anaconda2/envs/theano-gpu/lib/python2.7/site-packages/IPython/core/interactiveshell.py:2717: DtypeWarning: Columns (33) have mixed types. Specify dtype option on import or set low_memory=False.\n",
      "  interactivity=interactivity, compiler=compiler, result=result)\n"
     ]
    }
   ],
   "source": [
    "Train = pd.read_csv('Bidirectional_Botnet_Training_Final_Flow_Based_Features.csv')\n",
    "Test = pd.read_csv('Bidirectional_Botnet_Test_Final_Flow_Based_Features.csv')"
   ]
  },
  {
   "cell_type": "code",
   "execution_count": 4,
   "metadata": {
    "collapsed": false
   },
   "outputs": [
    {
     "data": {
      "text/html": [
       "<div>\n",
       "<table border=\"1\" class=\"dataframe\">\n",
       "  <thead>\n",
       "    <tr style=\"text-align: right;\">\n",
       "      <th></th>\n",
       "      <th>FlowNo.</th>\n",
       "      <th>Info</th>\n",
       "      <th>udp_Length</th>\n",
       "      <th>Destination</th>\n",
       "      <th>APL</th>\n",
       "      <th>AvgPktPerSec</th>\n",
       "      <th>Destination Port</th>\n",
       "      <th>Answer RRs</th>\n",
       "      <th>TCP Segment Len</th>\n",
       "      <th>Differentiated Services Field</th>\n",
       "      <th>...</th>\n",
       "      <th>NumPackets</th>\n",
       "      <th>Source Port</th>\n",
       "      <th>StdDevLen</th>\n",
       "      <th>Next sequence number</th>\n",
       "      <th>SameLenPktRatio</th>\n",
       "      <th>FPL</th>\n",
       "      <th>Duration</th>\n",
       "      <th>Time to live</th>\n",
       "      <th>Sequence number</th>\n",
       "      <th>NPEx</th>\n",
       "    </tr>\n",
       "  </thead>\n",
       "  <tbody>\n",
       "    <tr>\n",
       "      <th>0</th>\n",
       "      <td>211023</td>\n",
       "      <td>80  &gt;  4546 [ACK] Seq=4700 Ack=120 Win=5840 Len=0</td>\n",
       "      <td>NaN</td>\n",
       "      <td>192.168.2.109</td>\n",
       "      <td>60.0</td>\n",
       "      <td>0.000000</td>\n",
       "      <td>4546</td>\n",
       "      <td>NaN</td>\n",
       "      <td>0.0</td>\n",
       "      <td>0x00</td>\n",
       "      <td>...</td>\n",
       "      <td>1</td>\n",
       "      <td>80</td>\n",
       "      <td>0.0</td>\n",
       "      <td>NaN</td>\n",
       "      <td>1.0</td>\n",
       "      <td>60</td>\n",
       "      <td>0.000000</td>\n",
       "      <td>41</td>\n",
       "      <td>4700</td>\n",
       "      <td>1</td>\n",
       "    </tr>\n",
       "    <tr>\n",
       "      <th>1</th>\n",
       "      <td>442699</td>\n",
       "      <td>2301  &gt;  80 [ACK] Seq=435 Ack=8199 Win=16349 L...</td>\n",
       "      <td>NaN</td>\n",
       "      <td>74.55.1.4</td>\n",
       "      <td>60.0</td>\n",
       "      <td>0.144511</td>\n",
       "      <td>80</td>\n",
       "      <td>NaN</td>\n",
       "      <td>0.0</td>\n",
       "      <td>0x00</td>\n",
       "      <td>...</td>\n",
       "      <td>2</td>\n",
       "      <td>2301</td>\n",
       "      <td>0.0</td>\n",
       "      <td>NaN</td>\n",
       "      <td>0.5</td>\n",
       "      <td>60</td>\n",
       "      <td>13.839800</td>\n",
       "      <td>128</td>\n",
       "      <td>435</td>\n",
       "      <td>2</td>\n",
       "    </tr>\n",
       "    <tr>\n",
       "      <th>2</th>\n",
       "      <td>79732</td>\n",
       "      <td>4683  &gt;  80 [SYN] Seq=0 Win=16384 Len=0 MSS=14...</td>\n",
       "      <td>NaN</td>\n",
       "      <td>125.6.164.43</td>\n",
       "      <td>61.0</td>\n",
       "      <td>9.500400</td>\n",
       "      <td>80</td>\n",
       "      <td>NaN</td>\n",
       "      <td>0.0</td>\n",
       "      <td>0x00</td>\n",
       "      <td>...</td>\n",
       "      <td>4</td>\n",
       "      <td>4683</td>\n",
       "      <td>1.0</td>\n",
       "      <td>NaN</td>\n",
       "      <td>0.5</td>\n",
       "      <td>62</td>\n",
       "      <td>0.421035</td>\n",
       "      <td>128</td>\n",
       "      <td>0</td>\n",
       "      <td>4</td>\n",
       "    </tr>\n",
       "  </tbody>\n",
       "</table>\n",
       "<p>3 rows × 35 columns</p>\n",
       "</div>"
      ],
      "text/plain": [
       "   FlowNo.                                               Info  udp_Length  \\\n",
       "0   211023  80  >  4546 [ACK] Seq=4700 Ack=120 Win=5840 Len=0         NaN   \n",
       "1   442699  2301  >  80 [ACK] Seq=435 Ack=8199 Win=16349 L...         NaN   \n",
       "2    79732  4683  >  80 [SYN] Seq=0 Win=16384 Len=0 MSS=14...         NaN   \n",
       "\n",
       "     Destination   APL  AvgPktPerSec  Destination Port  Answer RRs  \\\n",
       "0  192.168.2.109  60.0      0.000000              4546         NaN   \n",
       "1      74.55.1.4  60.0      0.144511                80         NaN   \n",
       "2   125.6.164.43  61.0      9.500400                80         NaN   \n",
       "\n",
       "   TCP Segment Len Differentiated Services Field ...   NumPackets Source Port  \\\n",
       "0              0.0                          0x00 ...            1          80   \n",
       "1              0.0                          0x00 ...            2        2301   \n",
       "2              0.0                          0x00 ...            4        4683   \n",
       "\n",
       "   StdDevLen  Next sequence number  SameLenPktRatio  FPL   Duration  \\\n",
       "0        0.0                   NaN              1.0   60   0.000000   \n",
       "1        0.0                   NaN              0.5   60  13.839800   \n",
       "2        1.0                   NaN              0.5   62   0.421035   \n",
       "\n",
       "  Time to live  Sequence number NPEx  \n",
       "0           41             4700    1  \n",
       "1          128              435    2  \n",
       "2          128                0    4  \n",
       "\n",
       "[3 rows x 35 columns]"
      ]
     },
     "execution_count": 4,
     "metadata": {},
     "output_type": "execute_result"
    }
   ],
   "source": [
    "Train.head(3)"
   ]
  },
  {
   "cell_type": "code",
   "execution_count": 5,
   "metadata": {
    "collapsed": false
   },
   "outputs": [
    {
     "data": {
      "text/plain": [
       "['FlowNo.',\n",
       " 'Info',\n",
       " 'udp_Length',\n",
       " 'Destination',\n",
       " 'APL',\n",
       " 'AvgPktPerSec',\n",
       " 'Destination Port',\n",
       " 'Answer RRs',\n",
       " 'TCP Segment Len',\n",
       " 'Differentiated Services Field',\n",
       " 'IOPR',\n",
       " 'Source',\n",
       " 'Length',\n",
       " 'Time',\n",
       " 'IAT',\n",
       " 'reconnects',\n",
       " 'tcp_Flags',\n",
       " 'Protocols in frame',\n",
       " 'No.',\n",
       " 'Protocol',\n",
       " 'BytesEx',\n",
       " 'isNull',\n",
       " 'BitsPerSec',\n",
       " 'isBot',\n",
       " 'IP_Flags',\n",
       " 'NumPackets',\n",
       " 'Source Port',\n",
       " 'StdDevLen',\n",
       " 'Next sequence number',\n",
       " 'SameLenPktRatio',\n",
       " 'FPL',\n",
       " 'Duration',\n",
       " 'Time to live',\n",
       " 'Sequence number',\n",
       " 'NPEx']"
      ]
     },
     "execution_count": 5,
     "metadata": {},
     "output_type": "execute_result"
    }
   ],
   "source": [
    "list(Train.columns)"
   ]
  },
  {
   "cell_type": "code",
   "execution_count": 6,
   "metadata": {
    "collapsed": false
   },
   "outputs": [
    {
     "data": {
      "text/plain": [
       "0         41\n",
       "1        128\n",
       "2        128\n",
       "3        128\n",
       "4        128\n",
       "5    128,239\n",
       "6        128\n",
       "7        128\n",
       "8        128\n",
       "9        128\n",
       "Name: Time to live, dtype: object"
      ]
     },
     "execution_count": 6,
     "metadata": {},
     "output_type": "execute_result"
    }
   ],
   "source": [
    "Train['Time to live'].head(10)"
   ]
  },
  {
   "cell_type": "code",
   "execution_count": 7,
   "metadata": {
    "collapsed": true
   },
   "outputs": [],
   "source": [
    "features = ['FlowNo.',\n",
    " 'APL',\n",
    " 'AvgPktPerSec',\n",
    "# 'Destination Port',\n",
    " 'IOPR',\n",
    " 'Length',\n",
    " 'IAT',\n",
    " 'Protocol',\n",
    " 'BytesEx',\n",
    " 'BitsPerSec',\n",
    " 'NumPackets',\n",
    "# 'Source Port',\n",
    " 'StdDevLen',\n",
    " 'SameLenPktRatio',\n",
    " 'FPL',\n",
    " 'Duration',\n",
    " 'NPEx']"
   ]
  },
  {
   "cell_type": "code",
   "execution_count": 8,
   "metadata": {
    "collapsed": true
   },
   "outputs": [],
   "source": [
    "target = ['isBot']"
   ]
  },
  {
   "cell_type": "code",
   "execution_count": 9,
   "metadata": {
    "collapsed": false
   },
   "outputs": [
    {
     "name": "stdout",
     "output_type": "stream",
     "text": [
      "FlowNo. <type 'numpy.int64'> <type 'numpy.int64'>\n",
      "APL <type 'numpy.float64'> <type 'numpy.float64'>\n",
      "AvgPktPerSec <type 'numpy.float64'> <type 'numpy.float64'>\n",
      "IOPR <type 'numpy.float64'> <type 'numpy.int64'>\n",
      "Length <type 'numpy.int64'> <type 'numpy.int64'>\n",
      "IAT <type 'numpy.float64'> <type 'numpy.float64'>\n",
      "Protocol <type 'str'> <type 'str'>\n",
      "BytesEx <type 'numpy.int64'> <type 'numpy.int64'>\n",
      "BitsPerSec <type 'numpy.float64'> <type 'numpy.float64'>\n",
      "NumPackets <type 'numpy.int64'> <type 'numpy.int64'>\n",
      "StdDevLen <type 'numpy.float64'> <type 'numpy.float64'>\n",
      "SameLenPktRatio <type 'numpy.float64'> <type 'numpy.float64'>\n",
      "FPL <type 'numpy.int64'> <type 'numpy.int64'>\n",
      "Duration <type 'numpy.float64'> <type 'numpy.float64'>\n",
      "NPEx <type 'numpy.int64'> <type 'numpy.int64'>\n"
     ]
    }
   ],
   "source": [
    "for x in features:\n",
    "    print x,type(Train[x][0]),type(Test[x][0])"
   ]
  },
  {
   "cell_type": "code",
   "execution_count": 10,
   "metadata": {
    "collapsed": true
   },
   "outputs": [],
   "source": [
    "id_Train = Train['FlowNo.']\n",
    "id_Test = Test['FlowNo.']"
   ]
  },
  {
   "cell_type": "code",
   "execution_count": 11,
   "metadata": {
    "collapsed": true
   },
   "outputs": [],
   "source": [
    "ntrain = Train.shape[0]"
   ]
  },
  {
   "cell_type": "code",
   "execution_count": 12,
   "metadata": {
    "collapsed": true
   },
   "outputs": [],
   "source": [
    "Tr_Te = pd.concat((Train,Test),axis=0)"
   ]
  },
  {
   "cell_type": "code",
   "execution_count": 15,
   "metadata": {
    "collapsed": true
   },
   "outputs": [],
   "source": [
    "num_features = ['FlowNo.',\n",
    " 'APL',\n",
    " 'AvgPktPerSec',\n",
    "# 'Destination Port',\n",
    " 'IOPR',\n",
    " 'Length',\n",
    " 'IAT',\n",
    " 'BytesEx',\n",
    " 'BitsPerSec',\n",
    " 'NumPackets',\n",
    "# 'Source Port',\n",
    " 'StdDevLen',\n",
    " 'SameLenPktRatio',\n",
    " 'FPL',\n",
    " 'Duration',\n",
    " 'NPEx']\n",
    "cat_features = ['Protocol']"
   ]
  },
  {
   "cell_type": "code",
   "execution_count": 16,
   "metadata": {
    "collapsed": true
   },
   "outputs": [],
   "source": [
    "X = []"
   ]
  },
  {
   "cell_type": "code",
   "execution_count": 18,
   "metadata": {
    "collapsed": false
   },
   "outputs": [],
   "source": [
    "for x in cat_features:\n",
    "    temp = pd.get_dummies(Tr_Te[x].astype('category'))\n",
    "    X.append(temp)"
   ]
  },
  {
   "cell_type": "code",
   "execution_count": 19,
   "metadata": {
    "collapsed": false
   },
   "outputs": [],
   "source": [
    "scaler = StandardScaler()\n",
    "tmp = scaler.fit_transform(Tr_Te[num_features])\n",
    "X.append(tmp)"
   ]
  },
  {
   "cell_type": "code",
   "execution_count": 20,
   "metadata": {
    "collapsed": true
   },
   "outputs": [],
   "source": [
    "Y = Tr_Te['isBot']"
   ]
  },
  {
   "cell_type": "code",
   "execution_count": 21,
   "metadata": {
    "collapsed": true
   },
   "outputs": [],
   "source": [
    "del(Tr_Te,Train,Test)"
   ]
  },
  {
   "cell_type": "code",
   "execution_count": 29,
   "metadata": {
    "collapsed": false
   },
   "outputs": [
    {
     "name": "stdout",
     "output_type": "stream",
     "text": [
      "(859478, 121)\n"
     ]
    }
   ],
   "source": [
    "cpX = X[0]\n",
    "for i in range(1,len(X)):\n",
    "    cpX = np.hstack((cpX,X[i]))\n",
    "    \n",
    "X = cpX\n",
    "print X.shape\n"
   ]
  },
  {
   "cell_type": "code",
   "execution_count": 31,
   "metadata": {
    "collapsed": false
   },
   "outputs": [],
   "source": [
    "X_train = X[:ntrain,:]\n",
    "X_test = X[ntrain:,:]\n",
    "Y_train = Y[:ntrain]\n",
    "Y_test = Y[ntrain:]"
   ]
  },
  {
   "cell_type": "code",
   "execution_count": 32,
   "metadata": {
    "collapsed": true
   },
   "outputs": [],
   "source": [
    "del(X,cpX)"
   ]
  },
  {
   "cell_type": "code",
   "execution_count": 33,
   "metadata": {
    "collapsed": false
   },
   "outputs": [
    {
     "data": {
      "text/plain": [
       "array([[ 0.        ,  0.        ,  0.        , ..., -0.30760879,\n",
       "        -0.00177444, -0.01383582],\n",
       "       [ 0.        ,  0.        ,  0.        , ..., -0.30760879,\n",
       "        -0.00176461, -0.01130548],\n",
       "       [ 0.        ,  0.        ,  0.        , ..., -0.29266384,\n",
       "        -0.00177414, -0.0062448 ],\n",
       "       ..., \n",
       "       [ 0.        ,  0.        ,  0.        , ...,  0.1332672 ,\n",
       "        -0.00177413, -0.01636615],\n",
       "       [ 0.        ,  0.        ,  0.        , ...,  0.02865256,\n",
       "        -0.00177444, -0.01636615],\n",
       "       [ 0.        ,  0.        ,  0.        , ...,  0.3051341 ,\n",
       "        -0.00176804, -0.01636615]])"
      ]
     },
     "execution_count": 33,
     "metadata": {},
     "output_type": "execute_result"
    }
   ],
   "source": [
    "X_train"
   ]
  },
  {
   "cell_type": "code",
   "execution_count": 34,
   "metadata": {
    "collapsed": false
   },
   "outputs": [
    {
     "data": {
      "text/plain": [
       "0         1\n",
       "1         0\n",
       "2         1\n",
       "3         0\n",
       "4         1\n",
       "5         0\n",
       "6         1\n",
       "7         1\n",
       "8         0\n",
       "9         0\n",
       "10        0\n",
       "11        1\n",
       "12        0\n",
       "13        0\n",
       "14        1\n",
       "15        1\n",
       "16        1\n",
       "17        1\n",
       "18        1\n",
       "19        0\n",
       "20        0\n",
       "21        0\n",
       "22        0\n",
       "23        0\n",
       "24        0\n",
       "25        1\n",
       "26        1\n",
       "27        1\n",
       "28        1\n",
       "29        1\n",
       "         ..\n",
       "504014    0\n",
       "504015    0\n",
       "504016    1\n",
       "504017    1\n",
       "504018    0\n",
       "504019    1\n",
       "504020    0\n",
       "504021    1\n",
       "504022    1\n",
       "504023    1\n",
       "504024    1\n",
       "504025    1\n",
       "504026    0\n",
       "504027    1\n",
       "504028    1\n",
       "504029    0\n",
       "504030    1\n",
       "504031    1\n",
       "504032    0\n",
       "504033    1\n",
       "504034    1\n",
       "504035    0\n",
       "504036    0\n",
       "504037    0\n",
       "504038    0\n",
       "504039    0\n",
       "504040    1\n",
       "504041    1\n",
       "504042    1\n",
       "504043    0\n",
       "Name: isBot, dtype: int64"
      ]
     },
     "execution_count": 34,
     "metadata": {},
     "output_type": "execute_result"
    }
   ],
   "source": [
    "Y_train"
   ]
  },
  {
   "cell_type": "code",
   "execution_count": 35,
   "metadata": {
    "collapsed": false
   },
   "outputs": [
    {
     "name": "stdout",
     "output_type": "stream",
     "text": [
      "504044 504044\n",
      "355434 355434\n"
     ]
    }
   ],
   "source": [
    "print len(X_train),len(Y_train)\n",
    "print len(X_test),len(Y_test)"
   ]
  },
  {
   "cell_type": "code",
   "execution_count": 89,
   "metadata": {
    "collapsed": true
   },
   "outputs": [],
   "source": [
    "from keras import backend as K\n",
    "def matthews_correlation(y_true, y_pred):\n",
    "    '''Calculates the Matthews correlation coefficient measure for quality\n",
    "    of binary classification problems.\n",
    "    '''\n",
    "    y_pred_pos = K.round(K.clip(y_pred, 0, 1))\n",
    "    y_pred_neg = 1 - y_pred_pos\n",
    "\n",
    "    y_pos = K.round(K.clip(y_true, 0, 1))\n",
    "    y_neg = 1 - y_pos\n",
    "\n",
    "    tp = K.sum(y_pos * y_pred_pos)\n",
    "    tn = K.sum(y_neg * y_pred_neg)\n",
    "\n",
    "    fp = K.sum(y_neg * y_pred_pos)\n",
    "    fn = K.sum(y_pos * y_pred_neg)\n",
    "\n",
    "    numerator = (tp * tn - fp * fn)\n",
    "    denominator = K.sqrt((tp + fp) * (tp + fn) * (tn + fp) * (tn + fn))\n",
    "\n",
    "    return numerator / (denominator + K.epsilon())\n"
   ]
  },
  {
   "cell_type": "code",
   "execution_count": 98,
   "metadata": {
    "collapsed": true
   },
   "outputs": [],
   "source": [
    "def nn_model():\n",
    "    model = Sequential()\n",
    "    \n",
    "    model.add(Dense(100, input_dim = X_train.shape[1], init = 'he_normal'))\n",
    "    model.add(Activation('sigmoid'))\n",
    "    model.add(BatchNormalization())\n",
    "    model.add(Dropout(0.4))\n",
    "        \n",
    "    model.add(Dense(50, init = 'he_normal'))\n",
    "    model.add(Activation('sigmoid'))\n",
    "    model.add(BatchNormalization())    \n",
    "    model.add(Dropout(0.2))\n",
    "    \n",
    "    #model.add(Dense(50, init = 'he_normal'))\n",
    "    #model.add(PReLU())\n",
    "    #model.add(BatchNormalization())    \n",
    "    #model.add(Dropout(0.2))\n",
    "    \n",
    "    model.add(Dense(1, init = 'he_normal'))\n",
    "    model.compile(loss = 'binary_crossentropy', optimizer = 'adam',metrics=['accuracy','fbeta_score','matthews_correlation'])\n",
    "    return(model)"
   ]
  },
  {
   "cell_type": "code",
   "execution_count": 144,
   "metadata": {
    "collapsed": false
   },
   "outputs": [],
   "source": [
    "model = nn_model()"
   ]
  },
  {
   "cell_type": "code",
   "execution_count": 145,
   "metadata": {
    "collapsed": false
   },
   "outputs": [],
   "source": [
    "csv_logger = CSVLogger('DL/log.txt')\n",
    "earlyStopping = EarlyStopping(monitor='val_acc', patience=4, verbose=2, mode='min')"
   ]
  },
  {
   "cell_type": "code",
   "execution_count": 146,
   "metadata": {
    "collapsed": false
   },
   "outputs": [
    {
     "name": "stdout",
     "output_type": "stream",
     "text": [
      "Train on 504044 samples, validate on 355434 samples\n",
      "Epoch 1/50\n",
      "504044/504044 [==============================] - 26s - loss: 4.7330 - acc: 0.1038 - fbeta_score: 0.6832 - matthews_correlation: 0.3316 - val_loss: 5.4260 - val_acc: 0.0488 - val_fbeta_score: 0.7308 - val_matthews_correlation: 0.1648\n",
      "Epoch 2/50\n",
      "504044/504044 [==============================] - 26s - loss: 4.2619 - acc: 0.1608 - fbeta_score: 0.7036 - matthews_correlation: 0.3436 - val_loss: 3.5217 - val_acc: 0.1944 - val_fbeta_score: 0.7954 - val_matthews_correlation: 0.2991\n",
      "Epoch 3/50\n",
      "504044/504044 [==============================] - 26s - loss: 3.9863 - acc: 0.2174 - fbeta_score: 0.7107 - matthews_correlation: 0.3304 - val_loss: 3.1488 - val_acc: 0.2397 - val_fbeta_score: 0.7811 - val_matthews_correlation: 0.2788\n",
      "Epoch 4/50\n",
      "504044/504044 [==============================] - 26s - loss: 3.6545 - acc: 0.3073 - fbeta_score: 0.6944 - matthews_correlation: 0.3131 - val_loss: 2.8088 - val_acc: 0.3768 - val_fbeta_score: 0.7252 - val_matthews_correlation: 0.2217\n",
      "Epoch 5/50\n",
      "504044/504044 [==============================] - 27s - loss: 2.6868 - acc: 0.4752 - fbeta_score: 0.6738 - matthews_correlation: 0.2794 - val_loss: 1.2205 - val_acc: 0.6381 - val_fbeta_score: 0.7194 - val_matthews_correlation: 0.2873\n",
      "Epoch 6/50\n",
      "503680/504044 [============================>.] - ETA: 0s - loss: 1.5167 - acc: 0.5845 - fbeta_score: 0.6131 - matthews_correlation: 0.2108Epoch 00005: early stopping\n",
      "504044/504044 [==============================] - 27s - loss: 1.5162 - acc: 0.5845 - fbeta_score: 0.6132 - matthews_correlation: 0.2108 - val_loss: 0.6236 - val_acc: 0.7101 - val_fbeta_score: 0.7870 - val_matthews_correlation: 0.3343\n"
     ]
    },
    {
     "data": {
      "text/plain": [
       "<keras.callbacks.History at 0x7f3c36f06350>"
      ]
     },
     "execution_count": 146,
     "metadata": {},
     "output_type": "execute_result"
    }
   ],
   "source": [
    "model.fit(X_train,Y_train,nb_epoch=50,batch_size=128,callbacks=[csv_logger,earlyStopping],validation_data=(X_test,Y_test),verbose=1)"
   ]
  },
  {
   "cell_type": "code",
   "execution_count": 147,
   "metadata": {
    "collapsed": false
   },
   "outputs": [
    {
     "name": "stdout",
     "output_type": "stream",
     "text": [
      "503840/504044 [============================>.] - ETA: 0s"
     ]
    }
   ],
   "source": [
    "y_pred = model.predict_classes(X_train)\n",
    "y_pred = np.reshape(y_pred,(y_pred.shape[0]))"
   ]
  },
  {
   "cell_type": "code",
   "execution_count": 148,
   "metadata": {
    "collapsed": true
   },
   "outputs": [],
   "source": [
    "true_pred = np.array(Y_train)"
   ]
  },
  {
   "cell_type": "code",
   "execution_count": 149,
   "metadata": {
    "collapsed": true
   },
   "outputs": [],
   "source": [
    "def print_metr(y_pred,y_true):\n",
    "    print '\\n',classification_report(y_pred,y_true)"
   ]
  },
  {
   "cell_type": "code",
   "execution_count": 150,
   "metadata": {
    "collapsed": false
   },
   "outputs": [
    {
     "name": "stdout",
     "output_type": "stream",
     "text": [
      "\n",
      "             precision    recall  f1-score   support\n",
      "\n",
      "          0       0.72      0.66      0.69    241921\n",
      "          1       0.71      0.76      0.73    262123\n",
      "\n",
      "avg / total       0.71      0.71      0.71    504044\n",
      "\n"
     ]
    }
   ],
   "source": [
    "print_metr(y_pred,true_pred)"
   ]
  },
  {
   "cell_type": "code",
   "execution_count": 151,
   "metadata": {
    "collapsed": false
   },
   "outputs": [
    {
     "name": "stdout",
     "output_type": "stream",
     "text": [
      "355434/355434 [==============================] - 13s    \n",
      "\n",
      "             precision    recall  f1-score   support\n",
      "\n",
      "          0       0.50      0.59      0.54    103315\n",
      "          1       0.82      0.76      0.79    252119\n",
      "\n",
      "avg / total       0.73      0.71      0.72    355434\n",
      "\n"
     ]
    }
   ],
   "source": [
    "pred_test = model.predict_classes(X_test)\n",
    "true_test = np.reshape(Y_test,(Y_test.shape[0]))\n",
    "print_metr(pred_test,true_test)"
   ]
  },
  {
   "cell_type": "code",
   "execution_count": 108,
   "metadata": {
    "collapsed": false
   },
   "outputs": [
    {
     "data": {
      "text/plain": [
       "array([[ 75458,  70628],\n",
       "       [ 46304, 163044]])"
      ]
     },
     "execution_count": 108,
     "metadata": {},
     "output_type": "execute_result"
    }
   ],
   "source": [
    "confusion_matrix(pred_test,true_test)"
   ]
  },
  {
   "cell_type": "code",
   "execution_count": 153,
   "metadata": {
    "collapsed": false
   },
   "outputs": [
    {
     "data": {
      "text/plain": [
       "233672"
      ]
     },
     "execution_count": 153,
     "metadata": {},
     "output_type": "execute_result"
    }
   ],
   "source": [
    "sum(Y_test)"
   ]
  },
  {
   "cell_type": "code",
   "execution_count": 154,
   "metadata": {
    "collapsed": false
   },
   "outputs": [
    {
     "data": {
      "text/plain": [
       "121762"
      ]
     },
     "execution_count": 154,
     "metadata": {},
     "output_type": "execute_result"
    }
   ],
   "source": [
    "len(Y_test)-sum(Y_test)"
   ]
  },
  {
   "cell_type": "code",
   "execution_count": 155,
   "metadata": {
    "collapsed": false
   },
   "outputs": [
    {
     "name": "stdout",
     "output_type": "stream",
     "text": [
      "281275 222769\n"
     ]
    }
   ],
   "source": [
    "print sum(Y_train),len(Y_train)-sum(Y_train)"
   ]
  },
  {
   "cell_type": "code",
   "execution_count": null,
   "metadata": {
    "collapsed": true
   },
   "outputs": [],
   "source": []
  },
  {
   "cell_type": "code",
   "execution_count": 1,
   "metadata": {
    "collapsed": false
   },
   "outputs": [],
   "source": [
    "import graphlab as gl"
   ]
  },
  {
   "cell_type": "code",
   "execution_count": 2,
   "metadata": {
    "collapsed": false
   },
   "outputs": [
    {
     "name": "stdout",
     "output_type": "stream",
     "text": [
      "This non-commercial license of GraphLab Create for academic use is assigned to hmishra2250@gmail.com and will expire on September 18, 2017.\n"
     ]
    },
    {
     "name": "stderr",
     "output_type": "stream",
     "text": [
      "[INFO] graphlab.cython.cy_server: GraphLab Create v2.1 started. Logging: /tmp/graphlab_server_1480102912.log\n"
     ]
    }
   ],
   "source": [
    "SF = gl.SFrame.read_csv('ISCX_Botnet-Training.csv',verbose=False)"
   ]
  },
  {
   "cell_type": "code",
   "execution_count": 3,
   "metadata": {
    "collapsed": false
   },
   "outputs": [
    {
     "data": {
      "text/html": [
       "<div style=\"max-height:1000px;max-width:1500px;overflow:auto;\"><table frame=\"box\" rules=\"cols\">\n",
       "    <tr>\n",
       "        <th style=\"padding-left: 1em; padding-right: 1em; text-align: center\">No.</th>\n",
       "        <th style=\"padding-left: 1em; padding-right: 1em; text-align: center\">Time</th>\n",
       "        <th style=\"padding-left: 1em; padding-right: 1em; text-align: center\">Source</th>\n",
       "        <th style=\"padding-left: 1em; padding-right: 1em; text-align: center\">Destination</th>\n",
       "        <th style=\"padding-left: 1em; padding-right: 1em; text-align: center\">Protocol</th>\n",
       "        <th style=\"padding-left: 1em; padding-right: 1em; text-align: center\">Length</th>\n",
       "        <th style=\"padding-left: 1em; padding-right: 1em; text-align: center\">Info</th>\n",
       "        <th style=\"padding-left: 1em; padding-right: 1em; text-align: center\">Destination Port</th>\n",
       "    </tr>\n",
       "    <tr>\n",
       "        <td style=\"padding-left: 1em; padding-right: 1em; text-align: center; vertical-align: top\">1</td>\n",
       "        <td style=\"padding-left: 1em; padding-right: 1em; text-align: center; vertical-align: top\">0.0</td>\n",
       "        <td style=\"padding-left: 1em; padding-right: 1em; text-align: center; vertical-align: top\">CiscoInc_db:19:c3</td>\n",
       "        <td style=\"padding-left: 1em; padding-right: 1em; text-align: center; vertical-align: top\">Broadcast</td>\n",
       "        <td style=\"padding-left: 1em; padding-right: 1em; text-align: center; vertical-align: top\">ARP</td>\n",
       "        <td style=\"padding-left: 1em; padding-right: 1em; text-align: center; vertical-align: top\">60</td>\n",
       "        <td style=\"padding-left: 1em; padding-right: 1em; text-align: center; vertical-align: top\">Who has 147.32.84.165?<br>Tell 147.32.84.1 ...</td>\n",
       "        <td style=\"padding-left: 1em; padding-right: 1em; text-align: center; vertical-align: top\"></td>\n",
       "    </tr>\n",
       "    <tr>\n",
       "        <td style=\"padding-left: 1em; padding-right: 1em; text-align: center; vertical-align: top\">2</td>\n",
       "        <td style=\"padding-left: 1em; padding-right: 1em; text-align: center; vertical-align: top\">8.982709</td>\n",
       "        <td style=\"padding-left: 1em; padding-right: 1em; text-align: center; vertical-align: top\">CiscoInc_db:19:c3</td>\n",
       "        <td style=\"padding-left: 1em; padding-right: 1em; text-align: center; vertical-align: top\">Broadcast</td>\n",
       "        <td style=\"padding-left: 1em; padding-right: 1em; text-align: center; vertical-align: top\">ARP</td>\n",
       "        <td style=\"padding-left: 1em; padding-right: 1em; text-align: center; vertical-align: top\">60</td>\n",
       "        <td style=\"padding-left: 1em; padding-right: 1em; text-align: center; vertical-align: top\">Who has 147.32.84.165?<br>Tell 147.32.84.1 ...</td>\n",
       "        <td style=\"padding-left: 1em; padding-right: 1em; text-align: center; vertical-align: top\"></td>\n",
       "    </tr>\n",
       "    <tr>\n",
       "        <td style=\"padding-left: 1em; padding-right: 1em; text-align: center; vertical-align: top\">3</td>\n",
       "        <td style=\"padding-left: 1em; padding-right: 1em; text-align: center; vertical-align: top\">50.099564</td>\n",
       "        <td style=\"padding-left: 1em; padding-right: 1em; text-align: center; vertical-align: top\">CiscoInc_db:19:c3</td>\n",
       "        <td style=\"padding-left: 1em; padding-right: 1em; text-align: center; vertical-align: top\">Broadcast</td>\n",
       "        <td style=\"padding-left: 1em; padding-right: 1em; text-align: center; vertical-align: top\">ARP</td>\n",
       "        <td style=\"padding-left: 1em; padding-right: 1em; text-align: center; vertical-align: top\">60</td>\n",
       "        <td style=\"padding-left: 1em; padding-right: 1em; text-align: center; vertical-align: top\">Who has 147.32.84.165?<br>Tell 147.32.84.1 ...</td>\n",
       "        <td style=\"padding-left: 1em; padding-right: 1em; text-align: center; vertical-align: top\"></td>\n",
       "    </tr>\n",
       "    <tr>\n",
       "        <td style=\"padding-left: 1em; padding-right: 1em; text-align: center; vertical-align: top\">4</td>\n",
       "        <td style=\"padding-left: 1em; padding-right: 1em; text-align: center; vertical-align: top\">50.369266</td>\n",
       "        <td style=\"padding-left: 1em; padding-right: 1em; text-align: center; vertical-align: top\">54:52:00:00:00:01</td>\n",
       "        <td style=\"padding-left: 1em; padding-right: 1em; text-align: center; vertical-align: top\">Broadcast</td>\n",
       "        <td style=\"padding-left: 1em; padding-right: 1em; text-align: center; vertical-align: top\">ARP</td>\n",
       "        <td style=\"padding-left: 1em; padding-right: 1em; text-align: center; vertical-align: top\">60</td>\n",
       "        <td style=\"padding-left: 1em; padding-right: 1em; text-align: center; vertical-align: top\">Who has 147.32.84.165?<br>Tell 147.32.84.85 ...</td>\n",
       "        <td style=\"padding-left: 1em; padding-right: 1em; text-align: center; vertical-align: top\"></td>\n",
       "    </tr>\n",
       "    <tr>\n",
       "        <td style=\"padding-left: 1em; padding-right: 1em; text-align: center; vertical-align: top\">5</td>\n",
       "        <td style=\"padding-left: 1em; padding-right: 1em; text-align: center; vertical-align: top\">51.369054</td>\n",
       "        <td style=\"padding-left: 1em; padding-right: 1em; text-align: center; vertical-align: top\">54:52:00:00:00:01</td>\n",
       "        <td style=\"padding-left: 1em; padding-right: 1em; text-align: center; vertical-align: top\">Broadcast</td>\n",
       "        <td style=\"padding-left: 1em; padding-right: 1em; text-align: center; vertical-align: top\">ARP</td>\n",
       "        <td style=\"padding-left: 1em; padding-right: 1em; text-align: center; vertical-align: top\">60</td>\n",
       "        <td style=\"padding-left: 1em; padding-right: 1em; text-align: center; vertical-align: top\">Who has 147.32.84.165?<br>Tell 147.32.84.85 ...</td>\n",
       "        <td style=\"padding-left: 1em; padding-right: 1em; text-align: center; vertical-align: top\"></td>\n",
       "    </tr>\n",
       "    <tr>\n",
       "        <td style=\"padding-left: 1em; padding-right: 1em; text-align: center; vertical-align: top\">6</td>\n",
       "        <td style=\"padding-left: 1em; padding-right: 1em; text-align: center; vertical-align: top\">52.369688</td>\n",
       "        <td style=\"padding-left: 1em; padding-right: 1em; text-align: center; vertical-align: top\">54:52:00:00:00:01</td>\n",
       "        <td style=\"padding-left: 1em; padding-right: 1em; text-align: center; vertical-align: top\">Broadcast</td>\n",
       "        <td style=\"padding-left: 1em; padding-right: 1em; text-align: center; vertical-align: top\">ARP</td>\n",
       "        <td style=\"padding-left: 1em; padding-right: 1em; text-align: center; vertical-align: top\">60</td>\n",
       "        <td style=\"padding-left: 1em; padding-right: 1em; text-align: center; vertical-align: top\">Who has 147.32.84.165?<br>Tell 147.32.84.85 ...</td>\n",
       "        <td style=\"padding-left: 1em; padding-right: 1em; text-align: center; vertical-align: top\"></td>\n",
       "    </tr>\n",
       "    <tr>\n",
       "        <td style=\"padding-left: 1em; padding-right: 1em; text-align: center; vertical-align: top\">7</td>\n",
       "        <td style=\"padding-left: 1em; padding-right: 1em; text-align: center; vertical-align: top\">53.08684</td>\n",
       "        <td style=\"padding-left: 1em; padding-right: 1em; text-align: center; vertical-align: top\">CiscoInc_db:19:c3</td>\n",
       "        <td style=\"padding-left: 1em; padding-right: 1em; text-align: center; vertical-align: top\">Broadcast</td>\n",
       "        <td style=\"padding-left: 1em; padding-right: 1em; text-align: center; vertical-align: top\">ARP</td>\n",
       "        <td style=\"padding-left: 1em; padding-right: 1em; text-align: center; vertical-align: top\">60</td>\n",
       "        <td style=\"padding-left: 1em; padding-right: 1em; text-align: center; vertical-align: top\">Who has 147.32.84.165?<br>Tell 147.32.84.1 ...</td>\n",
       "        <td style=\"padding-left: 1em; padding-right: 1em; text-align: center; vertical-align: top\"></td>\n",
       "    </tr>\n",
       "    <tr>\n",
       "        <td style=\"padding-left: 1em; padding-right: 1em; text-align: center; vertical-align: top\">8</td>\n",
       "        <td style=\"padding-left: 1em; padding-right: 1em; text-align: center; vertical-align: top\">59.086131</td>\n",
       "        <td style=\"padding-left: 1em; padding-right: 1em; text-align: center; vertical-align: top\">CiscoInc_db:19:c3</td>\n",
       "        <td style=\"padding-left: 1em; padding-right: 1em; text-align: center; vertical-align: top\">Broadcast</td>\n",
       "        <td style=\"padding-left: 1em; padding-right: 1em; text-align: center; vertical-align: top\">ARP</td>\n",
       "        <td style=\"padding-left: 1em; padding-right: 1em; text-align: center; vertical-align: top\">60</td>\n",
       "        <td style=\"padding-left: 1em; padding-right: 1em; text-align: center; vertical-align: top\">Who has 147.32.84.165?<br>Tell 147.32.84.1 ...</td>\n",
       "        <td style=\"padding-left: 1em; padding-right: 1em; text-align: center; vertical-align: top\"></td>\n",
       "    </tr>\n",
       "    <tr>\n",
       "        <td style=\"padding-left: 1em; padding-right: 1em; text-align: center; vertical-align: top\">9</td>\n",
       "        <td style=\"padding-left: 1em; padding-right: 1em; text-align: center; vertical-align: top\">160.084662</td>\n",
       "        <td style=\"padding-left: 1em; padding-right: 1em; text-align: center; vertical-align: top\">CadmusCo_b5:b7:19</td>\n",
       "        <td style=\"padding-left: 1em; padding-right: 1em; text-align: center; vertical-align: top\">Broadcast</td>\n",
       "        <td style=\"padding-left: 1em; padding-right: 1em; text-align: center; vertical-align: top\">ARP</td>\n",
       "        <td style=\"padding-left: 1em; padding-right: 1em; text-align: center; vertical-align: top\">60</td>\n",
       "        <td style=\"padding-left: 1em; padding-right: 1em; text-align: center; vertical-align: top\">Gratuitous ARP for<br>147.32.84.165 (Request) ...</td>\n",
       "        <td style=\"padding-left: 1em; padding-right: 1em; text-align: center; vertical-align: top\"></td>\n",
       "    </tr>\n",
       "    <tr>\n",
       "        <td style=\"padding-left: 1em; padding-right: 1em; text-align: center; vertical-align: top\">10</td>\n",
       "        <td style=\"padding-left: 1em; padding-right: 1em; text-align: center; vertical-align: top\">160.084668</td>\n",
       "        <td style=\"padding-left: 1em; padding-right: 1em; text-align: center; vertical-align: top\">CadmusCo_b5:b7:19</td>\n",
       "        <td style=\"padding-left: 1em; padding-right: 1em; text-align: center; vertical-align: top\">Broadcast</td>\n",
       "        <td style=\"padding-left: 1em; padding-right: 1em; text-align: center; vertical-align: top\">ARP</td>\n",
       "        <td style=\"padding-left: 1em; padding-right: 1em; text-align: center; vertical-align: top\">60</td>\n",
       "        <td style=\"padding-left: 1em; padding-right: 1em; text-align: center; vertical-align: top\">Gratuitous ARP for<br>147.32.84.165 (Request) ...</td>\n",
       "        <td style=\"padding-left: 1em; padding-right: 1em; text-align: center; vertical-align: top\"></td>\n",
       "    </tr>\n",
       "</table>\n",
       "<table frame=\"box\" rules=\"cols\">\n",
       "    <tr>\n",
       "        <th style=\"padding-left: 1em; padding-right: 1em; text-align: center\">Source Port</th>\n",
       "        <th style=\"padding-left: 1em; padding-right: 1em; text-align: center\">Protocols in frame</th>\n",
       "        <th style=\"padding-left: 1em; padding-right: 1em; text-align: center\">Differentiated Services<br>Field ...</th>\n",
       "        <th style=\"padding-left: 1em; padding-right: 1em; text-align: center\">IP_Flags</th>\n",
       "        <th style=\"padding-left: 1em; padding-right: 1em; text-align: center\">udp_Length</th>\n",
       "        <th style=\"padding-left: 1em; padding-right: 1em; text-align: center\">TCP Segment Len</th>\n",
       "        <th style=\"padding-left: 1em; padding-right: 1em; text-align: center\">Sequence number</th>\n",
       "    </tr>\n",
       "    <tr>\n",
       "        <td style=\"padding-left: 1em; padding-right: 1em; text-align: center; vertical-align: top\"></td>\n",
       "        <td style=\"padding-left: 1em; padding-right: 1em; text-align: center; vertical-align: top\">eth:ethertype:arp</td>\n",
       "        <td style=\"padding-left: 1em; padding-right: 1em; text-align: center; vertical-align: top\"></td>\n",
       "        <td style=\"padding-left: 1em; padding-right: 1em; text-align: center; vertical-align: top\"></td>\n",
       "        <td style=\"padding-left: 1em; padding-right: 1em; text-align: center; vertical-align: top\"></td>\n",
       "        <td style=\"padding-left: 1em; padding-right: 1em; text-align: center; vertical-align: top\"></td>\n",
       "        <td style=\"padding-left: 1em; padding-right: 1em; text-align: center; vertical-align: top\"></td>\n",
       "    </tr>\n",
       "    <tr>\n",
       "        <td style=\"padding-left: 1em; padding-right: 1em; text-align: center; vertical-align: top\"></td>\n",
       "        <td style=\"padding-left: 1em; padding-right: 1em; text-align: center; vertical-align: top\">eth:ethertype:arp</td>\n",
       "        <td style=\"padding-left: 1em; padding-right: 1em; text-align: center; vertical-align: top\"></td>\n",
       "        <td style=\"padding-left: 1em; padding-right: 1em; text-align: center; vertical-align: top\"></td>\n",
       "        <td style=\"padding-left: 1em; padding-right: 1em; text-align: center; vertical-align: top\"></td>\n",
       "        <td style=\"padding-left: 1em; padding-right: 1em; text-align: center; vertical-align: top\"></td>\n",
       "        <td style=\"padding-left: 1em; padding-right: 1em; text-align: center; vertical-align: top\"></td>\n",
       "    </tr>\n",
       "    <tr>\n",
       "        <td style=\"padding-left: 1em; padding-right: 1em; text-align: center; vertical-align: top\"></td>\n",
       "        <td style=\"padding-left: 1em; padding-right: 1em; text-align: center; vertical-align: top\">eth:ethertype:arp</td>\n",
       "        <td style=\"padding-left: 1em; padding-right: 1em; text-align: center; vertical-align: top\"></td>\n",
       "        <td style=\"padding-left: 1em; padding-right: 1em; text-align: center; vertical-align: top\"></td>\n",
       "        <td style=\"padding-left: 1em; padding-right: 1em; text-align: center; vertical-align: top\"></td>\n",
       "        <td style=\"padding-left: 1em; padding-right: 1em; text-align: center; vertical-align: top\"></td>\n",
       "        <td style=\"padding-left: 1em; padding-right: 1em; text-align: center; vertical-align: top\"></td>\n",
       "    </tr>\n",
       "    <tr>\n",
       "        <td style=\"padding-left: 1em; padding-right: 1em; text-align: center; vertical-align: top\"></td>\n",
       "        <td style=\"padding-left: 1em; padding-right: 1em; text-align: center; vertical-align: top\">eth:ethertype:arp</td>\n",
       "        <td style=\"padding-left: 1em; padding-right: 1em; text-align: center; vertical-align: top\"></td>\n",
       "        <td style=\"padding-left: 1em; padding-right: 1em; text-align: center; vertical-align: top\"></td>\n",
       "        <td style=\"padding-left: 1em; padding-right: 1em; text-align: center; vertical-align: top\"></td>\n",
       "        <td style=\"padding-left: 1em; padding-right: 1em; text-align: center; vertical-align: top\"></td>\n",
       "        <td style=\"padding-left: 1em; padding-right: 1em; text-align: center; vertical-align: top\"></td>\n",
       "    </tr>\n",
       "    <tr>\n",
       "        <td style=\"padding-left: 1em; padding-right: 1em; text-align: center; vertical-align: top\"></td>\n",
       "        <td style=\"padding-left: 1em; padding-right: 1em; text-align: center; vertical-align: top\">eth:ethertype:arp</td>\n",
       "        <td style=\"padding-left: 1em; padding-right: 1em; text-align: center; vertical-align: top\"></td>\n",
       "        <td style=\"padding-left: 1em; padding-right: 1em; text-align: center; vertical-align: top\"></td>\n",
       "        <td style=\"padding-left: 1em; padding-right: 1em; text-align: center; vertical-align: top\"></td>\n",
       "        <td style=\"padding-left: 1em; padding-right: 1em; text-align: center; vertical-align: top\"></td>\n",
       "        <td style=\"padding-left: 1em; padding-right: 1em; text-align: center; vertical-align: top\"></td>\n",
       "    </tr>\n",
       "    <tr>\n",
       "        <td style=\"padding-left: 1em; padding-right: 1em; text-align: center; vertical-align: top\"></td>\n",
       "        <td style=\"padding-left: 1em; padding-right: 1em; text-align: center; vertical-align: top\">eth:ethertype:arp</td>\n",
       "        <td style=\"padding-left: 1em; padding-right: 1em; text-align: center; vertical-align: top\"></td>\n",
       "        <td style=\"padding-left: 1em; padding-right: 1em; text-align: center; vertical-align: top\"></td>\n",
       "        <td style=\"padding-left: 1em; padding-right: 1em; text-align: center; vertical-align: top\"></td>\n",
       "        <td style=\"padding-left: 1em; padding-right: 1em; text-align: center; vertical-align: top\"></td>\n",
       "        <td style=\"padding-left: 1em; padding-right: 1em; text-align: center; vertical-align: top\"></td>\n",
       "    </tr>\n",
       "    <tr>\n",
       "        <td style=\"padding-left: 1em; padding-right: 1em; text-align: center; vertical-align: top\"></td>\n",
       "        <td style=\"padding-left: 1em; padding-right: 1em; text-align: center; vertical-align: top\">eth:ethertype:arp</td>\n",
       "        <td style=\"padding-left: 1em; padding-right: 1em; text-align: center; vertical-align: top\"></td>\n",
       "        <td style=\"padding-left: 1em; padding-right: 1em; text-align: center; vertical-align: top\"></td>\n",
       "        <td style=\"padding-left: 1em; padding-right: 1em; text-align: center; vertical-align: top\"></td>\n",
       "        <td style=\"padding-left: 1em; padding-right: 1em; text-align: center; vertical-align: top\"></td>\n",
       "        <td style=\"padding-left: 1em; padding-right: 1em; text-align: center; vertical-align: top\"></td>\n",
       "    </tr>\n",
       "    <tr>\n",
       "        <td style=\"padding-left: 1em; padding-right: 1em; text-align: center; vertical-align: top\"></td>\n",
       "        <td style=\"padding-left: 1em; padding-right: 1em; text-align: center; vertical-align: top\">eth:ethertype:arp</td>\n",
       "        <td style=\"padding-left: 1em; padding-right: 1em; text-align: center; vertical-align: top\"></td>\n",
       "        <td style=\"padding-left: 1em; padding-right: 1em; text-align: center; vertical-align: top\"></td>\n",
       "        <td style=\"padding-left: 1em; padding-right: 1em; text-align: center; vertical-align: top\"></td>\n",
       "        <td style=\"padding-left: 1em; padding-right: 1em; text-align: center; vertical-align: top\"></td>\n",
       "        <td style=\"padding-left: 1em; padding-right: 1em; text-align: center; vertical-align: top\"></td>\n",
       "    </tr>\n",
       "    <tr>\n",
       "        <td style=\"padding-left: 1em; padding-right: 1em; text-align: center; vertical-align: top\"></td>\n",
       "        <td style=\"padding-left: 1em; padding-right: 1em; text-align: center; vertical-align: top\">eth:ethertype:arp</td>\n",
       "        <td style=\"padding-left: 1em; padding-right: 1em; text-align: center; vertical-align: top\"></td>\n",
       "        <td style=\"padding-left: 1em; padding-right: 1em; text-align: center; vertical-align: top\"></td>\n",
       "        <td style=\"padding-left: 1em; padding-right: 1em; text-align: center; vertical-align: top\"></td>\n",
       "        <td style=\"padding-left: 1em; padding-right: 1em; text-align: center; vertical-align: top\"></td>\n",
       "        <td style=\"padding-left: 1em; padding-right: 1em; text-align: center; vertical-align: top\"></td>\n",
       "    </tr>\n",
       "    <tr>\n",
       "        <td style=\"padding-left: 1em; padding-right: 1em; text-align: center; vertical-align: top\"></td>\n",
       "        <td style=\"padding-left: 1em; padding-right: 1em; text-align: center; vertical-align: top\">eth:ethertype:arp</td>\n",
       "        <td style=\"padding-left: 1em; padding-right: 1em; text-align: center; vertical-align: top\"></td>\n",
       "        <td style=\"padding-left: 1em; padding-right: 1em; text-align: center; vertical-align: top\"></td>\n",
       "        <td style=\"padding-left: 1em; padding-right: 1em; text-align: center; vertical-align: top\"></td>\n",
       "        <td style=\"padding-left: 1em; padding-right: 1em; text-align: center; vertical-align: top\"></td>\n",
       "        <td style=\"padding-left: 1em; padding-right: 1em; text-align: center; vertical-align: top\"></td>\n",
       "    </tr>\n",
       "</table>\n",
       "<table frame=\"box\" rules=\"cols\">\n",
       "    <tr>\n",
       "        <th style=\"padding-left: 1em; padding-right: 1em; text-align: center\">tcp_Flags</th>\n",
       "        <th style=\"padding-left: 1em; padding-right: 1em; text-align: center\">Answer RRs</th>\n",
       "        <th style=\"padding-left: 1em; padding-right: 1em; text-align: center\">Source GeoIP Country</th>\n",
       "        <th style=\"padding-left: 1em; padding-right: 1em; text-align: center\">Source GeoIP Latitude</th>\n",
       "        <th style=\"padding-left: 1em; padding-right: 1em; text-align: center\">Source GeoIP Longitude</th>\n",
       "        <th style=\"padding-left: 1em; padding-right: 1em; text-align: center\">Destination GeoIP<br>Latitude ...</th>\n",
       "        <th style=\"padding-left: 1em; padding-right: 1em; text-align: center\">Destination GeoIP<br>Longitude ...</th>\n",
       "    </tr>\n",
       "    <tr>\n",
       "        <td style=\"padding-left: 1em; padding-right: 1em; text-align: center; vertical-align: top\"></td>\n",
       "        <td style=\"padding-left: 1em; padding-right: 1em; text-align: center; vertical-align: top\"></td>\n",
       "        <td style=\"padding-left: 1em; padding-right: 1em; text-align: center; vertical-align: top\"></td>\n",
       "        <td style=\"padding-left: 1em; padding-right: 1em; text-align: center; vertical-align: top\"></td>\n",
       "        <td style=\"padding-left: 1em; padding-right: 1em; text-align: center; vertical-align: top\"></td>\n",
       "        <td style=\"padding-left: 1em; padding-right: 1em; text-align: center; vertical-align: top\"></td>\n",
       "        <td style=\"padding-left: 1em; padding-right: 1em; text-align: center; vertical-align: top\"></td>\n",
       "    </tr>\n",
       "    <tr>\n",
       "        <td style=\"padding-left: 1em; padding-right: 1em; text-align: center; vertical-align: top\"></td>\n",
       "        <td style=\"padding-left: 1em; padding-right: 1em; text-align: center; vertical-align: top\"></td>\n",
       "        <td style=\"padding-left: 1em; padding-right: 1em; text-align: center; vertical-align: top\"></td>\n",
       "        <td style=\"padding-left: 1em; padding-right: 1em; text-align: center; vertical-align: top\"></td>\n",
       "        <td style=\"padding-left: 1em; padding-right: 1em; text-align: center; vertical-align: top\"></td>\n",
       "        <td style=\"padding-left: 1em; padding-right: 1em; text-align: center; vertical-align: top\"></td>\n",
       "        <td style=\"padding-left: 1em; padding-right: 1em; text-align: center; vertical-align: top\"></td>\n",
       "    </tr>\n",
       "    <tr>\n",
       "        <td style=\"padding-left: 1em; padding-right: 1em; text-align: center; vertical-align: top\"></td>\n",
       "        <td style=\"padding-left: 1em; padding-right: 1em; text-align: center; vertical-align: top\"></td>\n",
       "        <td style=\"padding-left: 1em; padding-right: 1em; text-align: center; vertical-align: top\"></td>\n",
       "        <td style=\"padding-left: 1em; padding-right: 1em; text-align: center; vertical-align: top\"></td>\n",
       "        <td style=\"padding-left: 1em; padding-right: 1em; text-align: center; vertical-align: top\"></td>\n",
       "        <td style=\"padding-left: 1em; padding-right: 1em; text-align: center; vertical-align: top\"></td>\n",
       "        <td style=\"padding-left: 1em; padding-right: 1em; text-align: center; vertical-align: top\"></td>\n",
       "    </tr>\n",
       "    <tr>\n",
       "        <td style=\"padding-left: 1em; padding-right: 1em; text-align: center; vertical-align: top\"></td>\n",
       "        <td style=\"padding-left: 1em; padding-right: 1em; text-align: center; vertical-align: top\"></td>\n",
       "        <td style=\"padding-left: 1em; padding-right: 1em; text-align: center; vertical-align: top\"></td>\n",
       "        <td style=\"padding-left: 1em; padding-right: 1em; text-align: center; vertical-align: top\"></td>\n",
       "        <td style=\"padding-left: 1em; padding-right: 1em; text-align: center; vertical-align: top\"></td>\n",
       "        <td style=\"padding-left: 1em; padding-right: 1em; text-align: center; vertical-align: top\"></td>\n",
       "        <td style=\"padding-left: 1em; padding-right: 1em; text-align: center; vertical-align: top\"></td>\n",
       "    </tr>\n",
       "    <tr>\n",
       "        <td style=\"padding-left: 1em; padding-right: 1em; text-align: center; vertical-align: top\"></td>\n",
       "        <td style=\"padding-left: 1em; padding-right: 1em; text-align: center; vertical-align: top\"></td>\n",
       "        <td style=\"padding-left: 1em; padding-right: 1em; text-align: center; vertical-align: top\"></td>\n",
       "        <td style=\"padding-left: 1em; padding-right: 1em; text-align: center; vertical-align: top\"></td>\n",
       "        <td style=\"padding-left: 1em; padding-right: 1em; text-align: center; vertical-align: top\"></td>\n",
       "        <td style=\"padding-left: 1em; padding-right: 1em; text-align: center; vertical-align: top\"></td>\n",
       "        <td style=\"padding-left: 1em; padding-right: 1em; text-align: center; vertical-align: top\"></td>\n",
       "    </tr>\n",
       "    <tr>\n",
       "        <td style=\"padding-left: 1em; padding-right: 1em; text-align: center; vertical-align: top\"></td>\n",
       "        <td style=\"padding-left: 1em; padding-right: 1em; text-align: center; vertical-align: top\"></td>\n",
       "        <td style=\"padding-left: 1em; padding-right: 1em; text-align: center; vertical-align: top\"></td>\n",
       "        <td style=\"padding-left: 1em; padding-right: 1em; text-align: center; vertical-align: top\"></td>\n",
       "        <td style=\"padding-left: 1em; padding-right: 1em; text-align: center; vertical-align: top\"></td>\n",
       "        <td style=\"padding-left: 1em; padding-right: 1em; text-align: center; vertical-align: top\"></td>\n",
       "        <td style=\"padding-left: 1em; padding-right: 1em; text-align: center; vertical-align: top\"></td>\n",
       "    </tr>\n",
       "    <tr>\n",
       "        <td style=\"padding-left: 1em; padding-right: 1em; text-align: center; vertical-align: top\"></td>\n",
       "        <td style=\"padding-left: 1em; padding-right: 1em; text-align: center; vertical-align: top\"></td>\n",
       "        <td style=\"padding-left: 1em; padding-right: 1em; text-align: center; vertical-align: top\"></td>\n",
       "        <td style=\"padding-left: 1em; padding-right: 1em; text-align: center; vertical-align: top\"></td>\n",
       "        <td style=\"padding-left: 1em; padding-right: 1em; text-align: center; vertical-align: top\"></td>\n",
       "        <td style=\"padding-left: 1em; padding-right: 1em; text-align: center; vertical-align: top\"></td>\n",
       "        <td style=\"padding-left: 1em; padding-right: 1em; text-align: center; vertical-align: top\"></td>\n",
       "    </tr>\n",
       "    <tr>\n",
       "        <td style=\"padding-left: 1em; padding-right: 1em; text-align: center; vertical-align: top\"></td>\n",
       "        <td style=\"padding-left: 1em; padding-right: 1em; text-align: center; vertical-align: top\"></td>\n",
       "        <td style=\"padding-left: 1em; padding-right: 1em; text-align: center; vertical-align: top\"></td>\n",
       "        <td style=\"padding-left: 1em; padding-right: 1em; text-align: center; vertical-align: top\"></td>\n",
       "        <td style=\"padding-left: 1em; padding-right: 1em; text-align: center; vertical-align: top\"></td>\n",
       "        <td style=\"padding-left: 1em; padding-right: 1em; text-align: center; vertical-align: top\"></td>\n",
       "        <td style=\"padding-left: 1em; padding-right: 1em; text-align: center; vertical-align: top\"></td>\n",
       "    </tr>\n",
       "    <tr>\n",
       "        <td style=\"padding-left: 1em; padding-right: 1em; text-align: center; vertical-align: top\"></td>\n",
       "        <td style=\"padding-left: 1em; padding-right: 1em; text-align: center; vertical-align: top\"></td>\n",
       "        <td style=\"padding-left: 1em; padding-right: 1em; text-align: center; vertical-align: top\"></td>\n",
       "        <td style=\"padding-left: 1em; padding-right: 1em; text-align: center; vertical-align: top\"></td>\n",
       "        <td style=\"padding-left: 1em; padding-right: 1em; text-align: center; vertical-align: top\"></td>\n",
       "        <td style=\"padding-left: 1em; padding-right: 1em; text-align: center; vertical-align: top\"></td>\n",
       "        <td style=\"padding-left: 1em; padding-right: 1em; text-align: center; vertical-align: top\"></td>\n",
       "    </tr>\n",
       "    <tr>\n",
       "        <td style=\"padding-left: 1em; padding-right: 1em; text-align: center; vertical-align: top\"></td>\n",
       "        <td style=\"padding-left: 1em; padding-right: 1em; text-align: center; vertical-align: top\"></td>\n",
       "        <td style=\"padding-left: 1em; padding-right: 1em; text-align: center; vertical-align: top\"></td>\n",
       "        <td style=\"padding-left: 1em; padding-right: 1em; text-align: center; vertical-align: top\"></td>\n",
       "        <td style=\"padding-left: 1em; padding-right: 1em; text-align: center; vertical-align: top\"></td>\n",
       "        <td style=\"padding-left: 1em; padding-right: 1em; text-align: center; vertical-align: top\"></td>\n",
       "        <td style=\"padding-left: 1em; padding-right: 1em; text-align: center; vertical-align: top\"></td>\n",
       "    </tr>\n",
       "</table>\n",
       "<table frame=\"box\" rules=\"cols\">\n",
       "    <tr>\n",
       "        <th style=\"padding-left: 1em; padding-right: 1em; text-align: center\">Destination GeoIP Country</th>\n",
       "        <th style=\"padding-left: 1em; padding-right: 1em; text-align: center\">Time to live</th>\n",
       "        <th style=\"padding-left: 1em; padding-right: 1em; text-align: center\">Next sequence number</th>\n",
       "    </tr>\n",
       "    <tr>\n",
       "        <td style=\"padding-left: 1em; padding-right: 1em; text-align: center; vertical-align: top\"></td>\n",
       "        <td style=\"padding-left: 1em; padding-right: 1em; text-align: center; vertical-align: top\"></td>\n",
       "        <td style=\"padding-left: 1em; padding-right: 1em; text-align: center; vertical-align: top\"></td>\n",
       "    </tr>\n",
       "    <tr>\n",
       "        <td style=\"padding-left: 1em; padding-right: 1em; text-align: center; vertical-align: top\"></td>\n",
       "        <td style=\"padding-left: 1em; padding-right: 1em; text-align: center; vertical-align: top\"></td>\n",
       "        <td style=\"padding-left: 1em; padding-right: 1em; text-align: center; vertical-align: top\"></td>\n",
       "    </tr>\n",
       "    <tr>\n",
       "        <td style=\"padding-left: 1em; padding-right: 1em; text-align: center; vertical-align: top\"></td>\n",
       "        <td style=\"padding-left: 1em; padding-right: 1em; text-align: center; vertical-align: top\"></td>\n",
       "        <td style=\"padding-left: 1em; padding-right: 1em; text-align: center; vertical-align: top\"></td>\n",
       "    </tr>\n",
       "    <tr>\n",
       "        <td style=\"padding-left: 1em; padding-right: 1em; text-align: center; vertical-align: top\"></td>\n",
       "        <td style=\"padding-left: 1em; padding-right: 1em; text-align: center; vertical-align: top\"></td>\n",
       "        <td style=\"padding-left: 1em; padding-right: 1em; text-align: center; vertical-align: top\"></td>\n",
       "    </tr>\n",
       "    <tr>\n",
       "        <td style=\"padding-left: 1em; padding-right: 1em; text-align: center; vertical-align: top\"></td>\n",
       "        <td style=\"padding-left: 1em; padding-right: 1em; text-align: center; vertical-align: top\"></td>\n",
       "        <td style=\"padding-left: 1em; padding-right: 1em; text-align: center; vertical-align: top\"></td>\n",
       "    </tr>\n",
       "    <tr>\n",
       "        <td style=\"padding-left: 1em; padding-right: 1em; text-align: center; vertical-align: top\"></td>\n",
       "        <td style=\"padding-left: 1em; padding-right: 1em; text-align: center; vertical-align: top\"></td>\n",
       "        <td style=\"padding-left: 1em; padding-right: 1em; text-align: center; vertical-align: top\"></td>\n",
       "    </tr>\n",
       "    <tr>\n",
       "        <td style=\"padding-left: 1em; padding-right: 1em; text-align: center; vertical-align: top\"></td>\n",
       "        <td style=\"padding-left: 1em; padding-right: 1em; text-align: center; vertical-align: top\"></td>\n",
       "        <td style=\"padding-left: 1em; padding-right: 1em; text-align: center; vertical-align: top\"></td>\n",
       "    </tr>\n",
       "    <tr>\n",
       "        <td style=\"padding-left: 1em; padding-right: 1em; text-align: center; vertical-align: top\"></td>\n",
       "        <td style=\"padding-left: 1em; padding-right: 1em; text-align: center; vertical-align: top\"></td>\n",
       "        <td style=\"padding-left: 1em; padding-right: 1em; text-align: center; vertical-align: top\"></td>\n",
       "    </tr>\n",
       "    <tr>\n",
       "        <td style=\"padding-left: 1em; padding-right: 1em; text-align: center; vertical-align: top\"></td>\n",
       "        <td style=\"padding-left: 1em; padding-right: 1em; text-align: center; vertical-align: top\"></td>\n",
       "        <td style=\"padding-left: 1em; padding-right: 1em; text-align: center; vertical-align: top\"></td>\n",
       "    </tr>\n",
       "    <tr>\n",
       "        <td style=\"padding-left: 1em; padding-right: 1em; text-align: center; vertical-align: top\"></td>\n",
       "        <td style=\"padding-left: 1em; padding-right: 1em; text-align: center; vertical-align: top\"></td>\n",
       "        <td style=\"padding-left: 1em; padding-right: 1em; text-align: center; vertical-align: top\"></td>\n",
       "    </tr>\n",
       "</table>\n",
       "[9388270 rows x 25 columns]<br/>Note: Only the head of the SFrame is printed.<br/>You can use print_rows(num_rows=m, num_columns=n) to print more rows and columns.\n",
       "</div>"
      ],
      "text/plain": [
       "Columns:\n",
       "\tNo.\tint\n",
       "\tTime\tfloat\n",
       "\tSource\tstr\n",
       "\tDestination\tstr\n",
       "\tProtocol\tstr\n",
       "\tLength\tint\n",
       "\tInfo\tstr\n",
       "\tDestination Port\tstr\n",
       "\tSource Port\tstr\n",
       "\tProtocols in frame\tstr\n",
       "\tDifferentiated Services Field\tstr\n",
       "\tIP_Flags\tstr\n",
       "\tudp_Length\tstr\n",
       "\tTCP Segment Len\tstr\n",
       "\tSequence number\tstr\n",
       "\ttcp_Flags\tstr\n",
       "\tAnswer RRs\tstr\n",
       "\tSource GeoIP Country\tstr\n",
       "\tSource GeoIP Latitude\tstr\n",
       "\tSource GeoIP Longitude\tstr\n",
       "\tDestination GeoIP Latitude\tstr\n",
       "\tDestination GeoIP Longitude\tstr\n",
       "\tDestination GeoIP Country\tstr\n",
       "\tTime to live\tstr\n",
       "\tNext sequence number\tstr\n",
       "\n",
       "Rows: 9388270\n",
       "\n",
       "Data:\n",
       "+-----+------------+-------------------+-------------+----------+--------+\n",
       "| No. |    Time    |       Source      | Destination | Protocol | Length |\n",
       "+-----+------------+-------------------+-------------+----------+--------+\n",
       "|  1  |    0.0     | CiscoInc_db:19:c3 |  Broadcast  |   ARP    |   60   |\n",
       "|  2  |  8.982709  | CiscoInc_db:19:c3 |  Broadcast  |   ARP    |   60   |\n",
       "|  3  | 50.099564  | CiscoInc_db:19:c3 |  Broadcast  |   ARP    |   60   |\n",
       "|  4  | 50.369266  | 54:52:00:00:00:01 |  Broadcast  |   ARP    |   60   |\n",
       "|  5  | 51.369054  | 54:52:00:00:00:01 |  Broadcast  |   ARP    |   60   |\n",
       "|  6  | 52.369688  | 54:52:00:00:00:01 |  Broadcast  |   ARP    |   60   |\n",
       "|  7  |  53.08684  | CiscoInc_db:19:c3 |  Broadcast  |   ARP    |   60   |\n",
       "|  8  | 59.086131  | CiscoInc_db:19:c3 |  Broadcast  |   ARP    |   60   |\n",
       "|  9  | 160.084662 | CadmusCo_b5:b7:19 |  Broadcast  |   ARP    |   60   |\n",
       "|  10 | 160.084668 | CadmusCo_b5:b7:19 |  Broadcast  |   ARP    |   60   |\n",
       "+-----+------------+-------------------+-------------+----------+--------+\n",
       "+-------------------------------+------------------+-------------+\n",
       "|              Info             | Destination Port | Source Port |\n",
       "+-------------------------------+------------------+-------------+\n",
       "| Who has 147.32.84.165? Tel... |                  |             |\n",
       "| Who has 147.32.84.165? Tel... |                  |             |\n",
       "| Who has 147.32.84.165? Tel... |                  |             |\n",
       "| Who has 147.32.84.165? Tel... |                  |             |\n",
       "| Who has 147.32.84.165? Tel... |                  |             |\n",
       "| Who has 147.32.84.165? Tel... |                  |             |\n",
       "| Who has 147.32.84.165? Tel... |                  |             |\n",
       "| Who has 147.32.84.165? Tel... |                  |             |\n",
       "| Gratuitous ARP for 147.32.... |                  |             |\n",
       "| Gratuitous ARP for 147.32.... |                  |             |\n",
       "+-------------------------------+------------------+-------------+\n",
       "+--------------------+-------------------------------+----------+------------+-----------------+\n",
       "| Protocols in frame | Differentiated Services Field | IP_Flags | udp_Length | TCP Segment Len |\n",
       "+--------------------+-------------------------------+----------+------------+-----------------+\n",
       "| eth:ethertype:arp  |                               |          |            |                 |\n",
       "| eth:ethertype:arp  |                               |          |            |                 |\n",
       "| eth:ethertype:arp  |                               |          |            |                 |\n",
       "| eth:ethertype:arp  |                               |          |            |                 |\n",
       "| eth:ethertype:arp  |                               |          |            |                 |\n",
       "| eth:ethertype:arp  |                               |          |            |                 |\n",
       "| eth:ethertype:arp  |                               |          |            |                 |\n",
       "| eth:ethertype:arp  |                               |          |            |                 |\n",
       "| eth:ethertype:arp  |                               |          |            |                 |\n",
       "| eth:ethertype:arp  |                               |          |            |                 |\n",
       "+--------------------+-------------------------------+----------+------------+-----------------+\n",
       "+-----------------+-----------+------------+----------------------+-----------------------+\n",
       "| Sequence number | tcp_Flags | Answer RRs | Source GeoIP Country | Source GeoIP Latitude |\n",
       "+-----------------+-----------+------------+----------------------+-----------------------+\n",
       "|                 |           |            |                      |                       |\n",
       "|                 |           |            |                      |                       |\n",
       "|                 |           |            |                      |                       |\n",
       "|                 |           |            |                      |                       |\n",
       "|                 |           |            |                      |                       |\n",
       "|                 |           |            |                      |                       |\n",
       "|                 |           |            |                      |                       |\n",
       "|                 |           |            |                      |                       |\n",
       "|                 |           |            |                      |                       |\n",
       "|                 |           |            |                      |                       |\n",
       "+-----------------+-----------+------------+----------------------+-----------------------+\n",
       "+------------------------+-----+\n",
       "| Source GeoIP Longitude | ... |\n",
       "+------------------------+-----+\n",
       "|                        | ... |\n",
       "|                        | ... |\n",
       "|                        | ... |\n",
       "|                        | ... |\n",
       "|                        | ... |\n",
       "|                        | ... |\n",
       "|                        | ... |\n",
       "|                        | ... |\n",
       "|                        | ... |\n",
       "|                        | ... |\n",
       "+------------------------+-----+\n",
       "[9388270 rows x 25 columns]\n",
       "Note: Only the head of the SFrame is printed.\n",
       "You can use print_rows(num_rows=m, num_columns=n) to print more rows and columns."
      ]
     },
     "execution_count": 3,
     "metadata": {},
     "output_type": "execute_result"
    }
   ],
   "source": [
    "SF.rename({'DestInation Port':'Destination Port'})"
   ]
  },
  {
   "cell_type": "code",
   "execution_count": 4,
   "metadata": {
    "collapsed": true
   },
   "outputs": [],
   "source": [
    "SF = SF[(SF['Source Port']!='')&(SF['Destination Port']!='')]"
   ]
  },
  {
   "cell_type": "code",
   "execution_count": 5,
   "metadata": {
    "collapsed": false
   },
   "outputs": [
    {
     "data": {
      "text/plain": [
       "9360525"
      ]
     },
     "execution_count": 5,
     "metadata": {},
     "output_type": "execute_result"
    }
   ],
   "source": [
    "len(SF)"
   ]
  },
  {
   "cell_type": "code",
   "execution_count": 6,
   "metadata": {
    "collapsed": false
   },
   "outputs": [],
   "source": [
    "def flow_id(x):\n",
    "    if x['Source']>x['Destination']:\n",
    "        return x['Source']+'-'+x['Destination']+'-'+str(x['Source Port'])+'-'+str(x['Destination Port'])+'-'+x['Protocol']\n",
    "    else:\n",
    "        return x['Destination']+'-'+x['Source']+'-'+str(x['Destination Port'])+'-'+str(x['Source Port'])+'-'+x['Protocol']\n",
    "SF['UFid'] = SF.apply(lambda x:flow_id(x))"
   ]
  },
  {
   "cell_type": "code",
   "execution_count": 7,
   "metadata": {
    "collapsed": false
   },
   "outputs": [
    {
     "name": "stdout",
     "output_type": "stream",
     "text": [
      "300921\n"
     ]
    }
   ],
   "source": [
    "print len(SF['UFid'].unique())"
   ]
  },
  {
   "cell_type": "code",
   "execution_count": 8,
   "metadata": {
    "collapsed": true
   },
   "outputs": [],
   "source": [
    "SF['isFwd'] = SF.apply(lambda x:1 if x['Source']>x['Destination'] else 0)\n",
    "SF['isBck'] = SF.apply(lambda x:1 if x['Source']<=x['Destination'] else 0)"
   ]
  },
  {
   "cell_type": "code",
   "execution_count": 9,
   "metadata": {
    "collapsed": true
   },
   "outputs": [],
   "source": [
    "temp = SF.groupby(['UFid'],{\n",
    "        'Forward':gl.aggregate.SUM('isFwd'),\n",
    "        'Backward':gl.aggregate.SUM('isBck')\n",
    "    })"
   ]
  },
  {
   "cell_type": "code",
   "execution_count": 10,
   "metadata": {
    "collapsed": false
   },
   "outputs": [
    {
     "name": "stdout",
     "output_type": "stream",
     "text": [
      "300921\n"
     ]
    }
   ],
   "source": [
    "print len(temp)"
   ]
  },
  {
   "cell_type": "code",
   "execution_count": 11,
   "metadata": {
    "collapsed": false
   },
   "outputs": [
    {
     "data": {
      "text/plain": [
       "218095"
      ]
     },
     "execution_count": 11,
     "metadata": {},
     "output_type": "execute_result"
    }
   ],
   "source": [
    "len(temp[(temp['Forward']>=1)&(temp['Backward']>=1)])"
   ]
  },
  {
   "cell_type": "code",
   "execution_count": 15,
   "metadata": {
    "collapsed": false
   },
   "outputs": [],
   "source": [
    "temp2 = temp[(temp['Forward']>=1)&(temp['Backward']>=1)]"
   ]
  },
  {
   "cell_type": "code",
   "execution_count": 16,
   "metadata": {
    "collapsed": true
   },
   "outputs": [],
   "source": [
    "prots = temp2['UFid'].apply(lambda x:x.split('-')[-1])"
   ]
  },
  {
   "cell_type": "code",
   "execution_count": 17,
   "metadata": {
    "collapsed": false
   },
   "outputs": [
    {
     "data": {
      "text/plain": [
       "dtype: str\n",
       "Rows: ?\n",
       "['LANMAN', 'DNS', 'TCP', 'HTTP', 'TCP', 'UDP', 'POP', 'DNS', 'HTTP', 'DNS', 'HTTP', 'HTTP', 'DNS', 'DNS', 'TCP', 'HTTP', 'TCP', 'UDP', 'TCP', 'DNS', 'TCP', 'TCP', 'DNS', 'HTTP', 'HTTP', 'HTTP', 'TCP', 'UDP', 'DNS', 'TCP', 'TCP', 'HTTP', 'TCP', 'TCP', 'TCP', 'TCP', 'TCP', 'DNS', 'TCP', 'HTTP', 'LANMAN', 'TCP', 'HTTP', 'DNS', 'HTTP', 'HTTP', 'TCP', 'HTTP', 'TCP', 'TCP', 'HTTP', 'TCP', 'SSHv2', 'TCP', 'DNS', 'TCP', 'IMAP', 'TCP', 'HTTP', 'TCP', 'HTTP', 'DNS', 'HTTP', 'IMAP', 'DNS', 'TCP', 'TCP', 'HTTP', 'POP', 'SMTP', 'HTTP', 'TCP', 'TCP', 'eDonkey', 'TCP', 'DNS', 'TCP', 'TCP', 'TCP', 'TCP', 'TLSv1', 'TCP', 'HTTP', 'TCP', 'DNS', 'HTTP', 'TCP', 'DNS', 'DNS', 'DNS', 'TCP', 'DNS', 'UDP', 'TCP', 'HTTP', 'HTTP', 'TLSv1', 'DNS', 'TCP', 'HTTP', ... ]"
      ]
     },
     "execution_count": 17,
     "metadata": {},
     "output_type": "execute_result"
    }
   ],
   "source": [
    "prots"
   ]
  },
  {
   "cell_type": "code",
   "execution_count": 19,
   "metadata": {
    "collapsed": false
   },
   "outputs": [
    {
     "name": "stdout",
     "output_type": "stream",
     "text": [
      "ECHO 1\n",
      "HTTP 46278\n",
      "SSLv3 2\n",
      "POP 2099\n",
      "TLSv1 2943\n",
      "SSHv2 2513\n",
      "ATH 1\n",
      "eDonkey 176\n",
      "NBSS 1545\n",
      "SMB 1545\n",
      "EGD 1\n",
      "LLMNR 1\n",
      "BitTorrent 32\n",
      "TCP 97648\n",
      "NBNS 3\n",
      "LLC 2\n",
      "ANSI C12.22 1\n",
      "QUAKEWORLD 2\n",
      "FTP 232\n",
      "RDP 1812\n",
      "COTP 1811\n",
      "ESP 1\n",
      "TP 1\n",
      "SMTP 4906\n",
      "Gnutella 2\n",
      "DCERPC 1\n",
      "PKTC 2\n",
      "H.225.0 1\n",
      "DNS 44795\n",
      "VNC 1\n",
      "GVSP 8\n",
      "IRC 39\n",
      "IMAP 623\n",
      "UDP 7246\n",
      "RTCP 2\n",
      "RSIP 1\n",
      "MSNMS 7\n",
      "Pathport 2\n",
      "LANMAN 1544\n",
      "QUAKE3 8\n",
      "Socks 1\n",
      "SSL 3\n",
      "VICP 1\n",
      "SSH 22\n",
      "QUIC 6\n",
      "NTP 11\n",
      "BAT_VIS 1\n",
      "MiNT 1\n",
      "TPKT 211\n"
     ]
    }
   ],
   "source": [
    "for x in set(prots):\n",
    "    print x,sum(prots==x)"
   ]
  },
  {
   "cell_type": "code",
   "execution_count": null,
   "metadata": {
    "collapsed": true
   },
   "outputs": [],
   "source": []
  }
 ],
 "metadata": {
  "anaconda-cloud": {},
  "kernelspec": {
   "display_name": "Python [conda env:theano-gpu]",
   "language": "python",
   "name": "conda-env-theano-gpu-py"
  },
  "language_info": {
   "codemirror_mode": {
    "name": "ipython",
    "version": 2
   },
   "file_extension": ".py",
   "mimetype": "text/x-python",
   "name": "python",
   "nbconvert_exporter": "python",
   "pygments_lexer": "ipython2",
   "version": "2.7.12"
  }
 },
 "nbformat": 4,
 "nbformat_minor": 1
}
