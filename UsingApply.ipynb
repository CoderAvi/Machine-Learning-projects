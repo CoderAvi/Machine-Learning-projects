{
 "cells": [
  {
   "cell_type": "code",
   "execution_count": 4,
   "metadata": {
    "collapsed": false
   },
   "outputs": [],
   "source": [
    "import pandas as pd\n",
    "import numpy as np\n",
    "import collections as coll"
   ]
  },
  {
   "cell_type": "code",
   "execution_count": 5,
   "metadata": {
    "collapsed": false
   },
   "outputs": [],
   "source": [
    "df2 = pd.read_csv('/home/kartik/Downloads/iscx-part175.csv')\n",
    "df2['StartTime'] = pd.Series(0.0,index=df2.index)\n",
    "df2['EndTime'] = pd.Series(0.0,index=df2.index)\n",
    "df2['TotalNumBytes'] = pd.Series(0,index=df2.index)\n",
    "df2['NumPacketsExchg'] = pd.Series(0,index=df2.index)"
   ]
  },
  {
   "cell_type": "code",
   "execution_count": 24,
   "metadata": {
    "collapsed": false
   },
   "outputs": [],
   "source": [
    "ipPort = ''\n",
    "\n",
    "# will have all timestamped final value flows\n",
    "#i=0\n",
    "\n",
    "currFlowFeatures = coll.defaultdict(list)\n",
    "overallFlowFeatures = coll.defaultdict(list)\n",
    "currFlowPackets = {}\n",
    "# will have most recent timestamp flow\n",
    "    \n",
    "currFlowStartTime = {}\n",
    "    "
   ]
  },
  {
   "cell_type": "code",
   "execution_count": 25,
   "metadata": {
    "collapsed": false
   },
   "outputs": [],
   "source": [
    "def storeFlows(row):\n",
    "    ipPort = row['Source'] + str(row['SourcePort']) + row['Destination'] + str(row['DestPort'])\n",
    "    i=0\n",
    "    #ipTime = str(row['Time']) + ipPort\n",
    "    #if(row['Flags']==''):\n",
    "     #   continue\n",
    "    try:\n",
    "        if int(row['Flags'],16) & 2 is not 0:\n",
    "            currFlowFeatures[ipPort]= [row['Time'], -1 ,0 ,0]\n",
    "            \n",
    "        \n",
    "        if len(currFlowFeatures[ipPort]) == 0:\n",
    "            currFlowFeatures[ipPort]= [row['Time'], -1 ,0 ,0]\n",
    "            \n",
    "        \n",
    "        currFlowFeatures[ipPort][2] = currFlowFeatures[ipPort][2] + 1\n",
    "        currFlowFeatures[ipPort][3] = currFlowFeatures[ipPort][3] + row['Length']\n",
    "    \n",
    "        if (int(row['Flags'],16) & 1 is not 0) or (row['Time']-currFlowFeatures[ipPort][0])>72:\n",
    "            ipTime = ipPort + str(currFlowFeatures[ipPort][0])\n",
    "            currFlowFeatures[ipPort][1] = row['Time']\n",
    "            overallFlowFeatures[ipTime] = currFlowFeatures[ipPort]\n",
    "            currFlowFeatures[ipPort]=[]\n",
    "            \n",
    "            \n",
    "    except TypeError:\n",
    "        i = i +1"
   ]
  },
  {
   "cell_type": "code",
   "execution_count": 26,
   "metadata": {
    "collapsed": false
   },
   "outputs": [],
   "source": [
    "def updateDf(row,h1,h2,h3,h4):\n",
    "    i =0 \n",
    "    \n",
    "        \n",
    "    ipPort = row['Source'] + str(row['SourcePort']) + row['Destination'] + str(row['DestPort'])\n",
    "    \n",
    "   \n",
    "    try:\n",
    "        if int(row['Flags'],16) & 2 is not 0:\n",
    "            currFlowPackets[ipPort] = 0\n",
    "            currFlowStartTime[ipPort] = row['Time']\n",
    "            \n",
    "    \n",
    "        currFlowPackets[ipPort] = currFlowPackets.get(ipPort,0) + 1\n",
    "        if(currFlowPackets[ipPort]==1):\n",
    "            currFlowStartTime[ipPort] = row['Time']\n",
    "        \n",
    "        ipTime = ipPort + str(currFlowStartTime[ipPort])\n",
    "        try:\n",
    "            if(len(overallFlowFeatures[ipTime]) > 0):\n",
    "                #df2.set_value(index,'StartTime',overallFlowFeatures[ipTime][0])\n",
    "                #print overallFlowFeatures[ipTime][0]\n",
    "                #df2.set_value(index,'EndTime',overallFlowFeatures[ipTime][1])\n",
    "                #df2.set_value(index,'TotalNumBytes',overallFlowFeatures[ipTime][2])\n",
    "                #df2.set_value(index,'NumPacketsExchg',overallFlowFeatures[ipTime][3])\n",
    "                return pd.Series({h1:overallFlowFeatures[ipTime][0],h2:overallFlowFeatures[ipTime][1],h3:overallFlowFeatures[ipTime][2],h4:overallFlowFeatures[ipTime][3]})\n",
    "            \n",
    "        except IndexError:\n",
    "            print ipTime\n",
    "        \n",
    "        \n",
    "            \n",
    "    except TypeError:\n",
    "        i = i +1\n",
    "    \n",
    "        \n",
    "    \n",
    "\n"
   ]
  },
  {
   "cell_type": "code",
   "execution_count": 31,
   "metadata": {
    "collapsed": false
   },
   "outputs": [
    {
     "name": "stdout",
     "output_type": "stream",
     "text": [
      "1 loops, best of 3: 431 ms per loop\n"
     ]
    }
   ],
   "source": [
    "timeit df2.apply(lambda s: storeFlows(s),axis=1)\n"
   ]
  },
  {
   "cell_type": "code",
   "execution_count": 32,
   "metadata": {
    "collapsed": false
   },
   "outputs": [
    {
     "data": {
      "text/plain": [
       "0                                    None\n",
       "1                                    None\n",
       "2                                    None\n",
       "3       [11.489357, 557.0, 0.005619, 3.0]\n",
       "4                                    None\n",
       "5       [11.489357, 557.0, 0.005619, 3.0]\n",
       "6                                    None\n",
       "7                                    None\n",
       "8     [23.243994, 3595.0, 0.011846, 13.0]\n",
       "9     [25.679885, 3067.0, 0.012607, 32.0]\n",
       "10                                   None\n",
       "11                                   None\n",
       "12                                   None\n",
       "13                                   None\n",
       "14                                   None\n",
       "...\n",
       "13167                                  None\n",
       "13168                                  None\n",
       "13169                                  None\n",
       "13170                                  None\n",
       "13171                                  None\n",
       "13172                                  None\n",
       "13173                                  None\n",
       "13174                                  None\n",
       "13175                                  None\n",
       "13176                                  None\n",
       "13177    [26.924372, 707.0, 25.679194, 5.0]\n",
       "13178                                  None\n",
       "13179                                  None\n",
       "13180                                  None\n",
       "13181                                  None\n",
       "Length: 13182, dtype: object"
      ]
     },
     "execution_count": 32,
     "metadata": {},
     "output_type": "execute_result"
    }
   ],
   "source": [
    "df2.apply(lambda s: updateDf(s,'StartTime','EndTime','TotalNumBytes','NumPacketsExchg'),axis=1)"
   ]
  },
  {
   "cell_type": "code",
   "execution_count": null,
   "metadata": {
    "collapsed": false
   },
   "outputs": [],
   "source": []
  }
 ],
 "metadata": {
  "kernelspec": {
   "display_name": "Python [Root]",
   "language": "python",
   "name": "Python [Root]"
  },
  "language_info": {
   "codemirror_mode": {
    "name": "ipython",
    "version": 2
   },
   "file_extension": ".py",
   "mimetype": "text/x-python",
   "name": "python",
   "nbconvert_exporter": "python",
   "pygments_lexer": "ipython2",
   "version": "2.7.12"
  }
 },
 "nbformat": 4,
 "nbformat_minor": 0
}
